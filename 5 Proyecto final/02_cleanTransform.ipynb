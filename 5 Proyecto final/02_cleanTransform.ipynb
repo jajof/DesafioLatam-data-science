{
 "cells": [
  {
   "cell_type": "markdown",
   "id": "a92ad534-1427-4f92-9070-f01dd5984c21",
   "metadata": {
    "id": "a92ad534-1427-4f92-9070-f01dd5984c21"
   },
   "source": [
    "# Limpieza y transformación de datos"
   ]
  },
  {
   "cell_type": "markdown",
   "id": "effaf3a4-b835-4fa5-911d-53ccf9ab6b5d",
   "metadata": {
    "id": "effaf3a4-b835-4fa5-911d-53ccf9ab6b5d"
   },
   "source": [
    "## Preparando el ambiente"
   ]
  },
  {
   "cell_type": "markdown",
   "id": "30b6a3eb-3423-409c-899c-fa072a4c2119",
   "metadata": {
    "id": "30b6a3eb-3423-409c-899c-fa072a4c2119"
   },
   "source": [
    "### Cargando modulos"
   ]
  },
  {
   "cell_type": "code",
   "execution_count": 1,
   "id": "3a5586e8-829e-45bb-8ee0-e9f7f6f1dfc8",
   "metadata": {
    "id": "3a5586e8-829e-45bb-8ee0-e9f7f6f1dfc8"
   },
   "outputs": [],
   "source": [
    "# Cargando módulos\n",
    "# ---------------------------------------------------------------------------------------\n",
    "# Configuración warnings\n",
    "# Importando modulo warnings\n",
    "import warnings\n",
    "\n",
    "# Ignorar warnings\n",
    "warnings.filterwarnings(\"ignore\")\n",
    "\n",
    "# Importando importOrInstall function desde el modulo lib.functChecModule\n",
    "from lib.functChecModule import importOrInstall\n",
    "\n",
    "# Use the importOrInstall function para validar si el modulo 'yaml' module se encuentra instalado, y si es necesario lo instala\n",
    "importOrInstall(\"yaml\")\n",
    "\n",
    "# Use the importOrInstall function para validar si el modulo 'skimpy' module se encuentra instalado, y si es necesario lo instala\n",
    "importOrInstall('skimpy')"
   ]
  },
  {
   "cell_type": "code",
   "execution_count": 2,
   "id": "0e74295e-f897-4195-898c-52792570cbe8",
   "metadata": {
    "id": "0e74295e-f897-4195-898c-52792570cbe8"
   },
   "outputs": [],
   "source": [
    "# Manipulando datos\n",
    "# Importando varios módulos desde pandas\n",
    "from pandas import DataFrame, read_csv, set_option, option_context, to_datetime, Series, Timedelta, merge\n",
    "\n",
    "# Importando varios módulos desde numpy\n",
    "from numpy import nan, where\n",
    "\n",
    "# Importando la clase SafeLoader desde el modulo yaml.loader\n",
    "from yaml.loader import SafeLoader\n",
    "\n",
    "# Importando los módulos json y yaml\n",
    "import json\n",
    "import yaml\n",
    "\n",
    "# Importando el módulo statistics\n",
    "import statistics\n",
    "\n",
    "# Importando la función clean_columns desde el módulo skimpy\n",
    "from skimpy import clean_columns\n",
    "\n",
    "# Importando varios módulos desde datetime\n",
    "from datetime import date, datetime, timedelta\n",
    "\n",
    "# Importando el módulo missingno y asignando el alias msno\n",
    "import missingno as msno\n",
    "\n",
    "# Importando el módulo pickle\n",
    "import pickle\n",
    "\n",
    "# Importando los módulos os y glob\n",
    "import os\n",
    "import glob\n",
    "\n",
    "# Importando varios módulos desde psycopg2\n",
    "# import psycopg2\n",
    "# from psycopg2 import connect, extensions, sql\n",
    "\n",
    "# Importando la función create_engine desde sqlalchemy\n",
    "# from sqlalchemy import create_engine\n",
    "\n",
    "# Importando funciones custom custom desde el módulo lib.functDescriptiveAnalysis \n",
    "from lib.functDescriptiveAnalysis import inspectDataFrameDA, countNaNDA\n",
    "\n",
    "# Importando funciones custom custom desde el módulo lib.functCleanData\n",
    "from lib.functCleanData import convert_float, whitespaceRemover"
   ]
  },
  {
   "cell_type": "markdown",
   "id": "6c2a30b2-d127-4576-a6ac-74fd7c3b2ca6",
   "metadata": {
    "id": "6c2a30b2-d127-4576-a6ac-74fd7c3b2ca6"
   },
   "source": [
    "### Eliminando archivos plk"
   ]
  },
  {
   "cell_type": "code",
   "execution_count": 3,
   "id": "a201e804-8be2-432d-b394-a8d921d5f51f",
   "metadata": {
    "id": "a201e804-8be2-432d-b394-a8d921d5f51f",
    "outputId": "265ce081-0b04-47f7-bd31-c84f834785ac"
   },
   "outputs": [
    {
     "name": "stdout",
     "output_type": "stream",
     "text": [
      "Archivo purchase_order.plk removido exitosamente\n",
      "Archivo product_order.plk removido exitosamente\n",
      "Archivo shopper.plk removido exitosamente\n",
      "Archivo store.plk removido exitosamente\n",
      "Archivo dataset_full_data.plk removido exitosamente\n",
      "Archivo dataset_pre_modelacion.plk removido exitosamente\n"
     ]
    }
   ],
   "source": [
    "# Obtiene archivos desde la carpeta de salida\n",
    "# Este código en Python recorre un directorio en busca de archivos con extensión \".plk\" y los elimina.\n",
    "# Si no se encuentran archivos con esa extensión, se imprime un mensaje indicando que no se encontraron \n",
    "# archivos en el directorio especificado. La línea lstPlk = [f for f in os.listdir('data/output/') if f.endswith('.plk')] \n",
    "# utiliza una list comprehension para crear una lista de archivos que cumplan la condición de tener la extensión \".plk\".\n",
    "# La siguiente sección del código, if(len(lstPlk) > 0):, verifica si la lista creada anteriormente contiene algún elemento. \n",
    "# Si contiene al menos un elemento, se recorre la lista con un ciclo for y se elimina cada archivo con la función os.remove().\n",
    "# Si se produce un error al intentar eliminar un archivo, se imprime un mensaje con el error y el nombre del archivo.\n",
    "# Si no se encuentran archivos en el directorio, se imprime un mensaje indicando que no se encontraron archivos en el directorio especificado.\n",
    "\n",
    "lstPlk = [f for f in os.listdir('data/output/') if f.endswith('.plk')]\n",
    "if(len(lstPlk) > 0):\n",
    "    for fName in lstPlk:\n",
    "        try:\n",
    "            os.remove('data/output/' + fName)\n",
    "            print(\"Archivo %s removido exitosamente\" % fName)\n",
    "        except OSError as error:\n",
    "            print(error)\n",
    "            print(\"Archivo %s no pudo ser removido\" % fName)\n",
    "else:\n",
    "    print(\"No se encontraron archivos en el directorio data/output/\")"
   ]
  },
  {
   "cell_type": "markdown",
   "id": "f04dda33-70cb-49bc-9ad8-a2c3b86e9111",
   "metadata": {
    "id": "f04dda33-70cb-49bc-9ad8-a2c3b86e9111"
   },
   "source": [
    "## Cargando dataset's"
   ]
  },
  {
   "cell_type": "markdown",
   "id": "ff2c891c-693b-4e3c-82a9-c4f0ba193448",
   "metadata": {
    "id": "ff2c891c-693b-4e3c-82a9-c4f0ba193448"
   },
   "source": [
    "### Dataset: orden de compra (purchase_order)"
   ]
  },
  {
   "cell_type": "code",
   "execution_count": 4,
   "id": "7c3ea415-825d-42f0-be49-899fe14ebf51",
   "metadata": {
    "id": "7c3ea415-825d-42f0-be49-899fe14ebf51",
    "outputId": "ac696a12-ad87-46f4-e4f4-71b385a95e1e"
   },
   "outputs": [
    {
     "data": {
      "text/html": [
       "<div>\n",
       "<style scoped>\n",
       "    .dataframe tbody tr th:only-of-type {\n",
       "        vertical-align: middle;\n",
       "    }\n",
       "\n",
       "    .dataframe tbody tr th {\n",
       "        vertical-align: top;\n",
       "    }\n",
       "\n",
       "    .dataframe thead th {\n",
       "        text-align: right;\n",
       "    }\n",
       "</style>\n",
       "<table border=\"1\" class=\"dataframe\">\n",
       "  <thead>\n",
       "    <tr style=\"text-align: right;\">\n",
       "      <th></th>\n",
       "      <th>order_id</th>\n",
       "      <th>lat</th>\n",
       "      <th>lng</th>\n",
       "      <th>dow</th>\n",
       "      <th>promised_time</th>\n",
       "      <th>actual_time</th>\n",
       "      <th>on_demand</th>\n",
       "      <th>picker_id</th>\n",
       "      <th>driver_id</th>\n",
       "      <th>store_branch_id</th>\n",
       "      <th>total_minutes</th>\n",
       "    </tr>\n",
       "  </thead>\n",
       "  <tbody>\n",
       "    <tr>\n",
       "      <th>0</th>\n",
       "      <td>6abd5e28d01b7c733fe37485294235dc</td>\n",
       "      <td>1.822.114.109.606.680</td>\n",
       "      <td>-10.031.391.366.664.600</td>\n",
       "      <td>2</td>\n",
       "      <td>13:00:00</td>\n",
       "      <td>12:00:15</td>\n",
       "      <td>False</td>\n",
       "      <td>09bb5bfe76adbb474dddbdd111a51623</td>\n",
       "      <td>09bb5bfe76adbb474dddbdd111a51623</td>\n",
       "      <td>0dc6fb5924a8b917bc641666ed02663c</td>\n",
       "      <td>91.800.861</td>\n",
       "    </tr>\n",
       "    <tr>\n",
       "      <th>1</th>\n",
       "      <td>0d37a1eea001f01b40232ffd496ff663</td>\n",
       "      <td>18.177.712.202.580.300</td>\n",
       "      <td>-10.035.705.073.096.900</td>\n",
       "      <td>2</td>\n",
       "      <td>13:00:00</td>\n",
       "      <td>10:28:10</td>\n",
       "      <td>False</td>\n",
       "      <td>c4c722114a82fa21654e57e9636d68b0</td>\n",
       "      <td>c4c722114a82fa21654e57e9636d68b0</td>\n",
       "      <td>2bbf833e689d24b697f1f3529c3f3c4b</td>\n",
       "      <td>206.599.732</td>\n",
       "    </tr>\n",
       "    <tr>\n",
       "      <th>2</th>\n",
       "      <td>528428e9b9eb5d3bd0dbdd8da692b087</td>\n",
       "      <td>1.826.683.205.404.410</td>\n",
       "      <td>-10.031.755.280.890.600</td>\n",
       "      <td>2</td>\n",
       "      <td>11:00:00</td>\n",
       "      <td>10:40:50</td>\n",
       "      <td>False</td>\n",
       "      <td>e15c7a67d0ea9a54dffb410bc1d8528b</td>\n",
       "      <td>e15c7a67d0ea9a54dffb410bc1d8528b</td>\n",
       "      <td>8d891dfc0e29d744c15c18adced74a68</td>\n",
       "      <td>93.458.001</td>\n",
       "    </tr>\n",
       "    <tr>\n",
       "      <th>3</th>\n",
       "      <td>d3f7be6d64eae7405b7bf024e04807a2</td>\n",
       "      <td>18.248.884.004.419.400</td>\n",
       "      <td>-1.003.226.215.187.040</td>\n",
       "      <td>2</td>\n",
       "      <td>10:00:00</td>\n",
       "      <td>9:41:47</td>\n",
       "      <td>False</td>\n",
       "      <td>d1f0bd4b237c1358f09db22076b940e7</td>\n",
       "      <td>d1f0bd4b237c1358f09db22076b940e7</td>\n",
       "      <td>0dc6fb5924a8b917bc641666ed02663c</td>\n",
       "      <td>124.778.761</td>\n",
       "    </tr>\n",
       "    <tr>\n",
       "      <th>4</th>\n",
       "      <td>e0ad6533b6cd9a382ec6c1d473c5036c</td>\n",
       "      <td>1.822.911.027.242.010</td>\n",
       "      <td>-10.032.267.241.783.800</td>\n",
       "      <td>2</td>\n",
       "      <td>11:00:00</td>\n",
       "      <td>10:07:53</td>\n",
       "      <td>False</td>\n",
       "      <td>06a71e8ab0c6db5ce22a4689fd76a3f4</td>\n",
       "      <td>06a71e8ab0c6db5ce22a4689fd76a3f4</td>\n",
       "      <td>afd0a7b8d546fcc697bb93a5934b65c3</td>\n",
       "      <td>130.321.208</td>\n",
       "    </tr>\n",
       "  </tbody>\n",
       "</table>\n",
       "</div>"
      ],
      "text/plain": [
       "                           order_id                     lat  \\\n",
       "0  6abd5e28d01b7c733fe37485294235dc   1.822.114.109.606.680   \n",
       "1  0d37a1eea001f01b40232ffd496ff663  18.177.712.202.580.300   \n",
       "2  528428e9b9eb5d3bd0dbdd8da692b087   1.826.683.205.404.410   \n",
       "3  d3f7be6d64eae7405b7bf024e04807a2  18.248.884.004.419.400   \n",
       "4  e0ad6533b6cd9a382ec6c1d473c5036c   1.822.911.027.242.010   \n",
       "\n",
       "                       lng  dow promised_time actual_time  on_demand  \\\n",
       "0  -10.031.391.366.664.600    2      13:00:00    12:00:15      False   \n",
       "1  -10.035.705.073.096.900    2      13:00:00    10:28:10      False   \n",
       "2  -10.031.755.280.890.600    2      11:00:00    10:40:50      False   \n",
       "3   -1.003.226.215.187.040    2      10:00:00     9:41:47      False   \n",
       "4  -10.032.267.241.783.800    2      11:00:00    10:07:53      False   \n",
       "\n",
       "                          picker_id                         driver_id  \\\n",
       "0  09bb5bfe76adbb474dddbdd111a51623  09bb5bfe76adbb474dddbdd111a51623   \n",
       "1  c4c722114a82fa21654e57e9636d68b0  c4c722114a82fa21654e57e9636d68b0   \n",
       "2  e15c7a67d0ea9a54dffb410bc1d8528b  e15c7a67d0ea9a54dffb410bc1d8528b   \n",
       "3  d1f0bd4b237c1358f09db22076b940e7  d1f0bd4b237c1358f09db22076b940e7   \n",
       "4  06a71e8ab0c6db5ce22a4689fd76a3f4  06a71e8ab0c6db5ce22a4689fd76a3f4   \n",
       "\n",
       "                    store_branch_id total_minutes  \n",
       "0  0dc6fb5924a8b917bc641666ed02663c    91.800.861  \n",
       "1  2bbf833e689d24b697f1f3529c3f3c4b   206.599.732  \n",
       "2  8d891dfc0e29d744c15c18adced74a68    93.458.001  \n",
       "3  0dc6fb5924a8b917bc641666ed02663c   124.778.761  \n",
       "4  afd0a7b8d546fcc697bb93a5934b65c3   130.321.208  "
      ]
     },
     "metadata": {},
     "output_type": "display_data"
    }
   ],
   "source": [
    "# Preparando los datos\n",
    "# ---------------------------------------------------------------------------------------\n",
    "# Cargando datos\n",
    "# Cargando datos de la orden de compra desde el archivo especificado\n",
    "purchase_order = read_csv('data/input/1_Orden_compra.csv', sep = ';', encoding='utf-8')\n",
    "# Usamos la función option_context para establecer el número máximo de columnas para mostrar\n",
    "with option_context(\"display.max_columns\", None):\n",
    "    # Usamos la función de visualización para mostrar las primeras 5 filas de los datos\n",
    "    display(purchase_order.head(n = 5))"
   ]
  },
  {
   "cell_type": "code",
   "execution_count": 5,
   "id": "1ba2dc90-0325-4ecc-9434-ce71427808fe",
   "metadata": {
    "id": "1ba2dc90-0325-4ecc-9434-ce71427808fe",
    "outputId": "6f291b84-5b72-4e82-dae3-f2284ae34b6c"
   },
   "outputs": [
    {
     "data": {
      "text/plain": [
       "['order_id',\n",
       " 'lat',\n",
       " 'lng',\n",
       " 'dow',\n",
       " 'promised_time',\n",
       " 'actual_time',\n",
       " 'on_demand',\n",
       " 'picker_id',\n",
       " 'driver_id',\n",
       " 'store_branch_id',\n",
       " 'total_minutes']"
      ]
     },
     "execution_count": 5,
     "metadata": {},
     "output_type": "execute_result"
    }
   ],
   "source": [
    "# Otiene una lista de nombres de columnas de un DataFrame de pandas.\n",
    "purchase_order.columns.to_list()"
   ]
  },
  {
   "cell_type": "markdown",
   "id": "6201f404-4d5f-40c3-9439-240b73d40c82",
   "metadata": {
    "id": "6201f404-4d5f-40c3-9439-240b73d40c82"
   },
   "source": [
    "#### Normalizando nombre de columnas"
   ]
  },
  {
   "cell_type": "code",
   "execution_count": 6,
   "id": "4ff25559-615a-40d1-b20d-fbbcb31ce255",
   "metadata": {
    "id": "4ff25559-615a-40d1-b20d-fbbcb31ce255",
    "outputId": "40677880-e4d7-412b-9292-acc9048bdb38"
   },
   "outputs": [
    {
     "data": {
      "text/html": [
       "<pre style=\"white-space:pre;overflow-x:auto;line-height:normal;font-family:Menlo,'DejaVu Sans Mono',consolas,'Courier New',monospace\"><span style=\"color: #008080; text-decoration-color: #008080; font-weight: bold\">0</span> column names have been cleaned\n",
       "</pre>\n"
      ],
      "text/plain": [
       "\u001b[1;36m0\u001b[0m column names have been cleaned\n"
      ]
     },
     "metadata": {},
     "output_type": "display_data"
    },
    {
     "data": {
      "text/plain": [
       "['order_id',\n",
       " 'lat',\n",
       " 'lng',\n",
       " 'dow',\n",
       " 'promised_time',\n",
       " 'actual_time',\n",
       " 'on_demand',\n",
       " 'picker_id',\n",
       " 'driver_id',\n",
       " 'store_branch_id',\n",
       " 'total_minutes']"
      ]
     },
     "execution_count": 6,
     "metadata": {},
     "output_type": "execute_result"
    }
   ],
   "source": [
    "# Asigna al dataframe el resultado de llamar a la función clean_columns().\n",
    "# Esta función tiene como objetivo limpiar los nombres de las columnas del DataFrame.\n",
    "# Elimina los caracteres especiales y los espacios los reemplaza por un _\n",
    "purchase_order = clean_columns(purchase_order, case = 'snake')\n",
    "# Obtiene una lista de nombres de columnas de un DataFrame de pandas.\n",
    "purchase_order.columns.to_list()"
   ]
  },
  {
   "cell_type": "markdown",
   "id": "22c9e1d3-70f2-481a-9ba6-c34b2c7ec170",
   "metadata": {
    "id": "22c9e1d3-70f2-481a-9ba6-c34b2c7ec170"
   },
   "source": [
    "#### Eliminando valores perdidos"
   ]
  },
  {
   "cell_type": "code",
   "execution_count": 7,
   "id": "282ba93e-a72c-4183-b87c-169dab1afe0c",
   "metadata": {
    "id": "282ba93e-a72c-4183-b87c-169dab1afe0c"
   },
   "outputs": [],
   "source": [
    "# Limpieza de datos\n",
    "# ---------------------------------------------------------------------------------------\n",
    "# Eliminando valores perdidos\n",
    "purchase_order.dropna(inplace=True)\n",
    "purchase_order = purchase_order.reset_index(drop=True)"
   ]
  },
  {
   "cell_type": "markdown",
   "id": "XW1oTQnirl3z",
   "metadata": {
    "id": "XW1oTQnirl3z"
   },
   "source": [
    "#### Eliminando valores duplicados"
   ]
  },
  {
   "cell_type": "code",
   "execution_count": 8,
   "id": "3u2E_iP-rsG_",
   "metadata": {
    "id": "3u2E_iP-rsG_"
   },
   "outputs": [],
   "source": [
    "# Eliminando valores duplicados\n",
    "purchase_order = purchase_order.drop_duplicates()\n",
    "purchase_order = purchase_order.reset_index(drop=True)"
   ]
  },
  {
   "cell_type": "markdown",
   "id": "587c73f9-46ca-498e-8f0b-ca61c960b617",
   "metadata": {
    "id": "587c73f9-46ca-498e-8f0b-ca61c960b617"
   },
   "source": [
    "#### Normalizando columnas para eliminar puntos adicionales y ajustando largo de decimales"
   ]
  },
  {
   "cell_type": "code",
   "execution_count": 9,
   "id": "213c3818-14fe-4eae-a68e-a91f62d51314",
   "metadata": {
    "id": "213c3818-14fe-4eae-a68e-a91f62d51314"
   },
   "outputs": [],
   "source": [
    "# Normalizando columnas de tipo objeto a float64\n",
    "#Transformar la columna \"total_minutes\" de un DataFrame.\n",
    "# La función DataFrame.map() aplica una función lambda a cada elemento de la columna seleccionada\n",
    "# y devuelve una serie con los resultados.\n",
    "# En este caso, la función lambda recibe como argumento x y llama a una función externa llamada convert_float() pasando x como argumento.\n",
    "# Esta función tiene como objetivo convertir un string a un número de punto flotante.\n",
    "# En ete caso elimina los puntos \"sobrantes\" despues del primer punto de izquiera a derecha\n",
    "purchase_order['total_minutes'] = purchase_order['total_minutes'].map(lambda x: convert_float(x))\n",
    "\n",
    "# eliminando . (puntos) despues del primer punto a la izquierda\n",
    "# transformando las columnas \"lat\" y \"lng\" del DataFrame.\n",
    "# La función DataFrame.map() aplica una función lambda a cada elemento de la columna seleccionada\n",
    "# y devuelve una serie con los resultados.\n",
    "# En este caso, la función lambda recibe como argumento x y reemplaza cada \".\" en el string con una cadena vacía\n",
    "# (es decir, elimina los puntos decimales). Luego, \n",
    "# se extraen los primeros dos dígitos para la columna \"lat\" \n",
    "# y los primeros tres dígitos para la columna \"lng\",\n",
    "# luego se concatenan con un nuevo punto decimal y los siguientes cinco dígitos del string original \n",
    "# (considerando la posición inicial dependiendo de la columna).\n",
    "# Por último, se utiliza la función Series.astype() para cambiar el tipo de datos de las columnas \"lat\" y \"lng\" a float64.\n",
    "# Esto se hace para que los valores de las columnas puedan ser tratados como números.\n",
    "\n",
    "# purchase_order['lat'] = purchase_order['lat'].map(lambda x: x[0:x.find('.')] + '.' + x[x.find('.'):].replace('.', '')[0:5]).astype(float)\n",
    "# purchase_order['lng'] = purchase_order['lng'].map(lambda x: x[0:x.find('.')] + '.' + x[x.find('.'):].replace('.', '')[0:5]).astype(float)\n",
    "purchase_order['lat'] = purchase_order['lat'].map(lambda x: x.replace('.', '')[:2] + '.' + x.replace('.', '')[2:7]).astype('float64')\n",
    "purchase_order['lng'] = purchase_order['lng'].map(lambda x: x.replace('.', '')[:3] + '.' + x.replace('.', '')[3:8]).astype('float64')"
   ]
  },
  {
   "cell_type": "markdown",
   "id": "ce04665a-727c-467c-803a-8d883f70b405",
   "metadata": {
    "id": "ce04665a-727c-467c-803a-8d883f70b405"
   },
   "source": [
    "##### Inspeccion visual transformaciones"
   ]
  },
  {
   "cell_type": "code",
   "execution_count": 10,
   "id": "4deeb5b5-96bf-4b0b-b27b-e6b4e565cc3b",
   "metadata": {
    "executionInfo": {
     "elapsed": 11,
     "status": "aborted",
     "timestamp": 1670595995297,
     "user": {
      "displayName": "Mauricio Gómez",
      "userId": "10814864803377136572"
     },
     "user_tz": 180
    },
    "id": "4deeb5b5-96bf-4b0b-b27b-e6b4e565cc3b",
    "outputId": "e026aeb4-8934-412e-8eb5-27e848db4234"
   },
   "outputs": [
    {
     "data": {
      "text/html": [
       "<div>\n",
       "<style scoped>\n",
       "    .dataframe tbody tr th:only-of-type {\n",
       "        vertical-align: middle;\n",
       "    }\n",
       "\n",
       "    .dataframe tbody tr th {\n",
       "        vertical-align: top;\n",
       "    }\n",
       "\n",
       "    .dataframe thead th {\n",
       "        text-align: right;\n",
       "    }\n",
       "</style>\n",
       "<table border=\"1\" class=\"dataframe\">\n",
       "  <thead>\n",
       "    <tr style=\"text-align: right;\">\n",
       "      <th></th>\n",
       "      <th>order_id</th>\n",
       "      <th>lat</th>\n",
       "      <th>lng</th>\n",
       "      <th>dow</th>\n",
       "      <th>promised_time</th>\n",
       "      <th>actual_time</th>\n",
       "      <th>on_demand</th>\n",
       "      <th>picker_id</th>\n",
       "      <th>driver_id</th>\n",
       "      <th>store_branch_id</th>\n",
       "      <th>total_minutes</th>\n",
       "    </tr>\n",
       "  </thead>\n",
       "  <tbody>\n",
       "    <tr>\n",
       "      <th>0</th>\n",
       "      <td>6abd5e28d01b7c733fe37485294235dc</td>\n",
       "      <td>18.22114</td>\n",
       "      <td>-10.03139</td>\n",
       "      <td>2</td>\n",
       "      <td>13:00:00</td>\n",
       "      <td>12:00:15</td>\n",
       "      <td>False</td>\n",
       "      <td>09bb5bfe76adbb474dddbdd111a51623</td>\n",
       "      <td>09bb5bfe76adbb474dddbdd111a51623</td>\n",
       "      <td>0dc6fb5924a8b917bc641666ed02663c</td>\n",
       "      <td>91.800861</td>\n",
       "    </tr>\n",
       "    <tr>\n",
       "      <th>1</th>\n",
       "      <td>0d37a1eea001f01b40232ffd496ff663</td>\n",
       "      <td>18.17771</td>\n",
       "      <td>-10.03570</td>\n",
       "      <td>2</td>\n",
       "      <td>13:00:00</td>\n",
       "      <td>10:28:10</td>\n",
       "      <td>False</td>\n",
       "      <td>c4c722114a82fa21654e57e9636d68b0</td>\n",
       "      <td>c4c722114a82fa21654e57e9636d68b0</td>\n",
       "      <td>2bbf833e689d24b697f1f3529c3f3c4b</td>\n",
       "      <td>206.599732</td>\n",
       "    </tr>\n",
       "    <tr>\n",
       "      <th>2</th>\n",
       "      <td>528428e9b9eb5d3bd0dbdd8da692b087</td>\n",
       "      <td>18.26683</td>\n",
       "      <td>-10.03175</td>\n",
       "      <td>2</td>\n",
       "      <td>11:00:00</td>\n",
       "      <td>10:40:50</td>\n",
       "      <td>False</td>\n",
       "      <td>e15c7a67d0ea9a54dffb410bc1d8528b</td>\n",
       "      <td>e15c7a67d0ea9a54dffb410bc1d8528b</td>\n",
       "      <td>8d891dfc0e29d744c15c18adced74a68</td>\n",
       "      <td>93.458001</td>\n",
       "    </tr>\n",
       "    <tr>\n",
       "      <th>3</th>\n",
       "      <td>d3f7be6d64eae7405b7bf024e04807a2</td>\n",
       "      <td>18.24888</td>\n",
       "      <td>-10.03226</td>\n",
       "      <td>2</td>\n",
       "      <td>10:00:00</td>\n",
       "      <td>9:41:47</td>\n",
       "      <td>False</td>\n",
       "      <td>d1f0bd4b237c1358f09db22076b940e7</td>\n",
       "      <td>d1f0bd4b237c1358f09db22076b940e7</td>\n",
       "      <td>0dc6fb5924a8b917bc641666ed02663c</td>\n",
       "      <td>124.778761</td>\n",
       "    </tr>\n",
       "    <tr>\n",
       "      <th>4</th>\n",
       "      <td>e0ad6533b6cd9a382ec6c1d473c5036c</td>\n",
       "      <td>18.22911</td>\n",
       "      <td>-10.03226</td>\n",
       "      <td>2</td>\n",
       "      <td>11:00:00</td>\n",
       "      <td>10:07:53</td>\n",
       "      <td>False</td>\n",
       "      <td>06a71e8ab0c6db5ce22a4689fd76a3f4</td>\n",
       "      <td>06a71e8ab0c6db5ce22a4689fd76a3f4</td>\n",
       "      <td>afd0a7b8d546fcc697bb93a5934b65c3</td>\n",
       "      <td>130.321208</td>\n",
       "    </tr>\n",
       "  </tbody>\n",
       "</table>\n",
       "</div>"
      ],
      "text/plain": [
       "                           order_id       lat       lng  dow promised_time  \\\n",
       "0  6abd5e28d01b7c733fe37485294235dc  18.22114 -10.03139    2      13:00:00   \n",
       "1  0d37a1eea001f01b40232ffd496ff663  18.17771 -10.03570    2      13:00:00   \n",
       "2  528428e9b9eb5d3bd0dbdd8da692b087  18.26683 -10.03175    2      11:00:00   \n",
       "3  d3f7be6d64eae7405b7bf024e04807a2  18.24888 -10.03226    2      10:00:00   \n",
       "4  e0ad6533b6cd9a382ec6c1d473c5036c  18.22911 -10.03226    2      11:00:00   \n",
       "\n",
       "  actual_time  on_demand                         picker_id  \\\n",
       "0    12:00:15      False  09bb5bfe76adbb474dddbdd111a51623   \n",
       "1    10:28:10      False  c4c722114a82fa21654e57e9636d68b0   \n",
       "2    10:40:50      False  e15c7a67d0ea9a54dffb410bc1d8528b   \n",
       "3     9:41:47      False  d1f0bd4b237c1358f09db22076b940e7   \n",
       "4    10:07:53      False  06a71e8ab0c6db5ce22a4689fd76a3f4   \n",
       "\n",
       "                          driver_id                   store_branch_id  \\\n",
       "0  09bb5bfe76adbb474dddbdd111a51623  0dc6fb5924a8b917bc641666ed02663c   \n",
       "1  c4c722114a82fa21654e57e9636d68b0  2bbf833e689d24b697f1f3529c3f3c4b   \n",
       "2  e15c7a67d0ea9a54dffb410bc1d8528b  8d891dfc0e29d744c15c18adced74a68   \n",
       "3  d1f0bd4b237c1358f09db22076b940e7  0dc6fb5924a8b917bc641666ed02663c   \n",
       "4  06a71e8ab0c6db5ce22a4689fd76a3f4  afd0a7b8d546fcc697bb93a5934b65c3   \n",
       "\n",
       "   total_minutes  \n",
       "0      91.800861  \n",
       "1     206.599732  \n",
       "2      93.458001  \n",
       "3     124.778761  \n",
       "4     130.321208  "
      ]
     },
     "metadata": {},
     "output_type": "display_data"
    }
   ],
   "source": [
    "# Usamos la función option_context para establecer el número máximo de columnas para mostrar\n",
    "with option_context(\"display.max_columns\", None):\n",
    "# Usamos la función de visualización para mostrar las primeras 5 filas de los datos\n",
    "    display(purchase_order.head(n = 5))"
   ]
  },
  {
   "cell_type": "markdown",
   "id": "6b4af594-7d85-4c65-a71b-3b8f65e8c38b",
   "metadata": {
    "id": "6b4af594-7d85-4c65-a71b-3b8f65e8c38b"
   },
   "source": [
    "#### Creando atributos calculados"
   ]
  },
  {
   "cell_type": "code",
   "execution_count": 11,
   "id": "f3d23c46-d158-4567-8ea3-b893d078fb06",
   "metadata": {
    "id": "f3d23c46-d158-4567-8ea3-b893d078fb06"
   },
   "outputs": [],
   "source": [
    "# Transformando atributos de tipo datetime, time\n",
    "#purchase_order['actual_reception_time'] = to_datetime(purchase_order['actual_time'].str.strip(), format = '%H:%M:%S')\n",
    "#purchase_order['promised_delivery_time'] = to_datetime(purchase_order['promised_time'].str.strip(), format='%H:%M:%S')\n",
    "purchase_order['actual_reception_time'] = purchase_order['actual_time'].apply(lambda x: to_datetime(x.strip(), format = '%H:%M:%S') + timedelta(1) if str(x)[:x.find(':')] == '0' else to_datetime(x.strip(), format = '%H:%M:%S'))\n",
    "purchase_order['promised_delivery_time'] = purchase_order['promised_time'].apply(lambda x: to_datetime(x.strip(), format = '%H:%M:%S') + timedelta(1) if str(x)[:x.find(':')] == '0' else to_datetime(x.strip(), format = '%H:%M:%S'))\n",
    "purchase_order['total_minutes_td'] = Series([Timedelta(minutes = row) for row in purchase_order['total_minutes']])\n",
    "purchase_order['order_time'] = purchase_order['actual_reception_time'] - purchase_order['total_minutes_td']\n",
    "purchase_order['model_1_dt_time'] = purchase_order['promised_delivery_time'] - purchase_order['order_time']\n",
    "purchase_order['model_1_time'] = Series([row.total_seconds()/60 for row in purchase_order['model_1_dt_time']])\n",
    "purchase_order = purchase_order[purchase_order['order_time'] < purchase_order['promised_delivery_time']]"
   ]
  },
  {
   "cell_type": "markdown",
   "id": "5b98350a-c623-4aed-bc55-0677d948b912",
   "metadata": {
    "id": "5b98350a-c623-4aed-bc55-0677d948b912",
    "tags": []
   },
   "source": [
    "##### Inspección visual transformaciones"
   ]
  },
  {
   "cell_type": "code",
   "execution_count": 12,
   "id": "4fc6aee3-8230-4a6b-831a-45ad31166ab7",
   "metadata": {
    "id": "4fc6aee3-8230-4a6b-831a-45ad31166ab7",
    "outputId": "9de28649-dbd5-4057-b0a1-b88c663caa8d"
   },
   "outputs": [
    {
     "data": {
      "text/html": [
       "<div>\n",
       "<style scoped>\n",
       "    .dataframe tbody tr th:only-of-type {\n",
       "        vertical-align: middle;\n",
       "    }\n",
       "\n",
       "    .dataframe tbody tr th {\n",
       "        vertical-align: top;\n",
       "    }\n",
       "\n",
       "    .dataframe thead th {\n",
       "        text-align: right;\n",
       "    }\n",
       "</style>\n",
       "<table border=\"1\" class=\"dataframe\">\n",
       "  <thead>\n",
       "    <tr style=\"text-align: right;\">\n",
       "      <th></th>\n",
       "      <th>order_id</th>\n",
       "      <th>lat</th>\n",
       "      <th>lng</th>\n",
       "      <th>dow</th>\n",
       "      <th>promised_time</th>\n",
       "      <th>actual_time</th>\n",
       "      <th>on_demand</th>\n",
       "      <th>picker_id</th>\n",
       "      <th>driver_id</th>\n",
       "      <th>store_branch_id</th>\n",
       "      <th>total_minutes</th>\n",
       "      <th>actual_reception_time</th>\n",
       "      <th>promised_delivery_time</th>\n",
       "      <th>total_minutes_td</th>\n",
       "      <th>order_time</th>\n",
       "      <th>model_1_dt_time</th>\n",
       "      <th>model_1_time</th>\n",
       "    </tr>\n",
       "  </thead>\n",
       "  <tbody>\n",
       "    <tr>\n",
       "      <th>0</th>\n",
       "      <td>6abd5e28d01b7c733fe37485294235dc</td>\n",
       "      <td>18.22114</td>\n",
       "      <td>-10.03139</td>\n",
       "      <td>2</td>\n",
       "      <td>13:00:00</td>\n",
       "      <td>12:00:15</td>\n",
       "      <td>False</td>\n",
       "      <td>09bb5bfe76adbb474dddbdd111a51623</td>\n",
       "      <td>09bb5bfe76adbb474dddbdd111a51623</td>\n",
       "      <td>0dc6fb5924a8b917bc641666ed02663c</td>\n",
       "      <td>91.800861</td>\n",
       "      <td>1900-01-01 12:00:15</td>\n",
       "      <td>1900-01-01 13:00:00</td>\n",
       "      <td>0 days 01:31:48.051660</td>\n",
       "      <td>1900-01-01 10:28:26.948340000</td>\n",
       "      <td>0 days 02:31:33.051660</td>\n",
       "      <td>151.550861</td>\n",
       "    </tr>\n",
       "    <tr>\n",
       "      <th>1</th>\n",
       "      <td>0d37a1eea001f01b40232ffd496ff663</td>\n",
       "      <td>18.17771</td>\n",
       "      <td>-10.03570</td>\n",
       "      <td>2</td>\n",
       "      <td>13:00:00</td>\n",
       "      <td>10:28:10</td>\n",
       "      <td>False</td>\n",
       "      <td>c4c722114a82fa21654e57e9636d68b0</td>\n",
       "      <td>c4c722114a82fa21654e57e9636d68b0</td>\n",
       "      <td>2bbf833e689d24b697f1f3529c3f3c4b</td>\n",
       "      <td>206.599732</td>\n",
       "      <td>1900-01-01 10:28:10</td>\n",
       "      <td>1900-01-01 13:00:00</td>\n",
       "      <td>0 days 03:26:35.983919999</td>\n",
       "      <td>1900-01-01 07:01:34.016080001</td>\n",
       "      <td>0 days 05:58:25.983919999</td>\n",
       "      <td>358.433065</td>\n",
       "    </tr>\n",
       "    <tr>\n",
       "      <th>2</th>\n",
       "      <td>528428e9b9eb5d3bd0dbdd8da692b087</td>\n",
       "      <td>18.26683</td>\n",
       "      <td>-10.03175</td>\n",
       "      <td>2</td>\n",
       "      <td>11:00:00</td>\n",
       "      <td>10:40:50</td>\n",
       "      <td>False</td>\n",
       "      <td>e15c7a67d0ea9a54dffb410bc1d8528b</td>\n",
       "      <td>e15c7a67d0ea9a54dffb410bc1d8528b</td>\n",
       "      <td>8d891dfc0e29d744c15c18adced74a68</td>\n",
       "      <td>93.458001</td>\n",
       "      <td>1900-01-01 10:40:50</td>\n",
       "      <td>1900-01-01 11:00:00</td>\n",
       "      <td>0 days 01:33:27.480060</td>\n",
       "      <td>1900-01-01 09:07:22.519940000</td>\n",
       "      <td>0 days 01:52:37.480060</td>\n",
       "      <td>112.624668</td>\n",
       "    </tr>\n",
       "    <tr>\n",
       "      <th>3</th>\n",
       "      <td>d3f7be6d64eae7405b7bf024e04807a2</td>\n",
       "      <td>18.24888</td>\n",
       "      <td>-10.03226</td>\n",
       "      <td>2</td>\n",
       "      <td>10:00:00</td>\n",
       "      <td>9:41:47</td>\n",
       "      <td>False</td>\n",
       "      <td>d1f0bd4b237c1358f09db22076b940e7</td>\n",
       "      <td>d1f0bd4b237c1358f09db22076b940e7</td>\n",
       "      <td>0dc6fb5924a8b917bc641666ed02663c</td>\n",
       "      <td>124.778761</td>\n",
       "      <td>1900-01-01 09:41:47</td>\n",
       "      <td>1900-01-01 10:00:00</td>\n",
       "      <td>0 days 02:04:46.725660</td>\n",
       "      <td>1900-01-01 07:37:00.274340000</td>\n",
       "      <td>0 days 02:22:59.725660</td>\n",
       "      <td>142.995428</td>\n",
       "    </tr>\n",
       "    <tr>\n",
       "      <th>4</th>\n",
       "      <td>e0ad6533b6cd9a382ec6c1d473c5036c</td>\n",
       "      <td>18.22911</td>\n",
       "      <td>-10.03226</td>\n",
       "      <td>2</td>\n",
       "      <td>11:00:00</td>\n",
       "      <td>10:07:53</td>\n",
       "      <td>False</td>\n",
       "      <td>06a71e8ab0c6db5ce22a4689fd76a3f4</td>\n",
       "      <td>06a71e8ab0c6db5ce22a4689fd76a3f4</td>\n",
       "      <td>afd0a7b8d546fcc697bb93a5934b65c3</td>\n",
       "      <td>130.321208</td>\n",
       "      <td>1900-01-01 10:07:53</td>\n",
       "      <td>1900-01-01 11:00:00</td>\n",
       "      <td>0 days 02:10:19.272480</td>\n",
       "      <td>1900-01-01 07:57:33.727520000</td>\n",
       "      <td>0 days 03:02:26.272480</td>\n",
       "      <td>182.437875</td>\n",
       "    </tr>\n",
       "  </tbody>\n",
       "</table>\n",
       "</div>"
      ],
      "text/plain": [
       "                           order_id       lat       lng  dow promised_time  \\\n",
       "0  6abd5e28d01b7c733fe37485294235dc  18.22114 -10.03139    2      13:00:00   \n",
       "1  0d37a1eea001f01b40232ffd496ff663  18.17771 -10.03570    2      13:00:00   \n",
       "2  528428e9b9eb5d3bd0dbdd8da692b087  18.26683 -10.03175    2      11:00:00   \n",
       "3  d3f7be6d64eae7405b7bf024e04807a2  18.24888 -10.03226    2      10:00:00   \n",
       "4  e0ad6533b6cd9a382ec6c1d473c5036c  18.22911 -10.03226    2      11:00:00   \n",
       "\n",
       "  actual_time  on_demand                         picker_id  \\\n",
       "0    12:00:15      False  09bb5bfe76adbb474dddbdd111a51623   \n",
       "1    10:28:10      False  c4c722114a82fa21654e57e9636d68b0   \n",
       "2    10:40:50      False  e15c7a67d0ea9a54dffb410bc1d8528b   \n",
       "3     9:41:47      False  d1f0bd4b237c1358f09db22076b940e7   \n",
       "4    10:07:53      False  06a71e8ab0c6db5ce22a4689fd76a3f4   \n",
       "\n",
       "                          driver_id                   store_branch_id  \\\n",
       "0  09bb5bfe76adbb474dddbdd111a51623  0dc6fb5924a8b917bc641666ed02663c   \n",
       "1  c4c722114a82fa21654e57e9636d68b0  2bbf833e689d24b697f1f3529c3f3c4b   \n",
       "2  e15c7a67d0ea9a54dffb410bc1d8528b  8d891dfc0e29d744c15c18adced74a68   \n",
       "3  d1f0bd4b237c1358f09db22076b940e7  0dc6fb5924a8b917bc641666ed02663c   \n",
       "4  06a71e8ab0c6db5ce22a4689fd76a3f4  afd0a7b8d546fcc697bb93a5934b65c3   \n",
       "\n",
       "   total_minutes actual_reception_time promised_delivery_time  \\\n",
       "0      91.800861   1900-01-01 12:00:15    1900-01-01 13:00:00   \n",
       "1     206.599732   1900-01-01 10:28:10    1900-01-01 13:00:00   \n",
       "2      93.458001   1900-01-01 10:40:50    1900-01-01 11:00:00   \n",
       "3     124.778761   1900-01-01 09:41:47    1900-01-01 10:00:00   \n",
       "4     130.321208   1900-01-01 10:07:53    1900-01-01 11:00:00   \n",
       "\n",
       "           total_minutes_td                    order_time  \\\n",
       "0    0 days 01:31:48.051660 1900-01-01 10:28:26.948340000   \n",
       "1 0 days 03:26:35.983919999 1900-01-01 07:01:34.016080001   \n",
       "2    0 days 01:33:27.480060 1900-01-01 09:07:22.519940000   \n",
       "3    0 days 02:04:46.725660 1900-01-01 07:37:00.274340000   \n",
       "4    0 days 02:10:19.272480 1900-01-01 07:57:33.727520000   \n",
       "\n",
       "            model_1_dt_time  model_1_time  \n",
       "0    0 days 02:31:33.051660    151.550861  \n",
       "1 0 days 05:58:25.983919999    358.433065  \n",
       "2    0 days 01:52:37.480060    112.624668  \n",
       "3    0 days 02:22:59.725660    142.995428  \n",
       "4    0 days 03:02:26.272480    182.437875  "
      ]
     },
     "metadata": {},
     "output_type": "display_data"
    }
   ],
   "source": [
    "with option_context(\"display.max_columns\", None):\n",
    "    display(purchase_order.head(n = 5))"
   ]
  },
  {
   "cell_type": "code",
   "execution_count": 13,
   "id": "c79cdfe2-30e1-4adf-bec5-25ce62fbd0a1",
   "metadata": {
    "id": "c79cdfe2-30e1-4adf-bec5-25ce62fbd0a1",
    "outputId": "e1109153-fdd7-4e4c-b9d1-d3104a67e4f8"
   },
   "outputs": [
    {
     "name": "stdout",
     "output_type": "stream",
     "text": [
      "<class 'pandas.core.frame.DataFrame'>\n",
      "Int64Index: 6503 entries, 0 to 6542\n",
      "Data columns (total 17 columns):\n",
      " #   Column                  Non-Null Count  Dtype          \n",
      "---  ------                  --------------  -----          \n",
      " 0   order_id                6503 non-null   object         \n",
      " 1   lat                     6503 non-null   float64        \n",
      " 2   lng                     6503 non-null   float64        \n",
      " 3   dow                     6503 non-null   int64          \n",
      " 4   promised_time           6503 non-null   object         \n",
      " 5   actual_time             6503 non-null   object         \n",
      " 6   on_demand               6503 non-null   bool           \n",
      " 7   picker_id               6503 non-null   object         \n",
      " 8   driver_id               6503 non-null   object         \n",
      " 9   store_branch_id         6503 non-null   object         \n",
      " 10  total_minutes           6503 non-null   float64        \n",
      " 11  actual_reception_time   6503 non-null   datetime64[ns] \n",
      " 12  promised_delivery_time  6503 non-null   datetime64[ns] \n",
      " 13  total_minutes_td        6503 non-null   timedelta64[ns]\n",
      " 14  order_time              6503 non-null   datetime64[ns] \n",
      " 15  model_1_dt_time         6503 non-null   timedelta64[ns]\n",
      " 16  model_1_time            6503 non-null   float64        \n",
      "dtypes: bool(1), datetime64[ns](3), float64(4), int64(1), object(6), timedelta64[ns](2)\n",
      "memory usage: 870.0+ KB\n"
     ]
    }
   ],
   "source": [
    "purchase_order.info()"
   ]
  },
  {
   "cell_type": "markdown",
   "id": "8bf94936-1541-4703-94b6-ff9ac2a0ece5",
   "metadata": {
    "id": "8bf94936-1541-4703-94b6-ff9ac2a0ece5",
    "tags": []
   },
   "source": [
    "#### Guardando dataset"
   ]
  },
  {
   "cell_type": "code",
   "execution_count": 14,
   "id": "c0fbeb1a-7490-4239-b520-91e93271c033",
   "metadata": {
    "id": "c0fbeb1a-7490-4239-b520-91e93271c033",
    "tags": []
   },
   "outputs": [],
   "source": [
    "#  La función pickle.dump() permite guardar el dataframe en un archivo en formato plk\n",
    "pickle.dump(purchase_order, open('data/output/purchase_order.plk', 'wb'))"
   ]
  },
  {
   "cell_type": "markdown",
   "id": "5abd7191-5a01-43f2-b57e-b08a6a7a31fe",
   "metadata": {
    "id": "5abd7191-5a01-43f2-b57e-b08a6a7a31fe"
   },
   "source": [
    "### Dataset: orden de productos (product_order)"
   ]
  },
  {
   "cell_type": "code",
   "execution_count": 15,
   "id": "ed6fe7ec-7c10-48c8-8075-d1f2476e219f",
   "metadata": {
    "id": "ed6fe7ec-7c10-48c8-8075-d1f2476e219f",
    "outputId": "aed65c95-b75d-4a0f-e600-f30c2efc8c54"
   },
   "outputs": [
    {
     "data": {
      "text/html": [
       "<div>\n",
       "<style scoped>\n",
       "    .dataframe tbody tr th:only-of-type {\n",
       "        vertical-align: middle;\n",
       "    }\n",
       "\n",
       "    .dataframe tbody tr th {\n",
       "        vertical-align: top;\n",
       "    }\n",
       "\n",
       "    .dataframe thead th {\n",
       "        text-align: right;\n",
       "    }\n",
       "</style>\n",
       "<table border=\"1\" class=\"dataframe\">\n",
       "  <thead>\n",
       "    <tr style=\"text-align: right;\">\n",
       "      <th></th>\n",
       "      <th>order_id</th>\n",
       "      <th>product_id</th>\n",
       "      <th>quantity</th>\n",
       "      <th>quantity_found</th>\n",
       "      <th>buy_unit</th>\n",
       "    </tr>\n",
       "  </thead>\n",
       "  <tbody>\n",
       "    <tr>\n",
       "      <th>0</th>\n",
       "      <td>bdfc44fb525986b7bab8c589fc47e853</td>\n",
       "      <td>ab9757d9892b0e83ab3a1c1af0c84c52</td>\n",
       "      <td>0.75</td>\n",
       "      <td>0.155</td>\n",
       "      <td>KG</td>\n",
       "    </tr>\n",
       "    <tr>\n",
       "      <th>1</th>\n",
       "      <td>bdfc44fb525986b7bab8c589fc47e853</td>\n",
       "      <td>f1f042251bf634d44f338fbaf13b16e4</td>\n",
       "      <td>0.3</td>\n",
       "      <td>0.400</td>\n",
       "      <td>KG</td>\n",
       "    </tr>\n",
       "    <tr>\n",
       "      <th>2</th>\n",
       "      <td>bdfc44fb525986b7bab8c589fc47e853</td>\n",
       "      <td>0630d47440965509b0b3f80fd1b3578f</td>\n",
       "      <td>1</td>\n",
       "      <td>1.000</td>\n",
       "      <td>UN</td>\n",
       "    </tr>\n",
       "    <tr>\n",
       "      <th>3</th>\n",
       "      <td>bdfc44fb525986b7bab8c589fc47e853</td>\n",
       "      <td>9dd69b1f300666d5573e3a9934f2e03e</td>\n",
       "      <td>2</td>\n",
       "      <td>2.000</td>\n",
       "      <td>UN</td>\n",
       "    </tr>\n",
       "    <tr>\n",
       "      <th>4</th>\n",
       "      <td>bdfc44fb525986b7bab8c589fc47e853</td>\n",
       "      <td>3dfcdbe308bde67370649dd875f2507b</td>\n",
       "      <td>1</td>\n",
       "      <td>1.000</td>\n",
       "      <td>UN</td>\n",
       "    </tr>\n",
       "  </tbody>\n",
       "</table>\n",
       "</div>"
      ],
      "text/plain": [
       "                           order_id                        product_id  \\\n",
       "0  bdfc44fb525986b7bab8c589fc47e853  ab9757d9892b0e83ab3a1c1af0c84c52   \n",
       "1  bdfc44fb525986b7bab8c589fc47e853  f1f042251bf634d44f338fbaf13b16e4   \n",
       "2  bdfc44fb525986b7bab8c589fc47e853  0630d47440965509b0b3f80fd1b3578f   \n",
       "3  bdfc44fb525986b7bab8c589fc47e853  9dd69b1f300666d5573e3a9934f2e03e   \n",
       "4  bdfc44fb525986b7bab8c589fc47e853  3dfcdbe308bde67370649dd875f2507b   \n",
       "\n",
       "  quantity  quantity_found buy_unit  \n",
       "0     0.75           0.155       KG  \n",
       "1      0.3           0.400       KG  \n",
       "2        1           1.000       UN  \n",
       "3        2           2.000       UN  \n",
       "4        1           1.000       UN  "
      ]
     },
     "metadata": {},
     "output_type": "display_data"
    }
   ],
   "source": [
    "# Cargando datos de la orden de productos desde el archivo especificado\n",
    "product_order = read_csv('data/input/2_Orden_productos.csv', sep = ';', encoding='utf-8')\n",
    "# Usamos la función option_context para establecer el número máximo de columnas para mostrar\n",
    "with option_context(\"display.max_columns\", None):\n",
    "# Usamos la función de visualización para mostrar las primeras 5 filas de los datos\n",
    "    display(product_order.head(n = 5))"
   ]
  },
  {
   "cell_type": "code",
   "execution_count": 16,
   "id": "86c5c068-76da-4d06-babc-fb33ac1736b2",
   "metadata": {
    "id": "86c5c068-76da-4d06-babc-fb33ac1736b2",
    "outputId": "da90cc13-2fe3-4ad5-d647-f3a68d3ebfd7"
   },
   "outputs": [
    {
     "data": {
      "text/plain": [
       "['order_id', 'product_id', 'quantity', 'quantity_found', 'buy_unit']"
      ]
     },
     "execution_count": 16,
     "metadata": {},
     "output_type": "execute_result"
    }
   ],
   "source": [
    "# Obtiene una lista de nombres de columnas de un DataFrame de pandas.\n",
    "product_order.columns.to_list()"
   ]
  },
  {
   "cell_type": "markdown",
   "id": "62ea0eeb-ff2d-4bda-b96f-0507cef7a4a0",
   "metadata": {
    "id": "62ea0eeb-ff2d-4bda-b96f-0507cef7a4a0",
    "tags": []
   },
   "source": [
    "#### Normalizando nombre de columnas"
   ]
  },
  {
   "cell_type": "code",
   "execution_count": 17,
   "id": "54a4557f-850b-4ab9-861c-d4a4a4c6bc40",
   "metadata": {
    "id": "54a4557f-850b-4ab9-861c-d4a4a4c6bc40",
    "outputId": "de2a85f8-d3a0-45cf-b0f0-2d619969d757"
   },
   "outputs": [
    {
     "data": {
      "text/html": [
       "<pre style=\"white-space:pre;overflow-x:auto;line-height:normal;font-family:Menlo,'DejaVu Sans Mono',consolas,'Courier New',monospace\"><span style=\"color: #008080; text-decoration-color: #008080; font-weight: bold\">0</span> column names have been cleaned\n",
       "</pre>\n"
      ],
      "text/plain": [
       "\u001b[1;36m0\u001b[0m column names have been cleaned\n"
      ]
     },
     "metadata": {},
     "output_type": "display_data"
    },
    {
     "data": {
      "text/plain": [
       "['order_id', 'product_id', 'quantity', 'quantity_found', 'buy_unit']"
      ]
     },
     "execution_count": 17,
     "metadata": {},
     "output_type": "execute_result"
    }
   ],
   "source": [
    "# Asigna al dataframe el resultado de llamar a la función clean_columns().\n",
    "# Esta función tiene como objetivo limpiar los nombres de las columnas del DataFrame.\n",
    "# Elimina los caracteres especiales y los espacios los reemplaza por un _\n",
    "product_order = clean_columns(product_order, case = 'snake')\n",
    "# Obtiene una lista de nombres de columnas de un DataFrame de pandas.\n",
    "product_order.columns.to_list()"
   ]
  },
  {
   "cell_type": "markdown",
   "id": "5077306d-5dc2-4a5f-b2e0-799115a0f518",
   "metadata": {
    "id": "5077306d-5dc2-4a5f-b2e0-799115a0f518"
   },
   "source": [
    "#### Imputando valores perdidos"
   ]
  },
  {
   "cell_type": "code",
   "execution_count": 18,
   "id": "922ce93b-af24-49a7-ba3b-1cd9c1453b0a",
   "metadata": {
    "id": "922ce93b-af24-49a7-ba3b-1cd9c1453b0a"
   },
   "outputs": [],
   "source": [
    "# Dataset no tiene atributos valores perdidos"
   ]
  },
  {
   "cell_type": "markdown",
   "id": "ICWd5iwAsbgs",
   "metadata": {
    "id": "ICWd5iwAsbgs"
   },
   "source": [
    "#### Imputando valores duplicados"
   ]
  },
  {
   "cell_type": "code",
   "execution_count": 19,
   "id": "xfDylf1XscYf",
   "metadata": {
    "id": "xfDylf1XscYf"
   },
   "outputs": [],
   "source": [
    "# Eliminando valores duplicados\n",
    "product_order = product_order.drop_duplicates()\n",
    "product_order = product_order.reset_index(drop=True)"
   ]
  },
  {
   "cell_type": "markdown",
   "id": "fdf8d44d-7d15-417b-8c13-0027bd52b72d",
   "metadata": {
    "id": "fdf8d44d-7d15-417b-8c13-0027bd52b72d"
   },
   "source": [
    "#### Normalizando columnas para eliminar puntos adicionales y ajustando largo de decimales"
   ]
  },
  {
   "cell_type": "code",
   "execution_count": 20,
   "id": "9487a807-10c0-43b1-b14f-e737a8aaa9b5",
   "metadata": {
    "id": "9487a807-10c0-43b1-b14f-e737a8aaa9b5"
   },
   "outputs": [],
   "source": [
    "for i in product_order.index: \n",
    "    vQuantity = product_order['quantity'][i]\n",
    "    vPedido = where(int(product_order['quantity_found'][i]) > 10, 2, 1)\n",
    "    product_order['quantity'][i] = float(vQuantity.replace('.', '')[:vPedido] + '.' + vQuantity.replace('.', '')[vPedido:5] if vQuantity.count('.') > 1 else vQuantity)"
   ]
  },
  {
   "cell_type": "markdown",
   "id": "7b953fc7-6e73-4bd0-804c-15015e74b434",
   "metadata": {
    "id": "7b953fc7-6e73-4bd0-804c-15015e74b434",
    "tags": []
   },
   "source": [
    "##### Inspeccion visual transformaciones"
   ]
  },
  {
   "cell_type": "code",
   "execution_count": 21,
   "id": "d50423c4-77b2-44de-a443-9568fd129072",
   "metadata": {
    "id": "d50423c4-77b2-44de-a443-9568fd129072",
    "outputId": "2d7aca22-9ba8-4ddb-b34d-e1bb5cb82200"
   },
   "outputs": [
    {
     "data": {
      "text/html": [
       "<div>\n",
       "<style scoped>\n",
       "    .dataframe tbody tr th:only-of-type {\n",
       "        vertical-align: middle;\n",
       "    }\n",
       "\n",
       "    .dataframe tbody tr th {\n",
       "        vertical-align: top;\n",
       "    }\n",
       "\n",
       "    .dataframe thead th {\n",
       "        text-align: right;\n",
       "    }\n",
       "</style>\n",
       "<table border=\"1\" class=\"dataframe\">\n",
       "  <thead>\n",
       "    <tr style=\"text-align: right;\">\n",
       "      <th></th>\n",
       "      <th>order_id</th>\n",
       "      <th>product_id</th>\n",
       "      <th>quantity</th>\n",
       "      <th>quantity_found</th>\n",
       "      <th>buy_unit</th>\n",
       "    </tr>\n",
       "  </thead>\n",
       "  <tbody>\n",
       "    <tr>\n",
       "      <th>0</th>\n",
       "      <td>bdfc44fb525986b7bab8c589fc47e853</td>\n",
       "      <td>ab9757d9892b0e83ab3a1c1af0c84c52</td>\n",
       "      <td>0.75</td>\n",
       "      <td>0.155</td>\n",
       "      <td>KG</td>\n",
       "    </tr>\n",
       "    <tr>\n",
       "      <th>1</th>\n",
       "      <td>bdfc44fb525986b7bab8c589fc47e853</td>\n",
       "      <td>f1f042251bf634d44f338fbaf13b16e4</td>\n",
       "      <td>0.3</td>\n",
       "      <td>0.400</td>\n",
       "      <td>KG</td>\n",
       "    </tr>\n",
       "    <tr>\n",
       "      <th>2</th>\n",
       "      <td>bdfc44fb525986b7bab8c589fc47e853</td>\n",
       "      <td>0630d47440965509b0b3f80fd1b3578f</td>\n",
       "      <td>1.0</td>\n",
       "      <td>1.000</td>\n",
       "      <td>UN</td>\n",
       "    </tr>\n",
       "    <tr>\n",
       "      <th>3</th>\n",
       "      <td>bdfc44fb525986b7bab8c589fc47e853</td>\n",
       "      <td>9dd69b1f300666d5573e3a9934f2e03e</td>\n",
       "      <td>2.0</td>\n",
       "      <td>2.000</td>\n",
       "      <td>UN</td>\n",
       "    </tr>\n",
       "    <tr>\n",
       "      <th>4</th>\n",
       "      <td>bdfc44fb525986b7bab8c589fc47e853</td>\n",
       "      <td>3dfcdbe308bde67370649dd875f2507b</td>\n",
       "      <td>1.0</td>\n",
       "      <td>1.000</td>\n",
       "      <td>UN</td>\n",
       "    </tr>\n",
       "  </tbody>\n",
       "</table>\n",
       "</div>"
      ],
      "text/plain": [
       "                           order_id                        product_id  \\\n",
       "0  bdfc44fb525986b7bab8c589fc47e853  ab9757d9892b0e83ab3a1c1af0c84c52   \n",
       "1  bdfc44fb525986b7bab8c589fc47e853  f1f042251bf634d44f338fbaf13b16e4   \n",
       "2  bdfc44fb525986b7bab8c589fc47e853  0630d47440965509b0b3f80fd1b3578f   \n",
       "3  bdfc44fb525986b7bab8c589fc47e853  9dd69b1f300666d5573e3a9934f2e03e   \n",
       "4  bdfc44fb525986b7bab8c589fc47e853  3dfcdbe308bde67370649dd875f2507b   \n",
       "\n",
       "  quantity  quantity_found buy_unit  \n",
       "0     0.75           0.155       KG  \n",
       "1      0.3           0.400       KG  \n",
       "2      1.0           1.000       UN  \n",
       "3      2.0           2.000       UN  \n",
       "4      1.0           1.000       UN  "
      ]
     },
     "metadata": {},
     "output_type": "display_data"
    }
   ],
   "source": [
    "# Usamos la función option_context para establecer el número máximo de columnas para mostrar\n",
    "with option_context(\"display.max_columns\", None):\n",
    "# Usamos la función de visualización para mostrar las primeras 5 filas de los datos\n",
    "    display(product_order.head(n = 5))"
   ]
  },
  {
   "cell_type": "code",
   "execution_count": 22,
   "id": "64bcec73-2500-41d2-a670-581bc67c6f21",
   "metadata": {
    "id": "64bcec73-2500-41d2-a670-581bc67c6f21",
    "outputId": "8819919a-50c6-4cac-8538-1000b8202514"
   },
   "outputs": [
    {
     "name": "stdout",
     "output_type": "stream",
     "text": [
      "<class 'pandas.core.frame.DataFrame'>\n",
      "RangeIndex: 120873 entries, 0 to 120872\n",
      "Data columns (total 5 columns):\n",
      " #   Column          Non-Null Count   Dtype  \n",
      "---  ------          --------------   -----  \n",
      " 0   order_id        120873 non-null  object \n",
      " 1   product_id      120873 non-null  object \n",
      " 2   quantity        120873 non-null  object \n",
      " 3   quantity_found  120873 non-null  float64\n",
      " 4   buy_unit        120873 non-null  object \n",
      "dtypes: float64(1), object(4)\n",
      "memory usage: 4.6+ MB\n"
     ]
    }
   ],
   "source": [
    "product_order.info()"
   ]
  },
  {
   "cell_type": "markdown",
   "id": "901fcc06-8c3a-404b-ada9-beb1b3b769d5",
   "metadata": {
    "id": "901fcc06-8c3a-404b-ada9-beb1b3b769d5",
    "tags": []
   },
   "source": [
    "#### Guardando dataset"
   ]
  },
  {
   "cell_type": "code",
   "execution_count": 23,
   "id": "67987d1b-dbc8-4bc7-bf34-49c0156c28e8",
   "metadata": {
    "id": "67987d1b-dbc8-4bc7-bf34-49c0156c28e8",
    "tags": []
   },
   "outputs": [],
   "source": [
    "#  La función pickle.dump() permite guardar el dataframe en un archivo en formato plk\n",
    "pickle.dump(product_order, open('data/output/product_order.plk', 'wb'))"
   ]
  },
  {
   "cell_type": "markdown",
   "id": "247c3bc4-9044-43f5-a6e0-b7714fb098f5",
   "metadata": {
    "id": "247c3bc4-9044-43f5-a6e0-b7714fb098f5"
   },
   "source": [
    "### Dataset: recolector (shopper)"
   ]
  },
  {
   "cell_type": "code",
   "execution_count": 24,
   "id": "311d7971-0754-49fc-be01-0df44c4ad7f7",
   "metadata": {
    "id": "311d7971-0754-49fc-be01-0df44c4ad7f7",
    "outputId": "9a9db56a-8e0c-46b8-b8d7-8513b6f9e5be"
   },
   "outputs": [
    {
     "data": {
      "text/html": [
       "<div>\n",
       "<style scoped>\n",
       "    .dataframe tbody tr th:only-of-type {\n",
       "        vertical-align: middle;\n",
       "    }\n",
       "\n",
       "    .dataframe tbody tr th {\n",
       "        vertical-align: top;\n",
       "    }\n",
       "\n",
       "    .dataframe thead th {\n",
       "        text-align: right;\n",
       "    }\n",
       "</style>\n",
       "<table border=\"1\" class=\"dataframe\">\n",
       "  <thead>\n",
       "    <tr style=\"text-align: right;\">\n",
       "      <th></th>\n",
       "      <th>shopper_id</th>\n",
       "      <th>seniority</th>\n",
       "      <th>found_rate</th>\n",
       "      <th>picking_speed</th>\n",
       "      <th>accepted_rate</th>\n",
       "      <th>rating</th>\n",
       "    </tr>\n",
       "  </thead>\n",
       "  <tbody>\n",
       "    <tr>\n",
       "      <th>0</th>\n",
       "      <td>087ab65ceca40dbef697f585dc159d5d</td>\n",
       "      <td>ADVANCED</td>\n",
       "      <td>0.8610</td>\n",
       "      <td>1.64</td>\n",
       "      <td>1.00</td>\n",
       "      <td>4.48</td>\n",
       "    </tr>\n",
       "    <tr>\n",
       "      <th>1</th>\n",
       "      <td>645973c41314d763b58dc2bceeeeffc9</td>\n",
       "      <td>INTERMEDIATE</td>\n",
       "      <td>0.8337</td>\n",
       "      <td>2.83</td>\n",
       "      <td>0.96</td>\n",
       "      <td>4.79</td>\n",
       "    </tr>\n",
       "    <tr>\n",
       "      <th>2</th>\n",
       "      <td>82810715fdda44962e7e422015ea1f32</td>\n",
       "      <td>ADVANCED</td>\n",
       "      <td>0.8681</td>\n",
       "      <td>1.27</td>\n",
       "      <td>0.88</td>\n",
       "      <td>4.84</td>\n",
       "    </tr>\n",
       "    <tr>\n",
       "      <th>3</th>\n",
       "      <td>416aa7dbd5a2f58d7bca96657e8faa1e</td>\n",
       "      <td>INTERMEDIATE</td>\n",
       "      <td>0.8784</td>\n",
       "      <td>2.11</td>\n",
       "      <td>1.00</td>\n",
       "      <td>NaN</td>\n",
       "    </tr>\n",
       "    <tr>\n",
       "      <th>4</th>\n",
       "      <td>27a3e845a4c3eb7ded4748f84140a843</td>\n",
       "      <td>ADVANCED</td>\n",
       "      <td>0.8466</td>\n",
       "      <td>1.50</td>\n",
       "      <td>1.00</td>\n",
       "      <td>4.84</td>\n",
       "    </tr>\n",
       "  </tbody>\n",
       "</table>\n",
       "</div>"
      ],
      "text/plain": [
       "                         shopper_id     seniority  found_rate  picking_speed  \\\n",
       "0  087ab65ceca40dbef697f585dc159d5d      ADVANCED      0.8610           1.64   \n",
       "1  645973c41314d763b58dc2bceeeeffc9  INTERMEDIATE      0.8337           2.83   \n",
       "2  82810715fdda44962e7e422015ea1f32      ADVANCED      0.8681           1.27   \n",
       "3  416aa7dbd5a2f58d7bca96657e8faa1e  INTERMEDIATE      0.8784           2.11   \n",
       "4  27a3e845a4c3eb7ded4748f84140a843      ADVANCED      0.8466           1.50   \n",
       "\n",
       "   accepted_rate  rating  \n",
       "0           1.00    4.48  \n",
       "1           0.96    4.79  \n",
       "2           0.88    4.84  \n",
       "3           1.00     NaN  \n",
       "4           1.00    4.84  "
      ]
     },
     "metadata": {},
     "output_type": "display_data"
    }
   ],
   "source": [
    "# Cargando datos de recolector desde el archivo especificado\n",
    "shopper = read_csv('data/input/3_Recolector.csv', sep = ';', encoding='utf-8')\n",
    "# Usamos la función option_context para establecer el número máximo de columnas para mostrar\n",
    "with option_context(\"display.max_columns\", None):\n",
    "# Usamos la función de visualización para mostrar las primeras 5 filas de los datos\n",
    "    display(shopper.head(n = 5))"
   ]
  },
  {
   "cell_type": "code",
   "execution_count": 25,
   "id": "6d177caa-7f51-4705-950d-445623914dcc",
   "metadata": {
    "id": "6d177caa-7f51-4705-950d-445623914dcc",
    "outputId": "33315ff9-ec80-4262-d3ca-4b18ed05b6d9"
   },
   "outputs": [
    {
     "data": {
      "text/plain": [
       "['shopper_id',\n",
       " 'seniority',\n",
       " 'found_rate',\n",
       " 'picking_speed',\n",
       " 'accepted_rate',\n",
       " 'rating']"
      ]
     },
     "execution_count": 25,
     "metadata": {},
     "output_type": "execute_result"
    }
   ],
   "source": [
    "# Obtiene una lista de nombres de columnas de un DataFrame de pandas.\n",
    "shopper.columns.to_list()"
   ]
  },
  {
   "cell_type": "markdown",
   "id": "e5eb55d7-9c4d-41a8-be98-1b6895e7fdb0",
   "metadata": {
    "id": "e5eb55d7-9c4d-41a8-be98-1b6895e7fdb0"
   },
   "source": [
    "#### Normalizando nombre de columnas"
   ]
  },
  {
   "cell_type": "code",
   "execution_count": 26,
   "id": "b274c2ae-4e9d-4b38-8a96-bfd0c6c2a56d",
   "metadata": {
    "id": "b274c2ae-4e9d-4b38-8a96-bfd0c6c2a56d",
    "outputId": "4e90ff58-5162-41c4-e995-1d5369dea1bd"
   },
   "outputs": [
    {
     "data": {
      "text/html": [
       "<pre style=\"white-space:pre;overflow-x:auto;line-height:normal;font-family:Menlo,'DejaVu Sans Mono',consolas,'Courier New',monospace\"><span style=\"color: #008080; text-decoration-color: #008080; font-weight: bold\">0</span> column names have been cleaned\n",
       "</pre>\n"
      ],
      "text/plain": [
       "\u001b[1;36m0\u001b[0m column names have been cleaned\n"
      ]
     },
     "metadata": {},
     "output_type": "display_data"
    },
    {
     "data": {
      "text/plain": [
       "['shopper_id',\n",
       " 'seniority',\n",
       " 'found_rate',\n",
       " 'picking_speed',\n",
       " 'accepted_rate',\n",
       " 'rating']"
      ]
     },
     "execution_count": 26,
     "metadata": {},
     "output_type": "execute_result"
    }
   ],
   "source": [
    "# Asigna al dataframe el resultado de llamar a la función clean_columns().\n",
    "# Esta función tiene como objetivo limpiar los nombres de las columnas del DataFrame.\n",
    "# Elimina los caracteres especiales y los espacios los reemplaza por un _\n",
    "shopper = clean_columns(shopper, case = 'snake')\n",
    "# Obtiene una lista de nombres de columnas de un DataFrame de pandas.\n",
    "shopper.columns.to_list()"
   ]
  },
  {
   "cell_type": "markdown",
   "id": "06da11ae-a54f-4362-83b5-6ca9ac2bcad1",
   "metadata": {
    "id": "06da11ae-a54f-4362-83b5-6ca9ac2bcad1"
   },
   "source": [
    "#### Imputando valores perdidos"
   ]
  },
  {
   "cell_type": "code",
   "execution_count": 27,
   "id": "dddf5c74-9712-4ba8-932b-d9bb5e1f3039",
   "metadata": {
    "id": "dddf5c74-9712-4ba8-932b-d9bb5e1f3039"
   },
   "outputs": [],
   "source": [
    "shopper[\"rating\"] = shopper[\"rating\"].replace(nan, shopper[\"rating\"].mean()).round(2)\n",
    "shopper[\"found_rate\"] = shopper[\"found_rate\"].replace(nan, shopper[\"found_rate\"].mean()).round(2)\n",
    "shopper[\"accepted_rate\"] = shopper[\"accepted_rate\"].replace(nan, shopper[\"accepted_rate\"].mean()).round(2)"
   ]
  },
  {
   "cell_type": "markdown",
   "id": "effa669a-64a1-4b32-86d6-811bba446efa",
   "metadata": {
    "id": "effa669a-64a1-4b32-86d6-811bba446efa"
   },
   "source": [
    "#### Normalizando columnas para eliminar puntos adicionales y ajustando largo de decimales"
   ]
  },
  {
   "cell_type": "code",
   "execution_count": 28,
   "id": "a5331ac0-1ca3-4bfe-9b78-ed7d80c494b8",
   "metadata": {
    "id": "a5331ac0-1ca3-4bfe-9b78-ed7d80c494b8"
   },
   "outputs": [],
   "source": [
    "# Dataset no tiene atributos con esta condicion"
   ]
  },
  {
   "cell_type": "markdown",
   "id": "XAS-nAo5srPn",
   "metadata": {
    "id": "XAS-nAo5srPn"
   },
   "source": [
    "#### Imputando valores duplicados"
   ]
  },
  {
   "cell_type": "code",
   "execution_count": 29,
   "id": "QuIlmO66srib",
   "metadata": {
    "id": "QuIlmO66srib"
   },
   "outputs": [],
   "source": [
    "shopper = shopper.drop_duplicates()\n",
    "shopper = shopper.reset_index(drop=True)"
   ]
  },
  {
   "cell_type": "markdown",
   "id": "c659edb6-e9fd-47ba-8e59-01b693072b00",
   "metadata": {
    "id": "c659edb6-e9fd-47ba-8e59-01b693072b00",
    "tags": []
   },
   "source": [
    "##### Inspección visual transformaciones"
   ]
  },
  {
   "cell_type": "code",
   "execution_count": 30,
   "id": "f22a074f-69dd-45a8-bda1-cbf27fd36cc9",
   "metadata": {
    "id": "f22a074f-69dd-45a8-bda1-cbf27fd36cc9",
    "outputId": "5016149e-a1eb-4996-8291-8b63eb1daac3"
   },
   "outputs": [
    {
     "data": {
      "text/html": [
       "<div>\n",
       "<style scoped>\n",
       "    .dataframe tbody tr th:only-of-type {\n",
       "        vertical-align: middle;\n",
       "    }\n",
       "\n",
       "    .dataframe tbody tr th {\n",
       "        vertical-align: top;\n",
       "    }\n",
       "\n",
       "    .dataframe thead th {\n",
       "        text-align: right;\n",
       "    }\n",
       "</style>\n",
       "<table border=\"1\" class=\"dataframe\">\n",
       "  <thead>\n",
       "    <tr style=\"text-align: right;\">\n",
       "      <th></th>\n",
       "      <th>shopper_id</th>\n",
       "      <th>seniority</th>\n",
       "      <th>found_rate</th>\n",
       "      <th>picking_speed</th>\n",
       "      <th>accepted_rate</th>\n",
       "      <th>rating</th>\n",
       "    </tr>\n",
       "  </thead>\n",
       "  <tbody>\n",
       "    <tr>\n",
       "      <th>0</th>\n",
       "      <td>087ab65ceca40dbef697f585dc159d5d</td>\n",
       "      <td>ADVANCED</td>\n",
       "      <td>0.86</td>\n",
       "      <td>1.64</td>\n",
       "      <td>1.00</td>\n",
       "      <td>4.48</td>\n",
       "    </tr>\n",
       "    <tr>\n",
       "      <th>1</th>\n",
       "      <td>645973c41314d763b58dc2bceeeeffc9</td>\n",
       "      <td>INTERMEDIATE</td>\n",
       "      <td>0.83</td>\n",
       "      <td>2.83</td>\n",
       "      <td>0.96</td>\n",
       "      <td>4.79</td>\n",
       "    </tr>\n",
       "    <tr>\n",
       "      <th>2</th>\n",
       "      <td>82810715fdda44962e7e422015ea1f32</td>\n",
       "      <td>ADVANCED</td>\n",
       "      <td>0.87</td>\n",
       "      <td>1.27</td>\n",
       "      <td>0.88</td>\n",
       "      <td>4.84</td>\n",
       "    </tr>\n",
       "    <tr>\n",
       "      <th>3</th>\n",
       "      <td>416aa7dbd5a2f58d7bca96657e8faa1e</td>\n",
       "      <td>INTERMEDIATE</td>\n",
       "      <td>0.88</td>\n",
       "      <td>2.11</td>\n",
       "      <td>1.00</td>\n",
       "      <td>4.79</td>\n",
       "    </tr>\n",
       "    <tr>\n",
       "      <th>4</th>\n",
       "      <td>27a3e845a4c3eb7ded4748f84140a843</td>\n",
       "      <td>ADVANCED</td>\n",
       "      <td>0.85</td>\n",
       "      <td>1.50</td>\n",
       "      <td>1.00</td>\n",
       "      <td>4.84</td>\n",
       "    </tr>\n",
       "  </tbody>\n",
       "</table>\n",
       "</div>"
      ],
      "text/plain": [
       "                         shopper_id     seniority  found_rate  picking_speed  \\\n",
       "0  087ab65ceca40dbef697f585dc159d5d      ADVANCED        0.86           1.64   \n",
       "1  645973c41314d763b58dc2bceeeeffc9  INTERMEDIATE        0.83           2.83   \n",
       "2  82810715fdda44962e7e422015ea1f32      ADVANCED        0.87           1.27   \n",
       "3  416aa7dbd5a2f58d7bca96657e8faa1e  INTERMEDIATE        0.88           2.11   \n",
       "4  27a3e845a4c3eb7ded4748f84140a843      ADVANCED        0.85           1.50   \n",
       "\n",
       "   accepted_rate  rating  \n",
       "0           1.00    4.48  \n",
       "1           0.96    4.79  \n",
       "2           0.88    4.84  \n",
       "3           1.00    4.79  \n",
       "4           1.00    4.84  "
      ]
     },
     "metadata": {},
     "output_type": "display_data"
    }
   ],
   "source": [
    "# Usamos la función option_context para establecer el número máximo de columnas para mostrar\n",
    "with option_context(\"display.max_columns\", None):\n",
    "# Usamos la función de visualización para mostrar las primeras 5 filas de los datos\n",
    "    display(shopper.head(n = 5))"
   ]
  },
  {
   "cell_type": "code",
   "execution_count": 31,
   "id": "a08dfdf1-85c8-4736-94a5-87802382dac9",
   "metadata": {
    "id": "a08dfdf1-85c8-4736-94a5-87802382dac9",
    "outputId": "6b00ac3d-3860-41fe-b2a4-43a65ab99bae"
   },
   "outputs": [
    {
     "name": "stdout",
     "output_type": "stream",
     "text": [
      "<class 'pandas.core.frame.DataFrame'>\n",
      "RangeIndex: 600 entries, 0 to 599\n",
      "Data columns (total 6 columns):\n",
      " #   Column         Non-Null Count  Dtype  \n",
      "---  ------         --------------  -----  \n",
      " 0   shopper_id     600 non-null    object \n",
      " 1   seniority      600 non-null    object \n",
      " 2   found_rate     600 non-null    float64\n",
      " 3   picking_speed  600 non-null    float64\n",
      " 4   accepted_rate  600 non-null    float64\n",
      " 5   rating         600 non-null    float64\n",
      "dtypes: float64(4), object(2)\n",
      "memory usage: 28.2+ KB\n"
     ]
    }
   ],
   "source": [
    "shopper.info()"
   ]
  },
  {
   "cell_type": "markdown",
   "id": "36803fcd-5a88-412c-a60f-07bab405675a",
   "metadata": {
    "id": "36803fcd-5a88-412c-a60f-07bab405675a",
    "tags": []
   },
   "source": [
    "#### Guardando dataset"
   ]
  },
  {
   "cell_type": "code",
   "execution_count": 32,
   "id": "3e7ab4f0-0767-4c97-9369-30e270b06177",
   "metadata": {
    "id": "3e7ab4f0-0767-4c97-9369-30e270b06177"
   },
   "outputs": [],
   "source": [
    "#  La función pickle.dump() permite guardar el dataframe en un archivo en formato plk\n",
    "pickle.dump(shopper, open('data/output/shopper.plk', 'wb'))"
   ]
  },
  {
   "cell_type": "markdown",
   "id": "b4f39b0d-3e1f-4183-b74d-8710c4776ed5",
   "metadata": {
    "id": "b4f39b0d-3e1f-4183-b74d-8710c4776ed5"
   },
   "source": [
    "### Dataset: tienda (store)"
   ]
  },
  {
   "cell_type": "code",
   "execution_count": 33,
   "id": "76e8c779-2976-4a56-a8be-809a23b4c997",
   "metadata": {
    "id": "76e8c779-2976-4a56-a8be-809a23b4c997",
    "outputId": "65bb9415-ead0-4472-a825-92c6b0f5129b"
   },
   "outputs": [
    {
     "data": {
      "text/html": [
       "<div>\n",
       "<style scoped>\n",
       "    .dataframe tbody tr th:only-of-type {\n",
       "        vertical-align: middle;\n",
       "    }\n",
       "\n",
       "    .dataframe tbody tr th {\n",
       "        vertical-align: top;\n",
       "    }\n",
       "\n",
       "    .dataframe thead th {\n",
       "        text-align: right;\n",
       "    }\n",
       "</style>\n",
       "<table border=\"1\" class=\"dataframe\">\n",
       "  <thead>\n",
       "    <tr style=\"text-align: right;\">\n",
       "      <th></th>\n",
       "      <th>store_branch_id</th>\n",
       "      <th>store</th>\n",
       "      <th>lat</th>\n",
       "      <th>lng</th>\n",
       "    </tr>\n",
       "  </thead>\n",
       "  <tbody>\n",
       "    <tr>\n",
       "      <th>0</th>\n",
       "      <td>cf0895f1e3beb8164f0a86e6f940ae56</td>\n",
       "      <td>c0b93cf93cf854981b8d6bd849eec4b0</td>\n",
       "      <td>18.160.308.413.602.800</td>\n",
       "      <td>-10.026.067.265.111.100</td>\n",
       "    </tr>\n",
       "    <tr>\n",
       "      <th>1</th>\n",
       "      <td>3ddd4c29cab4178d89d549c6ba65c236</td>\n",
       "      <td>044d56734d20e04984d846dade6d39f3</td>\n",
       "      <td>1.827.282.968.914.450</td>\n",
       "      <td>-10.031.881.435.593.900</td>\n",
       "    </tr>\n",
       "    <tr>\n",
       "      <th>2</th>\n",
       "      <td>e9763f24fd46d0b9e52d423207a87c3c</td>\n",
       "      <td>452ae015bf846e1d2932b7ea15720d64</td>\n",
       "      <td>18.273.494.015.704.800</td>\n",
       "      <td>-10.031.958.539.978.200</td>\n",
       "    </tr>\n",
       "    <tr>\n",
       "      <th>3</th>\n",
       "      <td>49b7d60d6095a9f1129ce798102b62f4</td>\n",
       "      <td>6447951cd071f6f045fd4e6194920926</td>\n",
       "      <td>1.824.774.341.566.610</td>\n",
       "      <td>-10.040.355.771.938.600</td>\n",
       "    </tr>\n",
       "    <tr>\n",
       "      <th>4</th>\n",
       "      <td>8f21cfda17b340aeee062220d0bee8e5</td>\n",
       "      <td>452ae015bf846e1d2932b7ea15720d64</td>\n",
       "      <td>18.203.111.495.565.700</td>\n",
       "      <td>-10.029.771.361.550.100</td>\n",
       "    </tr>\n",
       "  </tbody>\n",
       "</table>\n",
       "</div>"
      ],
      "text/plain": [
       "                    store_branch_id                             store  \\\n",
       "0  cf0895f1e3beb8164f0a86e6f940ae56  c0b93cf93cf854981b8d6bd849eec4b0   \n",
       "1  3ddd4c29cab4178d89d549c6ba65c236  044d56734d20e04984d846dade6d39f3   \n",
       "2  e9763f24fd46d0b9e52d423207a87c3c  452ae015bf846e1d2932b7ea15720d64   \n",
       "3  49b7d60d6095a9f1129ce798102b62f4  6447951cd071f6f045fd4e6194920926   \n",
       "4  8f21cfda17b340aeee062220d0bee8e5  452ae015bf846e1d2932b7ea15720d64   \n",
       "\n",
       "                      lat                      lng  \n",
       "0  18.160.308.413.602.800  -10.026.067.265.111.100  \n",
       "1   1.827.282.968.914.450  -10.031.881.435.593.900  \n",
       "2  18.273.494.015.704.800  -10.031.958.539.978.200  \n",
       "3   1.824.774.341.566.610  -10.040.355.771.938.600  \n",
       "4  18.203.111.495.565.700  -10.029.771.361.550.100  "
      ]
     },
     "metadata": {},
     "output_type": "display_data"
    }
   ],
   "source": [
    "# Cargando datos de tienda desde el archivo especificado\n",
    "store = read_csv('data/input/4_tienda.csv', sep = ';', encoding='utf-8')\n",
    "# Usamos la función option_context para establecer el número máximo de columnas para mostrar\n",
    "with option_context(\"display.max_columns\", None):\n",
    "# Usamos la función de visualización para mostrar las primeras 5 filas de los datos\n",
    "    display(store.head(n = 5))"
   ]
  },
  {
   "cell_type": "code",
   "execution_count": 34,
   "id": "ed153b65-6d1d-4ee7-96ba-8daa8c242647",
   "metadata": {
    "id": "ed153b65-6d1d-4ee7-96ba-8daa8c242647",
    "outputId": "cebbdee3-015e-4a62-ef0a-35497352a2bd"
   },
   "outputs": [
    {
     "data": {
      "text/plain": [
       "['store_branch_id', 'store', 'lat', 'lng']"
      ]
     },
     "execution_count": 34,
     "metadata": {},
     "output_type": "execute_result"
    }
   ],
   "source": [
    "# Obtiene una lista de nombres de columnas de un DataFrame de pandas.\n",
    "store.columns.to_list()"
   ]
  },
  {
   "cell_type": "markdown",
   "id": "69d9794b-8e2f-48af-850b-fd28053d21ce",
   "metadata": {
    "id": "69d9794b-8e2f-48af-850b-fd28053d21ce"
   },
   "source": [
    "#### Normalizando nombre de columnas"
   ]
  },
  {
   "cell_type": "code",
   "execution_count": 35,
   "id": "a7b3a0a6-7772-431f-bd23-9f4aee4200e4",
   "metadata": {
    "id": "a7b3a0a6-7772-431f-bd23-9f4aee4200e4",
    "outputId": "44f8369e-5dd1-41c6-d964-12276f16ba9b"
   },
   "outputs": [
    {
     "data": {
      "text/html": [
       "<pre style=\"white-space:pre;overflow-x:auto;line-height:normal;font-family:Menlo,'DejaVu Sans Mono',consolas,'Courier New',monospace\"><span style=\"color: #008080; text-decoration-color: #008080; font-weight: bold\">0</span> column names have been cleaned\n",
       "</pre>\n"
      ],
      "text/plain": [
       "\u001b[1;36m0\u001b[0m column names have been cleaned\n"
      ]
     },
     "metadata": {},
     "output_type": "display_data"
    },
    {
     "data": {
      "text/plain": [
       "['store_branch_id', 'store', 'lat', 'lng']"
      ]
     },
     "execution_count": 35,
     "metadata": {},
     "output_type": "execute_result"
    }
   ],
   "source": [
    "# Asigna al dataframe el resultado de llamar a la función clean_columns().\n",
    "# Esta función tiene como objetivo limpiar los nombres de las columnas del DataFrame.\n",
    "# Elimina los caracteres especiales y los espacios los reemplaza por un _\n",
    "store = clean_columns(store, case = 'snake')\n",
    "# Obtiene una lista de nombres de columnas de un DataFrame de pandas.\n",
    "store.columns.to_list()"
   ]
  },
  {
   "cell_type": "markdown",
   "id": "6e986d0f-b38c-4e65-8630-a0dfdda92b06",
   "metadata": {
    "id": "6e986d0f-b38c-4e65-8630-a0dfdda92b06"
   },
   "source": [
    "#### Imputando valores perdidos"
   ]
  },
  {
   "cell_type": "code",
   "execution_count": 36,
   "id": "b30ef3b0-f54c-44d1-89a1-8662b1c759f8",
   "metadata": {
    "id": "b30ef3b0-f54c-44d1-89a1-8662b1c759f8"
   },
   "outputs": [],
   "source": [
    "# Dataset no tiene valores perdidos"
   ]
  },
  {
   "cell_type": "markdown",
   "id": "bBodc8rGs-5-",
   "metadata": {
    "id": "bBodc8rGs-5-"
   },
   "source": [
    "#### Imputando valores duplicados"
   ]
  },
  {
   "cell_type": "code",
   "execution_count": 37,
   "id": "DX4W9W1Js7xE",
   "metadata": {
    "id": "DX4W9W1Js7xE"
   },
   "outputs": [],
   "source": [
    "store = store.drop_duplicates()\n",
    "store = store.reset_index(drop=True)"
   ]
  },
  {
   "cell_type": "markdown",
   "id": "e07d2282-e453-4095-9cf0-87aa9107079d",
   "metadata": {
    "id": "e07d2282-e453-4095-9cf0-87aa9107079d"
   },
   "source": [
    "#### Normalizando columnas para eliminar puntos adicionales y ajustando largo de decimales"
   ]
  },
  {
   "cell_type": "code",
   "execution_count": 38,
   "id": "6fbec476-bcfa-4648-80bd-529ec4f514dd",
   "metadata": {
    "id": "6fbec476-bcfa-4648-80bd-529ec4f514dd"
   },
   "outputs": [],
   "source": [
    "# Eliminando . (puntos) despues del primer punto a la izquierda\n",
    "# Rransformando las columnas \"lat\" y \"lng\" del DataFrame.\n",
    "# La función DataFrame.map() aplica una función lambda a cada elemento de la columna seleccionada\n",
    "# y devuelve una serie con los resultados.\n",
    "# En este caso, la función lambda recibe como argumento x y reemplaza cada \".\" en el string con una cadena vacía\n",
    "# (es decir, elimina los puntos decimales). Luego, \n",
    "# se extraen los primeros dos dígitos para la columna \"lat\" \n",
    "# y los primeros tres dígitos para la columna \"lng\",\n",
    "# luego se concatenan con un nuevo punto decimal y los siguientes cinco dígitos del string original \n",
    "# (considerando la posición inicial dependiendo de la columna).\n",
    "# Por último, se utiliza la función Series.astype() para cambiar el tipo de datos de las columnas \"lat\" y \"lng\" a float64.\n",
    "# Esto se hace para que los valores de las columnas puedan ser tratados como números.\n",
    "# store['lat'] = store['lat'].map(lambda x: x[0:x.find('.')] + '.' + x[x.find('.'):].replace('.', '')[0:5]).astype(float)\n",
    "# store['lng'] = store['lng'].map(lambda x: x[0:x.find('.')] + '.' + x[x.find('.'):].replace('.', '')[0:5]).astype(float)\n",
    "store['lat'] = store['lat'].map(lambda x: x.replace('.', '')[:2] + '.' + x.replace('.', '')[2:7]).astype('float64')\n",
    "store['lng'] = store['lng'].map(lambda x: x.replace('.', '')[:3] + '.' + x.replace('.', '')[3:8]).astype('float64')"
   ]
  },
  {
   "cell_type": "markdown",
   "id": "fcec8be1-c2c4-459a-b0c9-1fdcad76bccf",
   "metadata": {
    "id": "fcec8be1-c2c4-459a-b0c9-1fdcad76bccf",
    "tags": []
   },
   "source": [
    "##### Inspeccion visual transformaciones"
   ]
  },
  {
   "cell_type": "code",
   "execution_count": 39,
   "id": "c89e3fbc-5102-4243-9532-60e10987bbf3",
   "metadata": {
    "id": "c89e3fbc-5102-4243-9532-60e10987bbf3",
    "outputId": "c295f7a5-1b2e-4d8f-b2b8-2ca429300b74"
   },
   "outputs": [
    {
     "data": {
      "text/html": [
       "<div>\n",
       "<style scoped>\n",
       "    .dataframe tbody tr th:only-of-type {\n",
       "        vertical-align: middle;\n",
       "    }\n",
       "\n",
       "    .dataframe tbody tr th {\n",
       "        vertical-align: top;\n",
       "    }\n",
       "\n",
       "    .dataframe thead th {\n",
       "        text-align: right;\n",
       "    }\n",
       "</style>\n",
       "<table border=\"1\" class=\"dataframe\">\n",
       "  <thead>\n",
       "    <tr style=\"text-align: right;\">\n",
       "      <th></th>\n",
       "      <th>store_branch_id</th>\n",
       "      <th>store</th>\n",
       "      <th>lat</th>\n",
       "      <th>lng</th>\n",
       "    </tr>\n",
       "  </thead>\n",
       "  <tbody>\n",
       "    <tr>\n",
       "      <th>0</th>\n",
       "      <td>cf0895f1e3beb8164f0a86e6f940ae56</td>\n",
       "      <td>c0b93cf93cf854981b8d6bd849eec4b0</td>\n",
       "      <td>18.16030</td>\n",
       "      <td>-10.02606</td>\n",
       "    </tr>\n",
       "    <tr>\n",
       "      <th>1</th>\n",
       "      <td>3ddd4c29cab4178d89d549c6ba65c236</td>\n",
       "      <td>044d56734d20e04984d846dade6d39f3</td>\n",
       "      <td>18.27282</td>\n",
       "      <td>-10.03188</td>\n",
       "    </tr>\n",
       "    <tr>\n",
       "      <th>2</th>\n",
       "      <td>e9763f24fd46d0b9e52d423207a87c3c</td>\n",
       "      <td>452ae015bf846e1d2932b7ea15720d64</td>\n",
       "      <td>18.27349</td>\n",
       "      <td>-10.03195</td>\n",
       "    </tr>\n",
       "    <tr>\n",
       "      <th>3</th>\n",
       "      <td>49b7d60d6095a9f1129ce798102b62f4</td>\n",
       "      <td>6447951cd071f6f045fd4e6194920926</td>\n",
       "      <td>18.24774</td>\n",
       "      <td>-10.04035</td>\n",
       "    </tr>\n",
       "    <tr>\n",
       "      <th>4</th>\n",
       "      <td>8f21cfda17b340aeee062220d0bee8e5</td>\n",
       "      <td>452ae015bf846e1d2932b7ea15720d64</td>\n",
       "      <td>18.20311</td>\n",
       "      <td>-10.02977</td>\n",
       "    </tr>\n",
       "  </tbody>\n",
       "</table>\n",
       "</div>"
      ],
      "text/plain": [
       "                    store_branch_id                             store  \\\n",
       "0  cf0895f1e3beb8164f0a86e6f940ae56  c0b93cf93cf854981b8d6bd849eec4b0   \n",
       "1  3ddd4c29cab4178d89d549c6ba65c236  044d56734d20e04984d846dade6d39f3   \n",
       "2  e9763f24fd46d0b9e52d423207a87c3c  452ae015bf846e1d2932b7ea15720d64   \n",
       "3  49b7d60d6095a9f1129ce798102b62f4  6447951cd071f6f045fd4e6194920926   \n",
       "4  8f21cfda17b340aeee062220d0bee8e5  452ae015bf846e1d2932b7ea15720d64   \n",
       "\n",
       "        lat       lng  \n",
       "0  18.16030 -10.02606  \n",
       "1  18.27282 -10.03188  \n",
       "2  18.27349 -10.03195  \n",
       "3  18.24774 -10.04035  \n",
       "4  18.20311 -10.02977  "
      ]
     },
     "metadata": {},
     "output_type": "display_data"
    }
   ],
   "source": [
    "# Usamos la función option_context para establecer el número máximo de columnas para mostrar\n",
    "with option_context(\"display.max_columns\", None):\n",
    "# Usamos la función de visualización para mostrar las primeras 5 filas de los datos\n",
    "    display(store.head(n = 5))"
   ]
  },
  {
   "cell_type": "code",
   "execution_count": 40,
   "id": "1da5f2f9-6ee0-40ac-8df1-17b1f7848c5b",
   "metadata": {
    "id": "1da5f2f9-6ee0-40ac-8df1-17b1f7848c5b",
    "outputId": "00ea7a54-0ca4-42b0-f5ea-d551faa51f5c"
   },
   "outputs": [
    {
     "name": "stdout",
     "output_type": "stream",
     "text": [
      "<class 'pandas.core.frame.DataFrame'>\n",
      "RangeIndex: 113 entries, 0 to 112\n",
      "Data columns (total 4 columns):\n",
      " #   Column           Non-Null Count  Dtype  \n",
      "---  ------           --------------  -----  \n",
      " 0   store_branch_id  113 non-null    object \n",
      " 1   store            113 non-null    object \n",
      " 2   lat              113 non-null    float64\n",
      " 3   lng              113 non-null    float64\n",
      "dtypes: float64(2), object(2)\n",
      "memory usage: 3.7+ KB\n"
     ]
    }
   ],
   "source": [
    "store.info()"
   ]
  },
  {
   "cell_type": "markdown",
   "id": "de367504-73a5-4e4b-a232-2b3eb8ad0126",
   "metadata": {
    "id": "de367504-73a5-4e4b-a232-2b3eb8ad0126",
    "tags": []
   },
   "source": [
    "#### Guardando dataset"
   ]
  },
  {
   "cell_type": "code",
   "execution_count": 41,
   "id": "0465272d-0f80-476e-86cb-4a5d306a6125",
   "metadata": {
    "id": "0465272d-0f80-476e-86cb-4a5d306a6125"
   },
   "outputs": [],
   "source": [
    "#  La función pickle.dump() permite guardar el dataframe en un archivo en formato plk\n",
    "pickle.dump(store, open('data/output/store.plk', 'wb'))"
   ]
  },
  {
   "cell_type": "code",
   "execution_count": null,
   "id": "217fd735-d5fa-4cb0-991f-3e1b0727fb2b",
   "metadata": {
    "id": "217fd735-d5fa-4cb0-991f-3e1b0727fb2b"
   },
   "outputs": [],
   "source": []
  }
 ],
 "metadata": {
  "colab": {
   "collapsed_sections": [
    "XW1oTQnirl3z",
    "8bf94936-1541-4703-94b6-ff9ac2a0ece5",
    "62ea0eeb-ff2d-4bda-b96f-0507cef7a4a0",
    "5077306d-5dc2-4a5f-b2e0-799115a0f518",
    "ICWd5iwAsbgs",
    "901fcc06-8c3a-404b-ada9-beb1b3b769d5",
    "e5eb55d7-9c4d-41a8-be98-1b6895e7fdb0",
    "06da11ae-a54f-4362-83b5-6ca9ac2bcad1",
    "effa669a-64a1-4b32-86d6-811bba446efa",
    "XAS-nAo5srPn",
    "36803fcd-5a88-412c-a60f-07bab405675a",
    "69d9794b-8e2f-48af-850b-fd28053d21ce",
    "6e986d0f-b38c-4e65-8630-a0dfdda92b06",
    "bBodc8rGs-5-",
    "e07d2282-e453-4095-9cf0-87aa9107079d",
    "de367504-73a5-4e4b-a232-2b3eb8ad0126"
   ],
   "provenance": [],
   "toc_visible": true
  },
  "kernelspec": {
   "display_name": "Python 3 (ipykernel)",
   "language": "python",
   "name": "python3"
  },
  "language_info": {
   "codemirror_mode": {
    "name": "ipython",
    "version": 3
   },
   "file_extension": ".py",
   "mimetype": "text/x-python",
   "name": "python",
   "nbconvert_exporter": "python",
   "pygments_lexer": "ipython3",
   "version": "3.8.13"
  }
 },
 "nbformat": 4,
 "nbformat_minor": 5
}
