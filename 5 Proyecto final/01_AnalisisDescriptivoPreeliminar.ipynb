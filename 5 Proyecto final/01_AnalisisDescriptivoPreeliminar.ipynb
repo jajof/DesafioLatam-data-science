{
 "cells": [
  {
   "cell_type": "markdown",
   "id": "30b6a3eb-3423-409c-899c-fa072a4c2119",
   "metadata": {
    "id": "30b6a3eb-3423-409c-899c-fa072a4c2119"
   },
   "source": [
    "### Cargando modulos y preparando el ambiente de trabajo"
   ]
  },
  {
   "cell_type": "code",
   "execution_count": 1,
   "id": "3a5586e8-829e-45bb-8ee0-e9f7f6f1dfc8",
   "metadata": {
    "id": "3a5586e8-829e-45bb-8ee0-e9f7f6f1dfc8"
   },
   "outputs": [],
   "source": [
    "# Cargando módulos\n",
    "# ---------------------------------------------------------------------------------------\n",
    "# Configuración warnings\n",
    "# Importando módulo warnings\n",
    "import warnings\n",
    "\n",
    "# Ignorar warnings\n",
    "warnings.filterwarnings(\"ignore\")\n",
    "\n",
    "# Importando importOrInstall function desde el modulo lib.functChecModule\n",
    "from lib.functChecModule import importOrInstall\n",
    "\n",
    "# Use the importOrInstall function para validar si el modulo 'yaml' module se encuentra instalado, y si es necesario lo instala\n",
    "importOrInstall(\"yaml\")\n",
    "\n",
    "# Use the importOrInstall function para validar si el modulo 'skimpy' module se encuentra instalado, y si es necesario lo instala\n",
    "importOrInstall('skimpy')"
   ]
  },
  {
   "cell_type": "code",
   "execution_count": 2,
   "id": "0e74295e-f897-4195-898c-52792570cbe8",
   "metadata": {
    "id": "0e74295e-f897-4195-898c-52792570cbe8"
   },
   "outputs": [],
   "source": [
    "# Manipulando datos\n",
    "# Importando varios modulos de la modulo pandas\n",
    "from pandas import DataFrame, read_csv, set_option, option_context, Series\n",
    "\n",
    "# Importando varios modulos de la modulo numpy\n",
    "from numpy import nan, where\n",
    "\n",
    "# Importando la clase SafeLoader desde el modulo yaml.loader\n",
    "from yaml.loader import SafeLoader\n",
    "\n",
    "# Importando los modulos json y yaml\n",
    "import json\n",
    "import yaml\n",
    "\n",
    "# Importando el modulo statistics\n",
    "import statistics\n",
    "\n",
    "# Importando la funcion clean_columns desde el modulo skimpy\n",
    "from skimpy import clean_columns\n",
    "\n",
    "# Importando el modulo missingno y asignando un alias msno\n",
    "import missingno as msno\n",
    "\n",
    "# Importando el modulo pickle\n",
    "import pickle\n",
    "\n",
    "# Importando los modulos os y glob\n",
    "import os\n",
    "import glob\n",
    "\n",
    "# Importando varios modulos de la modulo psycopg2\n",
    "# import psycopg2\n",
    "# from psycopg2 import connect, extensions, sql\n",
    "\n",
    "# Importando la funcion create_engine desde la modulo sqlalchemy\n",
    "# from sqlalchemy import create_engine\n",
    "\n",
    "# Importando la funcion haversine desde el modulo haversine\n",
    "from haversine import haversine\n",
    "\n",
    "# Importando funciones custom custom desde el modulo lib.functDescriptiveAnalysis \n",
    "from lib.functDescriptiveAnalysis import inspectDataFrameDA, countNaNDA\n",
    "\n",
    "# Importando funciones custom custom desde el modulo lib.functCleanData\n",
    "from lib.functCleanData import convert_float, whitespaceRemover\n",
    "\n",
    "# Importando el modulo seaborn y asignando un alias sns\n",
    "import seaborn as sns"
   ]
  },
  {
   "cell_type": "code",
   "execution_count": 3,
   "id": "7c3ea415-825d-42f0-be49-899fe14ebf51",
   "metadata": {
    "id": "7c3ea415-825d-42f0-be49-899fe14ebf51"
   },
   "outputs": [],
   "source": [
    "# Preparando los datos\n",
    "# ---------------------------------------------------------------------------------------\n",
    "# Cargando datos\n",
    "purchase_order = read_csv('data/input/1_Orden_compra.csv', sep = ';', encoding='utf-8')\n",
    "product_order = read_csv('data/input/2_Orden_productos.csv', sep = ';', encoding='utf-8')\n",
    "shopper = read_csv('data/input/3_Recolector.csv', sep = ';', encoding='utf-8')\n",
    "store = read_csv('data/input/4_tienda.csv', sep = ';', encoding='utf-8')"
   ]
  },
  {
   "cell_type": "code",
   "execution_count": 4,
   "id": "1b45de2d-5a78-4321-995c-e8ff69bdc6ba",
   "metadata": {
    "id": "1b45de2d-5a78-4321-995c-e8ff69bdc6ba",
    "outputId": "fd4bf755-2829-4626-a3d0-dfab55e9eb4b",
    "tags": []
   },
   "outputs": [
    {
     "name": "stdout",
     "output_type": "stream",
     "text": [
      "\n",
      "\u001b[1mEstructura del dataset: purchase_order\u001b[0m\n",
      "\n",
      "<class 'pandas.core.frame.DataFrame'>\n",
      "RangeIndex: 7295 entries, 0 to 7294\n",
      "Data columns (total 11 columns):\n",
      " #   Column           Non-Null Count  Dtype \n",
      "---  ------           --------------  ----- \n",
      " 0   order_id         7295 non-null   object\n",
      " 1   lat              7295 non-null   object\n",
      " 2   lng              7295 non-null   object\n",
      " 3   dow              7295 non-null   int64 \n",
      " 4   promised_time    7295 non-null   object\n",
      " 5   actual_time      7295 non-null   object\n",
      " 6   on_demand        7295 non-null   bool  \n",
      " 7   picker_id        7295 non-null   object\n",
      " 8   driver_id        7295 non-null   object\n",
      " 9   store_branch_id  7295 non-null   object\n",
      " 10  total_minutes    6543 non-null   object\n",
      "dtypes: bool(1), int64(1), object(9)\n",
      "memory usage: 577.2+ KB\n",
      "\n",
      "\u001b[1mEstructura del dataset: product_order\u001b[0m\n",
      "\n",
      "<class 'pandas.core.frame.DataFrame'>\n",
      "RangeIndex: 120876 entries, 0 to 120875\n",
      "Data columns (total 5 columns):\n",
      " #   Column          Non-Null Count   Dtype  \n",
      "---  ------          --------------   -----  \n",
      " 0   order_id        120876 non-null  object \n",
      " 1   product_id      120876 non-null  object \n",
      " 2   quantity        120876 non-null  object \n",
      " 3   quantity_found  120876 non-null  float64\n",
      " 4   buy_unit        120876 non-null  object \n",
      "dtypes: float64(1), object(4)\n",
      "memory usage: 4.6+ MB\n",
      "\n",
      "\u001b[1mEstructura del dataset: shopper\u001b[0m\n",
      "\n",
      "<class 'pandas.core.frame.DataFrame'>\n",
      "RangeIndex: 600 entries, 0 to 599\n",
      "Data columns (total 6 columns):\n",
      " #   Column         Non-Null Count  Dtype  \n",
      "---  ------         --------------  -----  \n",
      " 0   shopper_id     600 non-null    object \n",
      " 1   seniority      600 non-null    object \n",
      " 2   found_rate     564 non-null    float64\n",
      " 3   picking_speed  600 non-null    float64\n",
      " 4   accepted_rate  594 non-null    float64\n",
      " 5   rating         566 non-null    float64\n",
      "dtypes: float64(4), object(2)\n",
      "memory usage: 28.2+ KB\n",
      "\n",
      "\u001b[1mEstructura del dataset: store\u001b[0m\n",
      "\n",
      "<class 'pandas.core.frame.DataFrame'>\n",
      "RangeIndex: 113 entries, 0 to 112\n",
      "Data columns (total 4 columns):\n",
      " #   Column           Non-Null Count  Dtype \n",
      "---  ------           --------------  ----- \n",
      " 0   store_branch_id  113 non-null    object\n",
      " 1   store            113 non-null    object\n",
      " 2   lat              113 non-null    object\n",
      " 3   lng              113 non-null    object\n",
      "dtypes: object(4)\n",
      "memory usage: 3.7+ KB\n"
     ]
    }
   ],
   "source": [
    "# Inspeccion visual\n",
    "# ---------------------------------------------------------------------------------------\n",
    "# Revisando estructura del dataset purchase_order\n",
    "print(\"\\n\\033[1mEstructura del dataset: purchase_order\\033[0m\\n\")\n",
    "purchase_order.info()\n",
    "print(\"\\n\\033[1mEstructura del dataset: product_order\\033[0m\\n\")\n",
    "product_order.info()\n",
    "print(\"\\n\\033[1mEstructura del dataset: shopper\\033[0m\\n\")\n",
    "shopper.info()\n",
    "print(\"\\n\\033[1mEstructura del dataset: store\\033[0m\\n\")\n",
    "store.info()"
   ]
  },
  {
   "cell_type": "code",
   "execution_count": 5,
   "id": "652a481a-dd70-4a18-8a77-c24a7416893e",
   "metadata": {
    "id": "652a481a-dd70-4a18-8a77-c24a7416893e",
    "outputId": "025f9f57-896d-4c84-ac34-ae5ff3bf7177"
   },
   "outputs": [
    {
     "data": {
      "text/html": [
       "<div>\n",
       "<style scoped>\n",
       "    .dataframe tbody tr th:only-of-type {\n",
       "        vertical-align: middle;\n",
       "    }\n",
       "\n",
       "    .dataframe tbody tr th {\n",
       "        vertical-align: top;\n",
       "    }\n",
       "\n",
       "    .dataframe thead th {\n",
       "        text-align: right;\n",
       "    }\n",
       "</style>\n",
       "<table border=\"1\" class=\"dataframe\">\n",
       "  <thead>\n",
       "    <tr style=\"text-align: right;\">\n",
       "      <th></th>\n",
       "      <th>order_id</th>\n",
       "      <th>lat</th>\n",
       "      <th>lng</th>\n",
       "      <th>dow</th>\n",
       "      <th>promised_time</th>\n",
       "      <th>actual_time</th>\n",
       "      <th>on_demand</th>\n",
       "      <th>picker_id</th>\n",
       "      <th>driver_id</th>\n",
       "      <th>store_branch_id</th>\n",
       "      <th>total_minutes</th>\n",
       "    </tr>\n",
       "  </thead>\n",
       "  <tbody>\n",
       "    <tr>\n",
       "      <th>0</th>\n",
       "      <td>6abd5e28d01b7c733fe37485294235dc</td>\n",
       "      <td>1.822.114.109.606.680</td>\n",
       "      <td>-10.031.391.366.664.600</td>\n",
       "      <td>2</td>\n",
       "      <td>13:00:00</td>\n",
       "      <td>12:00:15</td>\n",
       "      <td>False</td>\n",
       "      <td>09bb5bfe76adbb474dddbdd111a51623</td>\n",
       "      <td>09bb5bfe76adbb474dddbdd111a51623</td>\n",
       "      <td>0dc6fb5924a8b917bc641666ed02663c</td>\n",
       "      <td>91.800.861</td>\n",
       "    </tr>\n",
       "    <tr>\n",
       "      <th>1</th>\n",
       "      <td>0d37a1eea001f01b40232ffd496ff663</td>\n",
       "      <td>18.177.712.202.580.300</td>\n",
       "      <td>-10.035.705.073.096.900</td>\n",
       "      <td>2</td>\n",
       "      <td>13:00:00</td>\n",
       "      <td>10:28:10</td>\n",
       "      <td>False</td>\n",
       "      <td>c4c722114a82fa21654e57e9636d68b0</td>\n",
       "      <td>c4c722114a82fa21654e57e9636d68b0</td>\n",
       "      <td>2bbf833e689d24b697f1f3529c3f3c4b</td>\n",
       "      <td>206.599.732</td>\n",
       "    </tr>\n",
       "    <tr>\n",
       "      <th>2</th>\n",
       "      <td>528428e9b9eb5d3bd0dbdd8da692b087</td>\n",
       "      <td>1.826.683.205.404.410</td>\n",
       "      <td>-10.031.755.280.890.600</td>\n",
       "      <td>2</td>\n",
       "      <td>11:00:00</td>\n",
       "      <td>10:40:50</td>\n",
       "      <td>False</td>\n",
       "      <td>e15c7a67d0ea9a54dffb410bc1d8528b</td>\n",
       "      <td>e15c7a67d0ea9a54dffb410bc1d8528b</td>\n",
       "      <td>8d891dfc0e29d744c15c18adced74a68</td>\n",
       "      <td>93.458.001</td>\n",
       "    </tr>\n",
       "  </tbody>\n",
       "</table>\n",
       "</div>"
      ],
      "text/plain": [
       "                           order_id                     lat  \\\n",
       "0  6abd5e28d01b7c733fe37485294235dc   1.822.114.109.606.680   \n",
       "1  0d37a1eea001f01b40232ffd496ff663  18.177.712.202.580.300   \n",
       "2  528428e9b9eb5d3bd0dbdd8da692b087   1.826.683.205.404.410   \n",
       "\n",
       "                       lng  dow promised_time actual_time  on_demand  \\\n",
       "0  -10.031.391.366.664.600    2      13:00:00    12:00:15      False   \n",
       "1  -10.035.705.073.096.900    2      13:00:00    10:28:10      False   \n",
       "2  -10.031.755.280.890.600    2      11:00:00    10:40:50      False   \n",
       "\n",
       "                          picker_id                         driver_id  \\\n",
       "0  09bb5bfe76adbb474dddbdd111a51623  09bb5bfe76adbb474dddbdd111a51623   \n",
       "1  c4c722114a82fa21654e57e9636d68b0  c4c722114a82fa21654e57e9636d68b0   \n",
       "2  e15c7a67d0ea9a54dffb410bc1d8528b  e15c7a67d0ea9a54dffb410bc1d8528b   \n",
       "\n",
       "                    store_branch_id total_minutes  \n",
       "0  0dc6fb5924a8b917bc641666ed02663c    91.800.861  \n",
       "1  2bbf833e689d24b697f1f3529c3f3c4b   206.599.732  \n",
       "2  8d891dfc0e29d744c15c18adced74a68    93.458.001  "
      ]
     },
     "metadata": {},
     "output_type": "display_data"
    }
   ],
   "source": [
    "# Revisando dataset purchase_order\n",
    "# Usamos la función option_context para establecer el número máximo de columnas para mostrar\n",
    "with option_context(\"display.max_columns\", None):\n",
    "    # Usamos la función de visualización para mostrar las primeras 5 filas de los datos\n",
    "    display(purchase_order.head(n = 3))"
   ]
  },
  {
   "cell_type": "code",
   "execution_count": 6,
   "id": "f8315f71-ab14-4e56-a466-0bfa263fc877",
   "metadata": {
    "id": "f8315f71-ab14-4e56-a466-0bfa263fc877",
    "outputId": "9fdc0f75-168a-44d8-ab8a-b0f05615fbff"
   },
   "outputs": [
    {
     "data": {
      "text/html": [
       "<div>\n",
       "<style scoped>\n",
       "    .dataframe tbody tr th:only-of-type {\n",
       "        vertical-align: middle;\n",
       "    }\n",
       "\n",
       "    .dataframe tbody tr th {\n",
       "        vertical-align: top;\n",
       "    }\n",
       "\n",
       "    .dataframe thead th {\n",
       "        text-align: right;\n",
       "    }\n",
       "</style>\n",
       "<table border=\"1\" class=\"dataframe\">\n",
       "  <thead>\n",
       "    <tr style=\"text-align: right;\">\n",
       "      <th></th>\n",
       "      <th>order_id</th>\n",
       "      <th>product_id</th>\n",
       "      <th>quantity</th>\n",
       "      <th>quantity_found</th>\n",
       "      <th>buy_unit</th>\n",
       "    </tr>\n",
       "  </thead>\n",
       "  <tbody>\n",
       "    <tr>\n",
       "      <th>0</th>\n",
       "      <td>bdfc44fb525986b7bab8c589fc47e853</td>\n",
       "      <td>ab9757d9892b0e83ab3a1c1af0c84c52</td>\n",
       "      <td>0.75</td>\n",
       "      <td>0.155</td>\n",
       "      <td>KG</td>\n",
       "    </tr>\n",
       "    <tr>\n",
       "      <th>1</th>\n",
       "      <td>bdfc44fb525986b7bab8c589fc47e853</td>\n",
       "      <td>f1f042251bf634d44f338fbaf13b16e4</td>\n",
       "      <td>0.3</td>\n",
       "      <td>0.400</td>\n",
       "      <td>KG</td>\n",
       "    </tr>\n",
       "    <tr>\n",
       "      <th>2</th>\n",
       "      <td>bdfc44fb525986b7bab8c589fc47e853</td>\n",
       "      <td>0630d47440965509b0b3f80fd1b3578f</td>\n",
       "      <td>1</td>\n",
       "      <td>1.000</td>\n",
       "      <td>UN</td>\n",
       "    </tr>\n",
       "  </tbody>\n",
       "</table>\n",
       "</div>"
      ],
      "text/plain": [
       "                           order_id                        product_id  \\\n",
       "0  bdfc44fb525986b7bab8c589fc47e853  ab9757d9892b0e83ab3a1c1af0c84c52   \n",
       "1  bdfc44fb525986b7bab8c589fc47e853  f1f042251bf634d44f338fbaf13b16e4   \n",
       "2  bdfc44fb525986b7bab8c589fc47e853  0630d47440965509b0b3f80fd1b3578f   \n",
       "\n",
       "  quantity  quantity_found buy_unit  \n",
       "0     0.75           0.155       KG  \n",
       "1      0.3           0.400       KG  \n",
       "2        1           1.000       UN  "
      ]
     },
     "metadata": {},
     "output_type": "display_data"
    }
   ],
   "source": [
    "# Revisando dataset product_order\n",
    "# Usamos la función option_context para establecer el número máximo de columnas para mostrar\n",
    "with option_context(\"display.max_columns\", None):\n",
    "    # Usamos la función de visualización para mostrar las primeras 5 filas de los datos\n",
    "    display(product_order.head(n = 3))"
   ]
  },
  {
   "cell_type": "code",
   "execution_count": 7,
   "id": "98897833-eab4-45f7-8169-0e03f47e6a23",
   "metadata": {
    "id": "98897833-eab4-45f7-8169-0e03f47e6a23",
    "outputId": "31a60198-6908-47d4-cc42-8fbd2caa6ddc"
   },
   "outputs": [
    {
     "data": {
      "text/html": [
       "<div>\n",
       "<style scoped>\n",
       "    .dataframe tbody tr th:only-of-type {\n",
       "        vertical-align: middle;\n",
       "    }\n",
       "\n",
       "    .dataframe tbody tr th {\n",
       "        vertical-align: top;\n",
       "    }\n",
       "\n",
       "    .dataframe thead th {\n",
       "        text-align: right;\n",
       "    }\n",
       "</style>\n",
       "<table border=\"1\" class=\"dataframe\">\n",
       "  <thead>\n",
       "    <tr style=\"text-align: right;\">\n",
       "      <th></th>\n",
       "      <th>shopper_id</th>\n",
       "      <th>seniority</th>\n",
       "      <th>found_rate</th>\n",
       "      <th>picking_speed</th>\n",
       "      <th>accepted_rate</th>\n",
       "      <th>rating</th>\n",
       "    </tr>\n",
       "  </thead>\n",
       "  <tbody>\n",
       "    <tr>\n",
       "      <th>0</th>\n",
       "      <td>087ab65ceca40dbef697f585dc159d5d</td>\n",
       "      <td>ADVANCED</td>\n",
       "      <td>0.8610</td>\n",
       "      <td>1.64</td>\n",
       "      <td>1.00</td>\n",
       "      <td>4.48</td>\n",
       "    </tr>\n",
       "    <tr>\n",
       "      <th>1</th>\n",
       "      <td>645973c41314d763b58dc2bceeeeffc9</td>\n",
       "      <td>INTERMEDIATE</td>\n",
       "      <td>0.8337</td>\n",
       "      <td>2.83</td>\n",
       "      <td>0.96</td>\n",
       "      <td>4.79</td>\n",
       "    </tr>\n",
       "    <tr>\n",
       "      <th>2</th>\n",
       "      <td>82810715fdda44962e7e422015ea1f32</td>\n",
       "      <td>ADVANCED</td>\n",
       "      <td>0.8681</td>\n",
       "      <td>1.27</td>\n",
       "      <td>0.88</td>\n",
       "      <td>4.84</td>\n",
       "    </tr>\n",
       "  </tbody>\n",
       "</table>\n",
       "</div>"
      ],
      "text/plain": [
       "                         shopper_id     seniority  found_rate  picking_speed  \\\n",
       "0  087ab65ceca40dbef697f585dc159d5d      ADVANCED      0.8610           1.64   \n",
       "1  645973c41314d763b58dc2bceeeeffc9  INTERMEDIATE      0.8337           2.83   \n",
       "2  82810715fdda44962e7e422015ea1f32      ADVANCED      0.8681           1.27   \n",
       "\n",
       "   accepted_rate  rating  \n",
       "0           1.00    4.48  \n",
       "1           0.96    4.79  \n",
       "2           0.88    4.84  "
      ]
     },
     "metadata": {},
     "output_type": "display_data"
    }
   ],
   "source": [
    "# Revisando dataset shopper\n",
    "# Usamos la función option_context para establecer el número máximo de columnas para mostrar\n",
    "with option_context(\"display.max_columns\", None):\n",
    "    # Usamos la función de visualización para mostrar las primeras 5 filas de los datos\n",
    "    display(shopper.head(n = 3))"
   ]
  },
  {
   "cell_type": "code",
   "execution_count": 8,
   "id": "70f04916-371f-4bfd-949a-86df4873dca2",
   "metadata": {
    "id": "70f04916-371f-4bfd-949a-86df4873dca2",
    "outputId": "41b4b05b-a925-4b0b-9957-15314e24c469"
   },
   "outputs": [
    {
     "data": {
      "text/html": [
       "<div>\n",
       "<style scoped>\n",
       "    .dataframe tbody tr th:only-of-type {\n",
       "        vertical-align: middle;\n",
       "    }\n",
       "\n",
       "    .dataframe tbody tr th {\n",
       "        vertical-align: top;\n",
       "    }\n",
       "\n",
       "    .dataframe thead th {\n",
       "        text-align: right;\n",
       "    }\n",
       "</style>\n",
       "<table border=\"1\" class=\"dataframe\">\n",
       "  <thead>\n",
       "    <tr style=\"text-align: right;\">\n",
       "      <th></th>\n",
       "      <th>store_branch_id</th>\n",
       "      <th>store</th>\n",
       "      <th>lat</th>\n",
       "      <th>lng</th>\n",
       "    </tr>\n",
       "  </thead>\n",
       "  <tbody>\n",
       "    <tr>\n",
       "      <th>0</th>\n",
       "      <td>cf0895f1e3beb8164f0a86e6f940ae56</td>\n",
       "      <td>c0b93cf93cf854981b8d6bd849eec4b0</td>\n",
       "      <td>18.160.308.413.602.800</td>\n",
       "      <td>-10.026.067.265.111.100</td>\n",
       "    </tr>\n",
       "    <tr>\n",
       "      <th>1</th>\n",
       "      <td>3ddd4c29cab4178d89d549c6ba65c236</td>\n",
       "      <td>044d56734d20e04984d846dade6d39f3</td>\n",
       "      <td>1.827.282.968.914.450</td>\n",
       "      <td>-10.031.881.435.593.900</td>\n",
       "    </tr>\n",
       "    <tr>\n",
       "      <th>2</th>\n",
       "      <td>e9763f24fd46d0b9e52d423207a87c3c</td>\n",
       "      <td>452ae015bf846e1d2932b7ea15720d64</td>\n",
       "      <td>18.273.494.015.704.800</td>\n",
       "      <td>-10.031.958.539.978.200</td>\n",
       "    </tr>\n",
       "  </tbody>\n",
       "</table>\n",
       "</div>"
      ],
      "text/plain": [
       "                    store_branch_id                             store  \\\n",
       "0  cf0895f1e3beb8164f0a86e6f940ae56  c0b93cf93cf854981b8d6bd849eec4b0   \n",
       "1  3ddd4c29cab4178d89d549c6ba65c236  044d56734d20e04984d846dade6d39f3   \n",
       "2  e9763f24fd46d0b9e52d423207a87c3c  452ae015bf846e1d2932b7ea15720d64   \n",
       "\n",
       "                      lat                      lng  \n",
       "0  18.160.308.413.602.800  -10.026.067.265.111.100  \n",
       "1   1.827.282.968.914.450  -10.031.881.435.593.900  \n",
       "2  18.273.494.015.704.800  -10.031.958.539.978.200  "
      ]
     },
     "metadata": {},
     "output_type": "display_data"
    }
   ],
   "source": [
    "# Revisando dataset store\n",
    "# Usamos la función option_context para establecer el número máximo de columnas para mostrar\n",
    "with option_context(\"display.max_columns\", None):\n",
    "    # Usamos la función de visualización para mostrar las primeras 5 filas de los datos\n",
    "    display(store.head(n = 3))"
   ]
  },
  {
   "cell_type": "code",
   "execution_count": 9,
   "id": "2d9e0840-e1d7-4400-a878-9891423148b5",
   "metadata": {
    "id": "2d9e0840-e1d7-4400-a878-9891423148b5",
    "outputId": "c80ef5e3-035d-43e1-a8e5-7433e94b0ac6",
    "tags": []
   },
   "outputs": [
    {
     "name": "stdout",
     "output_type": "stream",
     "text": [
      "\u001b[1mMedidas descriptivas de variables float64 e int64\u001b[0m\n",
      "\n",
      "      count   mean    std  min  25%  50%  75%  max\n",
      "dow  7295.0  2.783  1.742  0.0  1.0  3.0  4.0  6.0\n",
      "\n",
      "\u001b[1mFreecuencia de variables distintas a float64 e int64\u001b[0m\n",
      "\n",
      "\u001b[1mNombre de variable: \u001b[0morder_id, \u001b[1mfrecuencia: \u001b[0m\n",
      "                                  total  percent\n",
      "6abd5e28d01b7c733fe37485294235dc      1      0.0\n",
      "e7449e7a2c2cbe3e71eb4c313ca06650      1      0.0\n",
      "a831d42a12d9e5581f0ae8dfd8eefc69      1      0.0\n",
      "57e14a67d26f47ce05af2fe2e537d556      1      0.0\n",
      "7f57e5a0e6fdd748e449e700c7ef5c19      1      0.0\n",
      "...                                 ...      ...\n",
      "93fa6384f84da0d72f96b10b8bae6820      1      0.0\n",
      "b9a01a2c738217bd3271293294004d9e      1      0.0\n",
      "62642a917e9e2af4f123dc5660705af9      1      0.0\n",
      "568bdbca1d3cdafc75ab3f20da2155ba      1      0.0\n",
      "7ffa2d60aea99143b28564d737ca4b2b      1      0.0\n",
      "\n",
      "[7295 rows x 2 columns]\n",
      "\n",
      "\u001b[1mNombre de variable: \u001b[0mlat, \u001b[1mfrecuencia: \u001b[0m\n",
      "                        total  percent\n",
      "1.822.114.109.606.680       1      0.0\n",
      "18.288.950.840.081.400      1      0.0\n",
      "1.828.600.153.585.250       1      0.0\n",
      "18.287.205.574.133.400      1      0.0\n",
      "1.825.164.229.085.920       1      0.0\n",
      "...                       ...      ...\n",
      "1.823.138.376.578.340       1      0.0\n",
      "1.828.825.554.471.320       1      0.0\n",
      "18.228.699.620.038.900      1      0.0\n",
      "18.174.912.935.892.100      1      0.0\n",
      "1.819.384.968.732.850       1      0.0\n",
      "\n",
      "[7295 rows x 2 columns]\n",
      "\n",
      "\u001b[1mNombre de variable: \u001b[0mlng, \u001b[1mfrecuencia: \u001b[0m\n",
      "                         total  percent\n",
      "-10.031.391.366.664.600      1      0.0\n",
      "-10.032.668.421.801.600      1      0.0\n",
      "-10.034.586.915.602.500      1      0.0\n",
      "-10.035.408.298.226.300      1      0.0\n",
      "-10.040.652.366.941.600      1      0.0\n",
      "...                        ...      ...\n",
      "-10.029.986.899.489.100      1      0.0\n",
      "-1.003.441.485.543.380       1      0.0\n",
      "-10.041.121.939.427.700      1      0.0\n",
      "-10.038.103.702.689.700      1      0.0\n",
      "-10.035.331.409.070.300      1      0.0\n",
      "\n",
      "[7295 rows x 2 columns]\n",
      "\n",
      "\u001b[1mNombre de variable: \u001b[0mpromised_time, \u001b[1mfrecuencia: \u001b[0m\n",
      "          total  percent\n",
      "11:00:00    464    0.064\n",
      "13:00:00    387    0.053\n",
      "22:00:00    372    0.051\n",
      "10:00:00    359    0.049\n",
      "14:00:00    359    0.049\n",
      "...         ...      ...\n",
      "10:01:00      1    0.000\n",
      "23:54:00      1    0.000\n",
      "23:49:00      1    0.000\n",
      "17:07:00      1    0.000\n",
      "10:49:00      1    0.000\n",
      "\n",
      "[809 rows x 2 columns]\n",
      "\n",
      "\u001b[1mNombre de variable: \u001b[0mactual_time, \u001b[1mfrecuencia: \u001b[0m\n",
      "          total  percent\n",
      "12:07:57      3      0.0\n",
      "12:23:27      3      0.0\n",
      "21:02:58      3      0.0\n",
      "10:17:52      3      0.0\n",
      "11:00:47      3      0.0\n",
      "...         ...      ...\n",
      "22:02:20      1      0.0\n",
      "11:10:45      1      0.0\n",
      "21:39:14      1      0.0\n",
      "22:25:53      1      0.0\n",
      "22:49:00      1      0.0\n",
      "\n",
      "[6766 rows x 2 columns]\n",
      "\n",
      "\u001b[1mNombre de variable: \u001b[0mon_demand, \u001b[1mfrecuencia: \u001b[0m\n",
      "       total  percent\n",
      "False   4225    0.579\n",
      "True    3070    0.421\n",
      "\n",
      "\u001b[1mNombre de variable: \u001b[0mpicker_id, \u001b[1mfrecuencia: \u001b[0m\n",
      "                                  total  percent\n",
      "3705ae6c8e0dcdcbe77e2d0502dbaa7b     54    0.007\n",
      "82810715fdda44962e7e422015ea1f32     45    0.006\n",
      "18f215429792310636b68fde491b5d52     43    0.006\n",
      "8ff844d4acda6df3ba4a87ddc3eaf771     38    0.005\n",
      "ce5c3d6c47bfe5861726e63dace09090     38    0.005\n",
      "...                                 ...      ...\n",
      "86becb84d022e19f4eb0ce5c63756349      1    0.000\n",
      "1c6f5b0234f2673792188dc441196554      1    0.000\n",
      "22d1884f71a7cd382d9972186548c687      1    0.000\n",
      "9ec4acda9cf7b6d4e2fc63227d8bd679      1    0.000\n",
      "20eb3d27d981e123b23e1fb0586817d4      1    0.000\n",
      "\n",
      "[598 rows x 2 columns]\n",
      "\n",
      "\u001b[1mNombre de variable: \u001b[0mdriver_id, \u001b[1mfrecuencia: \u001b[0m\n",
      "                                  total  percent\n",
      "3705ae6c8e0dcdcbe77e2d0502dbaa7b     54    0.007\n",
      "18f215429792310636b68fde491b5d52     44    0.006\n",
      "8ff844d4acda6df3ba4a87ddc3eaf771     39    0.005\n",
      "ce5c3d6c47bfe5861726e63dace09090     38    0.005\n",
      "fcdf89d67adaeec14947fed659d1e2c8     37    0.005\n",
      "...                                 ...      ...\n",
      "9bee01ee54c5fa5f55af0e07b455e1e9      1    0.000\n",
      "b5624482103dc023dfe432d9020defee      1    0.000\n",
      "22d1884f71a7cd382d9972186548c687      1    0.000\n",
      "902be832da69020731f97e04e427b643      1    0.000\n",
      "20eb3d27d981e123b23e1fb0586817d4      1    0.000\n",
      "\n",
      "[597 rows x 2 columns]\n",
      "\n",
      "\u001b[1mNombre de variable: \u001b[0mstore_branch_id, \u001b[1mfrecuencia: \u001b[0m\n",
      "                                  total  percent\n",
      "86e6e48d0cb57f794b0c48162409fa74    672    0.092\n",
      "0dc6fb5924a8b917bc641666ed02663c    595    0.082\n",
      "3dd9ae393aa5327edfb27388758436bd    400    0.055\n",
      "8d891dfc0e29d744c15c18adced74a68    396    0.054\n",
      "afab9a94cf9d3d20ba7192204d5e48b3    337    0.046\n",
      "...                                 ...      ...\n",
      "58dc6da0edd08253743c7ed41280bcfc      1    0.000\n",
      "9bbed42bb27f81a5bfd0d20362f166d9      1    0.000\n",
      "d2eabf65af6475ebcf03fc8e9c9435a2      1    0.000\n",
      "d63b1919fe2cf76f494521dfa4389488      1    0.000\n",
      "decedda6fcc87405942596033c7c89e1      1    0.000\n",
      "\n",
      "[113 rows x 2 columns]\n",
      "\n",
      "\u001b[1mNombre de variable: \u001b[0mtotal_minutes, \u001b[1mfrecuencia: \u001b[0m\n",
      "             total  percent\n",
      "91.800.861       1      0.0\n",
      "117.454.407      1      0.0\n",
      "125.194.199      1      0.0\n",
      "109.622.781      1      0.0\n",
      "47.481.365       1      0.0\n",
      "...            ...      ...\n",
      "52.488.873       1      0.0\n",
      "82.246.359       1      0.0\n",
      "98.513.589       1      0.0\n",
      "67.376.899       1      0.0\n",
      "79.770.632       1      0.0\n",
      "\n",
      "[6543 rows x 2 columns]\n",
      "\n"
     ]
    }
   ],
   "source": [
    "# Análisis descriptivo de las columnas del dataset\n",
    "inspectDataFrameDA(purchase_order)"
   ]
  },
  {
   "cell_type": "code",
   "execution_count": 10,
   "id": "ad3eb3ed-ceae-4fbd-82ff-d373ed92c9ee",
   "metadata": {
    "id": "ad3eb3ed-ceae-4fbd-82ff-d373ed92c9ee",
    "outputId": "5ac4c64b-c843-49be-e1ac-548f467c344e",
    "scrolled": true,
    "tags": []
   },
   "outputs": [
    {
     "name": "stdout",
     "output_type": "stream",
     "text": [
      "\u001b[1mMedidas descriptivas de variables float64 e int64\u001b[0m\n",
      "\n",
      "                   count   mean    std  min    25%  50%    75%    max\n",
      "quantity_found  120876.0  1.282  1.618  0.0  0.915  1.0  1.015  120.0\n",
      "\n",
      "\u001b[1mFreecuencia de variables distintas a float64 e int64\u001b[0m\n",
      "\n",
      "\u001b[1mNombre de variable: \u001b[0morder_id, \u001b[1mfrecuencia: \u001b[0m\n",
      "                                  total  percent\n",
      "22854d4e3f47c4d35d7dab956031b146    118    0.001\n",
      "fbc4b323369bbcaff344c34616912d0a    109    0.001\n",
      "0d37a1eea001f01b40232ffd496ff663    103    0.001\n",
      "67720285179e3924bf7793e7002f52d7    103    0.001\n",
      "c9c19b5c8113cccb3598d9d5ab4dc625     98    0.001\n",
      "...                                 ...      ...\n",
      "f19aa6cf334f5e590f59b991d3e9eb0f      1    0.000\n",
      "585cdb18f0976e3b04c8db98ec53c1f0      1    0.000\n",
      "70068ef9ba44c45170e72ecb1f0ad669      1    0.000\n",
      "68c9dabc99e5765967f0fe2a28512677      1    0.000\n",
      "354d07b428432bca7daad0b33b8359ed      1    0.000\n",
      "\n",
      "[7278 rows x 2 columns]\n",
      "\n",
      "\u001b[1mNombre de variable: \u001b[0mproduct_id, \u001b[1mfrecuencia: \u001b[0m\n",
      "                                  total  percent\n",
      "52b2dde1ab3ba8d053667b7b7b24d8f7    700    0.006\n",
      "e346a8aa268c7c212703ff3d1471c1c5    626    0.005\n",
      "60123da4ebe7c69054285b55e7a1d539    527    0.004\n",
      "8d01329eb2c6357b5b124c0dc1c825e5    486    0.004\n",
      "92300aa791238b67ccb000e717e4d860    482    0.004\n",
      "...                                 ...      ...\n",
      "53790fbfd86f1524c8b19966cfa58e14      1    0.000\n",
      "15acc49ef13f3ab4ce93851d37619510      1    0.000\n",
      "32cbb0cb26ed70a619ca351484891d25      1    0.000\n",
      "279707b9a46666885cf18cf0f8194b17      1    0.000\n",
      "8a79a4e018ae7617f88b7f897a0bb3e0      1    0.000\n",
      "\n",
      "[24999 rows x 2 columns]\n",
      "\n",
      "\u001b[1mNombre de variable: \u001b[0mquantity, \u001b[1mfrecuencia: \u001b[0m\n",
      "       total  percent\n",
      "1      72716    0.602\n",
      "2      14817    0.123\n",
      "3       4328    0.036\n",
      "4       3410    0.028\n",
      "0.5     3087    0.026\n",
      "...      ...      ...\n",
      "0.024      1    0.000\n",
      "1.081      1    0.000\n",
      "0.805      1    0.000\n",
      "0.453      1    0.000\n",
      "3.125      1    0.000\n",
      "\n",
      "[525 rows x 2 columns]\n",
      "\n",
      "\u001b[1mNombre de variable: \u001b[0mbuy_unit, \u001b[1mfrecuencia: \u001b[0m\n",
      "    total  percent\n",
      "UN  94544    0.782\n",
      "KG  26332    0.218\n",
      "\n"
     ]
    }
   ],
   "source": [
    "# Análisis descriptivo de las columnas del dataset\n",
    "inspectDataFrameDA(product_order)"
   ]
  },
  {
   "cell_type": "code",
   "execution_count": 11,
   "id": "fc6b0834-d025-46f3-9143-f2895a3e4532",
   "metadata": {
    "id": "fc6b0834-d025-46f3-9143-f2895a3e4532",
    "outputId": "9c2a5af7-aca5-4327-815f-ff134af6c6da",
    "tags": []
   },
   "outputs": [
    {
     "name": "stdout",
     "output_type": "stream",
     "text": [
      "\u001b[1mMedidas descriptivas de variables float64 e int64\u001b[0m\n",
      "\n",
      "      count   mean    std  min  25%  50%  75%  max\n",
      "dow  7295.0  2.783  1.742  0.0  1.0  3.0  4.0  6.0\n",
      "\n",
      "\u001b[1mFreecuencia de variables distintas a float64 e int64\u001b[0m\n",
      "\n",
      "\u001b[1mNombre de variable: \u001b[0morder_id, \u001b[1mfrecuencia: \u001b[0m\n",
      "                                  total  percent\n",
      "6abd5e28d01b7c733fe37485294235dc      1      0.0\n",
      "e7449e7a2c2cbe3e71eb4c313ca06650      1      0.0\n",
      "a831d42a12d9e5581f0ae8dfd8eefc69      1      0.0\n",
      "57e14a67d26f47ce05af2fe2e537d556      1      0.0\n",
      "7f57e5a0e6fdd748e449e700c7ef5c19      1      0.0\n",
      "...                                 ...      ...\n",
      "93fa6384f84da0d72f96b10b8bae6820      1      0.0\n",
      "b9a01a2c738217bd3271293294004d9e      1      0.0\n",
      "62642a917e9e2af4f123dc5660705af9      1      0.0\n",
      "568bdbca1d3cdafc75ab3f20da2155ba      1      0.0\n",
      "7ffa2d60aea99143b28564d737ca4b2b      1      0.0\n",
      "\n",
      "[7295 rows x 2 columns]\n",
      "\n",
      "\u001b[1mNombre de variable: \u001b[0mlat, \u001b[1mfrecuencia: \u001b[0m\n",
      "                        total  percent\n",
      "1.822.114.109.606.680       1      0.0\n",
      "18.288.950.840.081.400      1      0.0\n",
      "1.828.600.153.585.250       1      0.0\n",
      "18.287.205.574.133.400      1      0.0\n",
      "1.825.164.229.085.920       1      0.0\n",
      "...                       ...      ...\n",
      "1.823.138.376.578.340       1      0.0\n",
      "1.828.825.554.471.320       1      0.0\n",
      "18.228.699.620.038.900      1      0.0\n",
      "18.174.912.935.892.100      1      0.0\n",
      "1.819.384.968.732.850       1      0.0\n",
      "\n",
      "[7295 rows x 2 columns]\n",
      "\n",
      "\u001b[1mNombre de variable: \u001b[0mlng, \u001b[1mfrecuencia: \u001b[0m\n",
      "                         total  percent\n",
      "-10.031.391.366.664.600      1      0.0\n",
      "-10.032.668.421.801.600      1      0.0\n",
      "-10.034.586.915.602.500      1      0.0\n",
      "-10.035.408.298.226.300      1      0.0\n",
      "-10.040.652.366.941.600      1      0.0\n",
      "...                        ...      ...\n",
      "-10.029.986.899.489.100      1      0.0\n",
      "-1.003.441.485.543.380       1      0.0\n",
      "-10.041.121.939.427.700      1      0.0\n",
      "-10.038.103.702.689.700      1      0.0\n",
      "-10.035.331.409.070.300      1      0.0\n",
      "\n",
      "[7295 rows x 2 columns]\n",
      "\n",
      "\u001b[1mNombre de variable: \u001b[0mpromised_time, \u001b[1mfrecuencia: \u001b[0m\n",
      "          total  percent\n",
      "11:00:00    464    0.064\n",
      "13:00:00    387    0.053\n",
      "22:00:00    372    0.051\n",
      "10:00:00    359    0.049\n",
      "14:00:00    359    0.049\n",
      "...         ...      ...\n",
      "10:01:00      1    0.000\n",
      "23:54:00      1    0.000\n",
      "23:49:00      1    0.000\n",
      "17:07:00      1    0.000\n",
      "10:49:00      1    0.000\n",
      "\n",
      "[809 rows x 2 columns]\n",
      "\n",
      "\u001b[1mNombre de variable: \u001b[0mactual_time, \u001b[1mfrecuencia: \u001b[0m\n",
      "          total  percent\n",
      "12:07:57      3      0.0\n",
      "12:23:27      3      0.0\n",
      "21:02:58      3      0.0\n",
      "10:17:52      3      0.0\n",
      "11:00:47      3      0.0\n",
      "...         ...      ...\n",
      "22:02:20      1      0.0\n",
      "11:10:45      1      0.0\n",
      "21:39:14      1      0.0\n",
      "22:25:53      1      0.0\n",
      "22:49:00      1      0.0\n",
      "\n",
      "[6766 rows x 2 columns]\n",
      "\n",
      "\u001b[1mNombre de variable: \u001b[0mon_demand, \u001b[1mfrecuencia: \u001b[0m\n",
      "       total  percent\n",
      "False   4225    0.579\n",
      "True    3070    0.421\n",
      "\n",
      "\u001b[1mNombre de variable: \u001b[0mpicker_id, \u001b[1mfrecuencia: \u001b[0m\n",
      "                                  total  percent\n",
      "3705ae6c8e0dcdcbe77e2d0502dbaa7b     54    0.007\n",
      "82810715fdda44962e7e422015ea1f32     45    0.006\n",
      "18f215429792310636b68fde491b5d52     43    0.006\n",
      "8ff844d4acda6df3ba4a87ddc3eaf771     38    0.005\n",
      "ce5c3d6c47bfe5861726e63dace09090     38    0.005\n",
      "...                                 ...      ...\n",
      "86becb84d022e19f4eb0ce5c63756349      1    0.000\n",
      "1c6f5b0234f2673792188dc441196554      1    0.000\n",
      "22d1884f71a7cd382d9972186548c687      1    0.000\n",
      "9ec4acda9cf7b6d4e2fc63227d8bd679      1    0.000\n",
      "20eb3d27d981e123b23e1fb0586817d4      1    0.000\n",
      "\n",
      "[598 rows x 2 columns]\n",
      "\n",
      "\u001b[1mNombre de variable: \u001b[0mdriver_id, \u001b[1mfrecuencia: \u001b[0m\n",
      "                                  total  percent\n",
      "3705ae6c8e0dcdcbe77e2d0502dbaa7b     54    0.007\n",
      "18f215429792310636b68fde491b5d52     44    0.006\n",
      "8ff844d4acda6df3ba4a87ddc3eaf771     39    0.005\n",
      "ce5c3d6c47bfe5861726e63dace09090     38    0.005\n",
      "fcdf89d67adaeec14947fed659d1e2c8     37    0.005\n",
      "...                                 ...      ...\n",
      "9bee01ee54c5fa5f55af0e07b455e1e9      1    0.000\n",
      "b5624482103dc023dfe432d9020defee      1    0.000\n",
      "22d1884f71a7cd382d9972186548c687      1    0.000\n",
      "902be832da69020731f97e04e427b643      1    0.000\n",
      "20eb3d27d981e123b23e1fb0586817d4      1    0.000\n",
      "\n",
      "[597 rows x 2 columns]\n",
      "\n",
      "\u001b[1mNombre de variable: \u001b[0mstore_branch_id, \u001b[1mfrecuencia: \u001b[0m\n",
      "                                  total  percent\n",
      "86e6e48d0cb57f794b0c48162409fa74    672    0.092\n",
      "0dc6fb5924a8b917bc641666ed02663c    595    0.082\n",
      "3dd9ae393aa5327edfb27388758436bd    400    0.055\n",
      "8d891dfc0e29d744c15c18adced74a68    396    0.054\n",
      "afab9a94cf9d3d20ba7192204d5e48b3    337    0.046\n",
      "...                                 ...      ...\n",
      "58dc6da0edd08253743c7ed41280bcfc      1    0.000\n",
      "9bbed42bb27f81a5bfd0d20362f166d9      1    0.000\n",
      "d2eabf65af6475ebcf03fc8e9c9435a2      1    0.000\n",
      "d63b1919fe2cf76f494521dfa4389488      1    0.000\n",
      "decedda6fcc87405942596033c7c89e1      1    0.000\n",
      "\n",
      "[113 rows x 2 columns]\n",
      "\n",
      "\u001b[1mNombre de variable: \u001b[0mtotal_minutes, \u001b[1mfrecuencia: \u001b[0m\n",
      "             total  percent\n",
      "91.800.861       1      0.0\n",
      "117.454.407      1      0.0\n",
      "125.194.199      1      0.0\n",
      "109.622.781      1      0.0\n",
      "47.481.365       1      0.0\n",
      "...            ...      ...\n",
      "52.488.873       1      0.0\n",
      "82.246.359       1      0.0\n",
      "98.513.589       1      0.0\n",
      "67.376.899       1      0.0\n",
      "79.770.632       1      0.0\n",
      "\n",
      "[6543 rows x 2 columns]\n",
      "\n"
     ]
    }
   ],
   "source": [
    "# Análisis descriptivo de las columnas del dataset\n",
    "inspectDataFrameDA(purchase_order)"
   ]
  },
  {
   "cell_type": "code",
   "execution_count": 12,
   "id": "5d3cdfea-687c-4d17-8a5a-6789879b8818",
   "metadata": {
    "id": "5d3cdfea-687c-4d17-8a5a-6789879b8818",
    "outputId": "11236703-c7de-40f0-8899-54d6a7362f0e",
    "scrolled": true,
    "tags": []
   },
   "outputs": [
    {
     "name": "stdout",
     "output_type": "stream",
     "text": [
      "\u001b[1mMedidas descriptivas de variables float64 e int64\u001b[0m\n",
      "\n",
      "               count   mean    std    min    25%    50%    75%    max\n",
      "found_rate     564.0  0.852  0.038  0.651  0.831  0.854  0.877  0.953\n",
      "picking_speed  600.0  2.091  0.638  0.800  1.610  2.000  2.380  4.660\n",
      "accepted_rate  594.0  0.953  0.076  0.200  0.921  0.960  1.000  1.000\n",
      "rating         566.0  4.791  0.164  3.200  4.712  4.820  4.920  5.000\n",
      "\n",
      "\u001b[1mFreecuencia de variables distintas a float64 e int64\u001b[0m\n",
      "\n",
      "\u001b[1mNombre de variable: \u001b[0mshopper_id, \u001b[1mfrecuencia: \u001b[0m\n",
      "                                  total  percent\n",
      "087ab65ceca40dbef697f585dc159d5d      1    0.002\n",
      "755c1ee6d23173214f870b472bd433c1      1    0.002\n",
      "8e45f2e4e004e29cc15f1d06b4267055      1    0.002\n",
      "b3c4a1079dad6c47b97244fab199c51f      1    0.002\n",
      "9d1ef1fd8de0c0d613974d3cf54748ee      1    0.002\n",
      "...                                 ...      ...\n",
      "5843ad69be3bed76ca8a2c931e455d9f      1    0.002\n",
      "4f113718e4c94140dff968f7dfd8456b      1    0.002\n",
      "e3dc65dd330265af648643e4c397afef      1    0.002\n",
      "1c6f5b0234f2673792188dc441196554      1    0.002\n",
      "d64625c9d6523aa5596291ff3d929bea      1    0.002\n",
      "\n",
      "[600 rows x 2 columns]\n",
      "\n",
      "\u001b[1mNombre de variable: \u001b[0mseniority, \u001b[1mfrecuencia: \u001b[0m\n",
      "              total  percent\n",
      "ADVANCED        268    0.447\n",
      "INTERMEDIATE    204    0.340\n",
      "REVIEW           99    0.165\n",
      "BEGINNER         29    0.048\n",
      "\n"
     ]
    }
   ],
   "source": [
    "# Análisis descriptivo de las columnas del dataset\n",
    "inspectDataFrameDA(shopper)"
   ]
  },
  {
   "cell_type": "code",
   "execution_count": 13,
   "id": "fc5de861-f63d-4dae-a383-b16366d0ed87",
   "metadata": {
    "id": "fc5de861-f63d-4dae-a383-b16366d0ed87",
    "outputId": "fb18d1db-2d35-460b-a2e7-f6d08ef4b5e3",
    "scrolled": true,
    "tags": []
   },
   "outputs": [
    {
     "name": "stdout",
     "output_type": "stream",
     "text": [
      "\u001b[1mMedidas descriptivas de variables float64 e int64\u001b[0m\n",
      "\n",
      "\n",
      "\u001b[1mFreecuencia de variables distintas a float64 e int64\u001b[0m\n",
      "\n",
      "\u001b[1mNombre de variable: \u001b[0mstore_branch_id, \u001b[1mfrecuencia: \u001b[0m\n",
      "                                  total  percent\n",
      "cf0895f1e3beb8164f0a86e6f940ae56      1    0.009\n",
      "15bf16e04b6f5e730f38a7c6a4b47f21      1    0.009\n",
      "5a6dd51ef5ed276079b6a102d4ceb8f6      1    0.009\n",
      "41ca3a65599fb02ab0d0cdd23da1e922      1    0.009\n",
      "1fc727dd540d924d2370b4d6ec0149fd      1    0.009\n",
      "...                                 ...      ...\n",
      "00868095685ee799fb5c158e8d081fe1      1    0.009\n",
      "f82a21e295c90ae7bf09e1870b66edb8      1    0.009\n",
      "0cdeb3c8700028cdf750409d66e354da      1    0.009\n",
      "41d9a054007bfce5cd838d2f9b2d7db3      1    0.009\n",
      "82862bb4ff9734b6f8fee2dcde6be96f      1    0.009\n",
      "\n",
      "[113 rows x 2 columns]\n",
      "\n",
      "\u001b[1mNombre de variable: \u001b[0mstore, \u001b[1mfrecuencia: \u001b[0m\n",
      "                                  total  percent\n",
      "452ae015bf846e1d2932b7ea15720d64     19    0.168\n",
      "9d65282d498c0338377867996e761399     15    0.133\n",
      "c0b93cf93cf854981b8d6bd849eec4b0     12    0.106\n",
      "387d4a5b65cf4bf00ad805c4b00eed01     12    0.106\n",
      "6dd84f26df649bead537d40ec49afd36     10    0.088\n",
      "60e4c4e1c1a8bc79123738227b9d0b08      9    0.080\n",
      "e27789d5e619b255663b2bfa68b5851f      7    0.062\n",
      "0fae7b61265bc7ca4ce4d81440b62501      6    0.053\n",
      "451eb58b96f0a36f31d2beebd1c9a7a8      6    0.053\n",
      "044d56734d20e04984d846dade6d39f3      5    0.044\n",
      "6447951cd071f6f045fd4e6194920926      4    0.035\n",
      "a08814af6c2379a480e261b3598ddbd5      2    0.018\n",
      "a3bed30221372366bcd9b9779f395d0b      2    0.018\n",
      "1174a0029cadfa449af46c53b1c90fbe      1    0.009\n",
      "7a44728dc60bafc53140a9f5ef7e4e75      1    0.009\n",
      "821dc9d74061fe7654b9ec20e574022d      1    0.009\n",
      "0b0d1b4d525596dc61c3fde64a6bf099      1    0.009\n",
      "\n",
      "\u001b[1mNombre de variable: \u001b[0mlat, \u001b[1mfrecuencia: \u001b[0m\n",
      "                        total  percent\n",
      "18.160.308.413.602.800      1    0.009\n",
      "1.823.720.815.282.940       1    0.009\n",
      "182.649.314.661.588         1    0.009\n",
      "18.226.740.625.645.000      1    0.009\n",
      "18.162.044.792.547          1    0.009\n",
      "...                       ...      ...\n",
      "1.821.666.804.389.770       1    0.009\n",
      "18.277.420.841.562.300      1    0.009\n",
      "1.824.247.020.642.270       1    0.009\n",
      "18.140.437.108.797.100      1    0.009\n",
      "1.821.922.400.831.810       1    0.009\n",
      "\n",
      "[113 rows x 2 columns]\n",
      "\n",
      "\u001b[1mNombre de variable: \u001b[0mlng, \u001b[1mfrecuencia: \u001b[0m\n",
      "                         total  percent\n",
      "-10.026.067.265.111.100      1    0.009\n",
      "-10.031.094.333.460.700      1    0.009\n",
      "-10.039.841.461.287.000      1    0.009\n",
      "-10.030.847.640.020.300      1    0.009\n",
      "-10.031.383.524.896.700      1    0.009\n",
      "...                        ...      ...\n",
      "-1.003.070.610.394.750       1    0.009\n",
      "-1.003.561.798.199.590       1    0.009\n",
      "-10.031.879.143.887.100      1    0.009\n",
      "-10.028.449.667.591.200      1    0.009\n",
      "-10.041.821.326.705.700      1    0.009\n",
      "\n",
      "[113 rows x 2 columns]\n",
      "\n"
     ]
    }
   ],
   "source": [
    "# Análisis descriptivo de las columnas del dataset\n",
    "inspectDataFrameDA(store)"
   ]
  },
  {
   "cell_type": "markdown",
   "id": "3a804050-16c5-4398-9c48-2fe735184285",
   "metadata": {
    "id": "3a804050-16c5-4398-9c48-2fe735184285"
   },
   "source": [
    "# Planteando hipótesis para entender los datos"
   ]
  },
  {
   "cell_type": "code",
   "execution_count": 14,
   "id": "251d7c77-c36d-4fbd-a096-e86d97edcfe1",
   "metadata": {
    "id": "251d7c77-c36d-4fbd-a096-e86d97edcfe1"
   },
   "outputs": [],
   "source": [
    "# product_order.columns\n",
    "# purchase_order.columns\n",
    "# store.columns\n",
    "# shopper.columns"
   ]
  },
  {
   "cell_type": "code",
   "execution_count": 15,
   "id": "6d883cf7-d671-4c57-9ecb-d7f77d3ec28b",
   "metadata": {
    "id": "6d883cf7-d671-4c57-9ecb-d7f77d3ec28b"
   },
   "outputs": [],
   "source": [
    "# lista variables cargadas\n",
    "# %whos"
   ]
  },
  {
   "cell_type": "markdown",
   "id": "25d6e9f6-230d-418f-975e-4bd3b10d1c79",
   "metadata": {
    "id": "25d6e9f6-230d-418f-975e-4bd3b10d1c79"
   },
   "source": [
    "## dataset **product_order**\n",
    "1. ¿Qué tipo de unidades tenemos en la columna `buy_unit`? <br>\n",
    "1. ¿Todos los productos de una orden tienen existencias? <br>\n",
    "1. ¿Tiene valores perdidos? <br>"
   ]
  },
  {
   "cell_type": "code",
   "execution_count": 16,
   "id": "423e02bb-ef9d-45d8-a014-8e54cf21e739",
   "metadata": {
    "id": "423e02bb-ef9d-45d8-a014-8e54cf21e739",
    "outputId": "12ae9715-1d88-4e46-b206-6d67a5297ade"
   },
   "outputs": [
    {
     "name": "stdout",
     "output_type": "stream",
     "text": [
      "Existen productos con las siguientes unidades: KG, UN\n"
     ]
    }
   ],
   "source": [
    "print(\"Existen productos con las siguientes unidades: {}\".format(', '.join(product_order.buy_unit.unique())))"
   ]
  },
  {
   "cell_type": "code",
   "execution_count": 17,
   "id": "16487106-e2cf-4698-94e0-24a3e85e81fa",
   "metadata": {
    "id": "16487106-e2cf-4698-94e0-24a3e85e81fa",
    "tags": []
   },
   "outputs": [],
   "source": [
    "# El siguiente código crea un dataframe llamado df2 a partir de otro dataframe llamado product_order.\n",
    "# Luego, agrupa los datos del dataframe product_order por el id de orden y aplica una función lambda a cada grupo.\n",
    "# La función lambda crea una serie que contiene diferentes columnas, que se calculan a  partir de la columna buy_unit \n",
    "# y quantity_found del dataframe g. También se hace un reset del índice del dataframe df2.\n",
    "df2 = DataFrame(product_order.groupby('order_id')\n",
    " .apply(lambda g: Series({\n",
    "     'total_product': g.product_id.count(),\n",
    "     'total_unit': where(g.buy_unit == 'UN', g.quantity_found, 0).sum(),\n",
    "     'total_prod_unit': where(g.buy_unit == 'UN', 1, 0).sum(),\n",
    "     'total_kg': where(g.buy_unit == 'KG', g.quantity_found, 0).sum(),\n",
    "     'total_prod_kg': where(g.buy_unit == 'KG', 1, 0).sum(),\n",
    "     'without_product': where(g.quantity_found == 0, 1, 0).sum()\n",
    "})))\n",
    "df2.reset_index(inplace=True, level=['order_id'])"
   ]
  },
  {
   "cell_type": "code",
   "execution_count": 18,
   "id": "b48d734d-4db7-4609-bb62-3ef70c311eaa",
   "metadata": {
    "id": "b48d734d-4db7-4609-bb62-3ef70c311eaa",
    "outputId": "f0cc6427-6765-46a6-a4d6-236786cb19d2"
   },
   "outputs": [
    {
     "data": {
      "text/html": [
       "<div>\n",
       "<style scoped>\n",
       "    .dataframe tbody tr th:only-of-type {\n",
       "        vertical-align: middle;\n",
       "    }\n",
       "\n",
       "    .dataframe tbody tr th {\n",
       "        vertical-align: top;\n",
       "    }\n",
       "\n",
       "    .dataframe thead th {\n",
       "        text-align: right;\n",
       "    }\n",
       "</style>\n",
       "<table border=\"1\" class=\"dataframe\">\n",
       "  <thead>\n",
       "    <tr style=\"text-align: right;\">\n",
       "      <th></th>\n",
       "      <th>order_id</th>\n",
       "      <th>total_product</th>\n",
       "      <th>total_unit</th>\n",
       "      <th>total_prod_unit</th>\n",
       "      <th>total_kg</th>\n",
       "      <th>total_prod_kg</th>\n",
       "      <th>without_product</th>\n",
       "    </tr>\n",
       "  </thead>\n",
       "  <tbody>\n",
       "    <tr>\n",
       "      <th>0</th>\n",
       "      <td>001ef94c50c71cb0e674b6293e9b6068</td>\n",
       "      <td>35.0</td>\n",
       "      <td>31.0</td>\n",
       "      <td>30.0</td>\n",
       "      <td>3.515</td>\n",
       "      <td>5.0</td>\n",
       "      <td>5.0</td>\n",
       "    </tr>\n",
       "    <tr>\n",
       "      <th>2</th>\n",
       "      <td>002b6dcb32fef90ebb1cb691afe6a413</td>\n",
       "      <td>9.0</td>\n",
       "      <td>10.0</td>\n",
       "      <td>9.0</td>\n",
       "      <td>0.000</td>\n",
       "      <td>0.0</td>\n",
       "      <td>2.0</td>\n",
       "    </tr>\n",
       "    <tr>\n",
       "      <th>4</th>\n",
       "      <td>002f97bd7dad0d275d8511436c18b572</td>\n",
       "      <td>11.0</td>\n",
       "      <td>35.0</td>\n",
       "      <td>7.0</td>\n",
       "      <td>4.090</td>\n",
       "      <td>4.0</td>\n",
       "      <td>1.0</td>\n",
       "    </tr>\n",
       "    <tr>\n",
       "      <th>6</th>\n",
       "      <td>0031746e47016a88e7787ce3538aef6f</td>\n",
       "      <td>58.0</td>\n",
       "      <td>73.0</td>\n",
       "      <td>51.0</td>\n",
       "      <td>6.740</td>\n",
       "      <td>7.0</td>\n",
       "      <td>16.0</td>\n",
       "    </tr>\n",
       "    <tr>\n",
       "      <th>9</th>\n",
       "      <td>007cc93f200b8a4257e57a96b1af90d5</td>\n",
       "      <td>2.0</td>\n",
       "      <td>1.0</td>\n",
       "      <td>2.0</td>\n",
       "      <td>0.000</td>\n",
       "      <td>0.0</td>\n",
       "      <td>1.0</td>\n",
       "    </tr>\n",
       "    <tr>\n",
       "      <th>...</th>\n",
       "      <td>...</td>\n",
       "      <td>...</td>\n",
       "      <td>...</td>\n",
       "      <td>...</td>\n",
       "      <td>...</td>\n",
       "      <td>...</td>\n",
       "      <td>...</td>\n",
       "    </tr>\n",
       "    <tr>\n",
       "      <th>7272</th>\n",
       "      <td>ffde425b5643adaad04172cb0c1e7aca</td>\n",
       "      <td>7.0</td>\n",
       "      <td>19.0</td>\n",
       "      <td>7.0</td>\n",
       "      <td>0.000</td>\n",
       "      <td>0.0</td>\n",
       "      <td>1.0</td>\n",
       "    </tr>\n",
       "    <tr>\n",
       "      <th>7273</th>\n",
       "      <td>ffe5b0edbae4925bc9aac924d73647bb</td>\n",
       "      <td>21.0</td>\n",
       "      <td>39.0</td>\n",
       "      <td>21.0</td>\n",
       "      <td>0.000</td>\n",
       "      <td>0.0</td>\n",
       "      <td>3.0</td>\n",
       "    </tr>\n",
       "    <tr>\n",
       "      <th>7274</th>\n",
       "      <td>ffe6c331d8812a9dba92d01103b694e6</td>\n",
       "      <td>29.0</td>\n",
       "      <td>32.0</td>\n",
       "      <td>18.0</td>\n",
       "      <td>9.450</td>\n",
       "      <td>11.0</td>\n",
       "      <td>3.0</td>\n",
       "    </tr>\n",
       "    <tr>\n",
       "      <th>7275</th>\n",
       "      <td>ffeeac3eeb1135973c22d025a10daa16</td>\n",
       "      <td>22.0</td>\n",
       "      <td>30.0</td>\n",
       "      <td>16.0</td>\n",
       "      <td>8.560</td>\n",
       "      <td>6.0</td>\n",
       "      <td>4.0</td>\n",
       "    </tr>\n",
       "    <tr>\n",
       "      <th>7276</th>\n",
       "      <td>fff700bbf6650c5adf83273166da6d58</td>\n",
       "      <td>32.0</td>\n",
       "      <td>22.0</td>\n",
       "      <td>21.0</td>\n",
       "      <td>4.225</td>\n",
       "      <td>11.0</td>\n",
       "      <td>1.0</td>\n",
       "    </tr>\n",
       "  </tbody>\n",
       "</table>\n",
       "<p>5236 rows × 7 columns</p>\n",
       "</div>"
      ],
      "text/plain": [
       "                              order_id  total_product  total_unit  \\\n",
       "0     001ef94c50c71cb0e674b6293e9b6068           35.0        31.0   \n",
       "2     002b6dcb32fef90ebb1cb691afe6a413            9.0        10.0   \n",
       "4     002f97bd7dad0d275d8511436c18b572           11.0        35.0   \n",
       "6     0031746e47016a88e7787ce3538aef6f           58.0        73.0   \n",
       "9     007cc93f200b8a4257e57a96b1af90d5            2.0         1.0   \n",
       "...                                ...            ...         ...   \n",
       "7272  ffde425b5643adaad04172cb0c1e7aca            7.0        19.0   \n",
       "7273  ffe5b0edbae4925bc9aac924d73647bb           21.0        39.0   \n",
       "7274  ffe6c331d8812a9dba92d01103b694e6           29.0        32.0   \n",
       "7275  ffeeac3eeb1135973c22d025a10daa16           22.0        30.0   \n",
       "7276  fff700bbf6650c5adf83273166da6d58           32.0        22.0   \n",
       "\n",
       "      total_prod_unit  total_kg  total_prod_kg  without_product  \n",
       "0                30.0     3.515            5.0              5.0  \n",
       "2                 9.0     0.000            0.0              2.0  \n",
       "4                 7.0     4.090            4.0              1.0  \n",
       "6                51.0     6.740            7.0             16.0  \n",
       "9                 2.0     0.000            0.0              1.0  \n",
       "...               ...       ...            ...              ...  \n",
       "7272              7.0     0.000            0.0              1.0  \n",
       "7273             21.0     0.000            0.0              3.0  \n",
       "7274             18.0     9.450           11.0              3.0  \n",
       "7275             16.0     8.560            6.0              4.0  \n",
       "7276             21.0     4.225           11.0              1.0  \n",
       "\n",
       "[5236 rows x 7 columns]"
      ]
     },
     "execution_count": 18,
     "metadata": {},
     "output_type": "execute_result"
    }
   ],
   "source": [
    "# Validando productos con existencias en la ruta realizada por el picker\n",
    "df2[df2['without_product'] > 0]"
   ]
  },
  {
   "cell_type": "code",
   "execution_count": 19,
   "id": "ee9c20c0-7aea-4844-97b5-75a41abc2aba",
   "metadata": {
    "id": "ee9c20c0-7aea-4844-97b5-75a41abc2aba",
    "outputId": "4e4b9750-9ca8-45af-eb70-85b65d8bd7ea"
   },
   "outputs": [
    {
     "data": {
      "text/html": [
       "<div>\n",
       "<style scoped>\n",
       "    .dataframe tbody tr th:only-of-type {\n",
       "        vertical-align: middle;\n",
       "    }\n",
       "\n",
       "    .dataframe tbody tr th {\n",
       "        vertical-align: top;\n",
       "    }\n",
       "\n",
       "    .dataframe thead th {\n",
       "        text-align: right;\n",
       "    }\n",
       "</style>\n",
       "<table border=\"1\" class=\"dataframe\">\n",
       "  <thead>\n",
       "    <tr style=\"text-align: right;\">\n",
       "      <th></th>\n",
       "      <th>order_id</th>\n",
       "      <th>total</th>\n",
       "    </tr>\n",
       "  </thead>\n",
       "  <tbody>\n",
       "    <tr>\n",
       "      <th>0</th>\n",
       "      <td>001ef94c50c71cb0e674b6293e9b6068</td>\n",
       "      <td>5</td>\n",
       "    </tr>\n",
       "    <tr>\n",
       "      <th>1</th>\n",
       "      <td>002b6dcb32fef90ebb1cb691afe6a413</td>\n",
       "      <td>2</td>\n",
       "    </tr>\n",
       "    <tr>\n",
       "      <th>2</th>\n",
       "      <td>002f97bd7dad0d275d8511436c18b572</td>\n",
       "      <td>1</td>\n",
       "    </tr>\n",
       "    <tr>\n",
       "      <th>3</th>\n",
       "      <td>0031746e47016a88e7787ce3538aef6f</td>\n",
       "      <td>16</td>\n",
       "    </tr>\n",
       "    <tr>\n",
       "      <th>4</th>\n",
       "      <td>007cc93f200b8a4257e57a96b1af90d5</td>\n",
       "      <td>1</td>\n",
       "    </tr>\n",
       "    <tr>\n",
       "      <th>...</th>\n",
       "      <td>...</td>\n",
       "      <td>...</td>\n",
       "    </tr>\n",
       "    <tr>\n",
       "      <th>5231</th>\n",
       "      <td>ffde425b5643adaad04172cb0c1e7aca</td>\n",
       "      <td>1</td>\n",
       "    </tr>\n",
       "    <tr>\n",
       "      <th>5232</th>\n",
       "      <td>ffe5b0edbae4925bc9aac924d73647bb</td>\n",
       "      <td>3</td>\n",
       "    </tr>\n",
       "    <tr>\n",
       "      <th>5233</th>\n",
       "      <td>ffe6c331d8812a9dba92d01103b694e6</td>\n",
       "      <td>3</td>\n",
       "    </tr>\n",
       "    <tr>\n",
       "      <th>5234</th>\n",
       "      <td>ffeeac3eeb1135973c22d025a10daa16</td>\n",
       "      <td>4</td>\n",
       "    </tr>\n",
       "    <tr>\n",
       "      <th>5235</th>\n",
       "      <td>fff700bbf6650c5adf83273166da6d58</td>\n",
       "      <td>1</td>\n",
       "    </tr>\n",
       "  </tbody>\n",
       "</table>\n",
       "<p>5236 rows × 2 columns</p>\n",
       "</div>"
      ],
      "text/plain": [
       "                              order_id  total\n",
       "0     001ef94c50c71cb0e674b6293e9b6068      5\n",
       "1     002b6dcb32fef90ebb1cb691afe6a413      2\n",
       "2     002f97bd7dad0d275d8511436c18b572      1\n",
       "3     0031746e47016a88e7787ce3538aef6f     16\n",
       "4     007cc93f200b8a4257e57a96b1af90d5      1\n",
       "...                                ...    ...\n",
       "5231  ffde425b5643adaad04172cb0c1e7aca      1\n",
       "5232  ffe5b0edbae4925bc9aac924d73647bb      3\n",
       "5233  ffe6c331d8812a9dba92d01103b694e6      3\n",
       "5234  ffeeac3eeb1135973c22d025a10daa16      4\n",
       "5235  fff700bbf6650c5adf83273166da6d58      1\n",
       "\n",
       "[5236 rows x 2 columns]"
      ]
     },
     "execution_count": 19,
     "metadata": {},
     "output_type": "execute_result"
    }
   ],
   "source": [
    "# Validando productos sin existencias en la ruta realizada por el picker\n",
    "product_order[product_order['quantity_found'] == 0].groupby('order_id').product_id.size().reset_index(name = 'total')"
   ]
  },
  {
   "cell_type": "code",
   "execution_count": 20,
   "id": "13c81a0e-aa69-4394-b68f-a1a5f5283bda",
   "metadata": {
    "id": "13c81a0e-aa69-4394-b68f-a1a5f5283bda",
    "outputId": "f17b386b-e67e-46bf-c483-3535d72d126a",
    "tags": []
   },
   "outputs": [
    {
     "name": "stdout",
     "output_type": "stream",
     "text": [
      "\n",
      " revision dataset: product_order\n"
     ]
    },
    {
     "data": {
      "text/html": [
       "<div>\n",
       "<style scoped>\n",
       "    .dataframe tbody tr th:only-of-type {\n",
       "        vertical-align: middle;\n",
       "    }\n",
       "\n",
       "    .dataframe tbody tr th {\n",
       "        vertical-align: top;\n",
       "    }\n",
       "\n",
       "    .dataframe thead th {\n",
       "        text-align: right;\n",
       "    }\n",
       "</style>\n",
       "<table border=\"1\" class=\"dataframe\">\n",
       "  <thead>\n",
       "    <tr style=\"text-align: right;\">\n",
       "      <th></th>\n",
       "      <th>order_id</th>\n",
       "      <th>product_id</th>\n",
       "      <th>quantity</th>\n",
       "      <th>quantity_found</th>\n",
       "      <th>buy_unit</th>\n",
       "    </tr>\n",
       "  </thead>\n",
       "  <tbody>\n",
       "    <tr>\n",
       "      <th>total_missing</th>\n",
       "      <td>0.0</td>\n",
       "      <td>0.0</td>\n",
       "      <td>0.0</td>\n",
       "      <td>0.0</td>\n",
       "      <td>0.0</td>\n",
       "    </tr>\n",
       "    <tr>\n",
       "      <th>percent_missing</th>\n",
       "      <td>0.0</td>\n",
       "      <td>0.0</td>\n",
       "      <td>0.0</td>\n",
       "      <td>0.0</td>\n",
       "      <td>0.0</td>\n",
       "    </tr>\n",
       "  </tbody>\n",
       "</table>\n",
       "</div>"
      ],
      "text/plain": [
       "                 order_id  product_id  quantity  quantity_found  buy_unit\n",
       "total_missing         0.0         0.0       0.0             0.0       0.0\n",
       "percent_missing       0.0         0.0       0.0             0.0       0.0"
      ]
     },
     "metadata": {},
     "output_type": "display_data"
    },
    {
     "data": {
      "text/plain": [
       "<AxesSubplot:>"
      ]
     },
     "execution_count": 20,
     "metadata": {},
     "output_type": "execute_result"
    },
    {
     "data": {
      "image/png": "[encoded data removed]",
      "text/plain": [
       "<Figure size 1000x200 with 2 Axes>"
      ]
     },
     "metadata": {},
     "output_type": "display_data"
    }
   ],
   "source": [
    "print(\"\\n revision dataset: product_order\")\n",
    "# Usamos la función option_context para establecer el número máximo de columnas para mostrar\n",
    "with option_context(\"display.max_columns\", None):\n",
    "# Usamos la función de visualización para mostrar las primeras 5 filas de los datos\n",
    "    display(countNaNDA(product_order))\n",
    "msno.matrix(product_order, figsize = (10, 2))"
   ]
  },
  {
   "cell_type": "markdown",
   "id": "42f39d04-091a-4037-8b9f-5a3edb3700ae",
   "metadata": {
    "id": "42f39d04-091a-4037-8b9f-5a3edb3700ae"
   },
   "source": [
    "## dataset purchase_order\n",
    "1. ¿Los atributos de tipo de coordenadas, tienen una estructura correcta? <br>\n",
    "1. ¿Los atributos de tipo tiempo (date, datetime, time, etc.), tienen una estructura correcta? <br>\n",
    "1. ¿Qué valores tiene el atributo `dow`?<br>\n",
    "1. ¿Existe alguna relación entre el `picker_id` y el `driver_id`? <br>\n",
    "1. ¿Tiene valores perdidos? <br>\n",
    "1. ¿Los atributos de tipo de coordenadas, tienen valores positivos y negativos? <br>"
   ]
  },
  {
   "cell_type": "code",
   "execution_count": 21,
   "id": "86e0d68e-5707-428d-884e-dc7ea47e52bf",
   "metadata": {
    "id": "86e0d68e-5707-428d-884e-dc7ea47e52bf",
    "outputId": "f1385338-30e0-48e5-9329-43653481e28c"
   },
   "outputs": [
    {
     "data": {
      "text/html": [
       "<div>\n",
       "<style scoped>\n",
       "    .dataframe tbody tr th:only-of-type {\n",
       "        vertical-align: middle;\n",
       "    }\n",
       "\n",
       "    .dataframe tbody tr th {\n",
       "        vertical-align: top;\n",
       "    }\n",
       "\n",
       "    .dataframe thead th {\n",
       "        text-align: right;\n",
       "    }\n",
       "</style>\n",
       "<table border=\"1\" class=\"dataframe\">\n",
       "  <thead>\n",
       "    <tr style=\"text-align: right;\">\n",
       "      <th></th>\n",
       "      <th>lat</th>\n",
       "      <th>lng</th>\n",
       "    </tr>\n",
       "  </thead>\n",
       "  <tbody>\n",
       "    <tr>\n",
       "      <th>956</th>\n",
       "      <td>18.186.994.166.387.000</td>\n",
       "      <td>-10.036.174.630.168.500</td>\n",
       "    </tr>\n",
       "    <tr>\n",
       "      <th>6705</th>\n",
       "      <td>18.290.013.956.131.300</td>\n",
       "      <td>-10.035.312.802.779.700</td>\n",
       "    </tr>\n",
       "    <tr>\n",
       "      <th>2048</th>\n",
       "      <td>18.288.591.159.262.100</td>\n",
       "      <td>-10.030.867.984.992.300</td>\n",
       "    </tr>\n",
       "    <tr>\n",
       "      <th>7007</th>\n",
       "      <td>1.822.980.053.332.490</td>\n",
       "      <td>-10.040.732.437.661.000</td>\n",
       "    </tr>\n",
       "    <tr>\n",
       "      <th>1883</th>\n",
       "      <td>1.827.511.240.269.180</td>\n",
       "      <td>-10.030.801.412.827.900</td>\n",
       "    </tr>\n",
       "  </tbody>\n",
       "</table>\n",
       "</div>"
      ],
      "text/plain": [
       "                         lat                      lng\n",
       "956   18.186.994.166.387.000  -10.036.174.630.168.500\n",
       "6705  18.290.013.956.131.300  -10.035.312.802.779.700\n",
       "2048  18.288.591.159.262.100  -10.030.867.984.992.300\n",
       "7007   1.822.980.053.332.490  -10.040.732.437.661.000\n",
       "1883   1.827.511.240.269.180  -10.030.801.412.827.900"
      ]
     },
     "execution_count": 21,
     "metadata": {},
     "output_type": "execute_result"
    }
   ],
   "source": [
    "purchase_order[['lat', 'lng']].sample(n = 5)"
   ]
  },
  {
   "cell_type": "markdown",
   "id": "f28ac3aa-bcf4-4980-a890-13a6d907732c",
   "metadata": {
    "id": "f28ac3aa-bcf4-4980-a890-13a6d907732c"
   },
   "source": [
    "Podemos apreciar que los atributos de coordenadas se encuentran en un formato incorrecto, por lo que se debe aplicar un tratamiento de datos."
   ]
  },
  {
   "cell_type": "code",
   "execution_count": 22,
   "id": "e3a25fa2-c98c-4453-932b-c5e50ccda2f5",
   "metadata": {
    "id": "e3a25fa2-c98c-4453-932b-c5e50ccda2f5",
    "outputId": "166b2fba-94a5-403f-c511-801b452e2775"
   },
   "outputs": [
    {
     "data": {
      "text/html": [
       "<div>\n",
       "<style scoped>\n",
       "    .dataframe tbody tr th:only-of-type {\n",
       "        vertical-align: middle;\n",
       "    }\n",
       "\n",
       "    .dataframe tbody tr th {\n",
       "        vertical-align: top;\n",
       "    }\n",
       "\n",
       "    .dataframe thead th {\n",
       "        text-align: right;\n",
       "    }\n",
       "</style>\n",
       "<table border=\"1\" class=\"dataframe\">\n",
       "  <thead>\n",
       "    <tr style=\"text-align: right;\">\n",
       "      <th></th>\n",
       "      <th>promised_time</th>\n",
       "      <th>promised_time</th>\n",
       "      <th>promised_time</th>\n",
       "    </tr>\n",
       "  </thead>\n",
       "  <tbody>\n",
       "    <tr>\n",
       "      <th>5631</th>\n",
       "      <td>14:00:00</td>\n",
       "      <td>14:00:00</td>\n",
       "      <td>14:00:00</td>\n",
       "    </tr>\n",
       "    <tr>\n",
       "      <th>6443</th>\n",
       "      <td>19:50:00</td>\n",
       "      <td>19:50:00</td>\n",
       "      <td>19:50:00</td>\n",
       "    </tr>\n",
       "    <tr>\n",
       "      <th>1837</th>\n",
       "      <td>22:00:00</td>\n",
       "      <td>22:00:00</td>\n",
       "      <td>22:00:00</td>\n",
       "    </tr>\n",
       "    <tr>\n",
       "      <th>6076</th>\n",
       "      <td>10:00:00</td>\n",
       "      <td>10:00:00</td>\n",
       "      <td>10:00:00</td>\n",
       "    </tr>\n",
       "    <tr>\n",
       "      <th>5904</th>\n",
       "      <td>19:50:00</td>\n",
       "      <td>19:50:00</td>\n",
       "      <td>19:50:00</td>\n",
       "    </tr>\n",
       "  </tbody>\n",
       "</table>\n",
       "</div>"
      ],
      "text/plain": [
       "     promised_time promised_time promised_time\n",
       "5631      14:00:00      14:00:00      14:00:00\n",
       "6443      19:50:00      19:50:00      19:50:00\n",
       "1837      22:00:00      22:00:00      22:00:00\n",
       "6076      10:00:00      10:00:00      10:00:00\n",
       "5904      19:50:00      19:50:00      19:50:00"
      ]
     },
     "execution_count": 22,
     "metadata": {},
     "output_type": "execute_result"
    }
   ],
   "source": [
    "purchase_order[['promised_time', 'promised_time', 'promised_time']].sample(n = 5)"
   ]
  },
  {
   "cell_type": "markdown",
   "id": "6d08a799-c154-49ee-82e1-a5b697111256",
   "metadata": {
    "id": "6d08a799-c154-49ee-82e1-a5b697111256"
   },
   "source": [
    "Podemos apreciar que los atributos `promised_time` y `promised_time` se encuentran en formato **HH:MM:SS** y que HH varia entre 0 y 23. El atributo `promised_time` se debe normalizar, debido a que tiene un formato incorrecto."
   ]
  },
  {
   "cell_type": "code",
   "execution_count": 23,
   "id": "6f93481e-f865-4e41-9d00-1e435d8a0284",
   "metadata": {
    "id": "6f93481e-f865-4e41-9d00-1e435d8a0284",
    "outputId": "bcff77ea-cef5-47d5-faa7-2935739b2213"
   },
   "outputs": [
    {
     "name": "stdout",
     "output_type": "stream",
     "text": [
      "El atributo dow contiene los valores 0, 1, 2, 3, 4, 5, 6.\n",
      "Estos son consistentes con la informacion entregada.\n"
     ]
    }
   ],
   "source": [
    "print(\"El atributo dow contiene los valores {}.\\nEstos son consistentes con la informacion entregada.\".format(', '.join(purchase_order.dow.sort_values().unique().astype(str))))"
   ]
  },
  {
   "cell_type": "code",
   "execution_count": 24,
   "id": "2364e344-1615-478c-8ee3-1fa836afbab3",
   "metadata": {
    "id": "2364e344-1615-478c-8ee3-1fa836afbab3"
   },
   "outputs": [],
   "source": [
    "purchase_order['same_picker_shopper'] = where(purchase_order.picker_id == purchase_order.driver_id, 1, 0)"
   ]
  },
  {
   "cell_type": "code",
   "execution_count": 25,
   "id": "19ed1254-1f1d-45b4-8954-f36531dc6ee3",
   "metadata": {
    "id": "19ed1254-1f1d-45b4-8954-f36531dc6ee3",
    "outputId": "77ccd3c7-b458-459c-9679-4a9d8a3c7753",
    "tags": []
   },
   "outputs": [
    {
     "name": "stdout",
     "output_type": "stream",
     "text": [
      "Existen 7079 ordenes donde se presenta el mismo picker_id y driver_id, a falta de un dataset de driver_id, podemos inferir que la misma persona que prepara el pedido realiza el reparto.\n"
     ]
    }
   ],
   "source": [
    "print(\"Existen {} ordenes donde se presenta el mismo picker_id y driver_id, a falta de un dataset de driver_id, podemos inferir que la misma persona que prepara el pedido realiza el reparto.\"\n",
    "      .format(purchase_order[purchase_order['same_picker_shopper'] == 1]['same_picker_shopper'].count().astype(str)))"
   ]
  },
  {
   "cell_type": "code",
   "execution_count": 26,
   "id": "08436aea-4ce2-4340-87f3-19f4cf73d762",
   "metadata": {
    "id": "08436aea-4ce2-4340-87f3-19f4cf73d762",
    "outputId": "a2f401e8-7f38-4652-afad-8bcb1549e66a"
   },
   "outputs": [
    {
     "name": "stdout",
     "output_type": "stream",
     "text": [
      "Existen 216 ordenes donde se presenta distinto picker_id y driver_id, podemos inferir que son distintas personas, una prepara el pedido y otra realiza el reparto.\n"
     ]
    }
   ],
   "source": [
    "print(\"Existen {} ordenes donde se presenta distinto picker_id y driver_id, podemos inferir que son distintas personas, una prepara el pedido y otra realiza el reparto.\"\n",
    "      .format(purchase_order[purchase_order['same_picker_shopper'] == 0]['same_picker_shopper'].count().astype(str)))"
   ]
  },
  {
   "cell_type": "code",
   "execution_count": 27,
   "id": "5f78a621-c7cd-42d5-9936-602f02963174",
   "metadata": {
    "id": "5f78a621-c7cd-42d5-9936-602f02963174",
    "outputId": "4821d758-51aa-4ef6-940b-0a4e022da9ae"
   },
   "outputs": [
    {
     "name": "stdout",
     "output_type": "stream",
     "text": [
      "Existen 189 picker_id y driver_id unicos y distintos que perticipan en el mismo pedido\n"
     ]
    }
   ],
   "source": [
    "print(\"Existen {} picker_id y driver_id unicos y distintos que perticipan en el mismo pedido\"\n",
    "      .format(purchase_order[purchase_order['same_picker_shopper'] == 0][['picker_id', 'driver_id']].drop_duplicates().shape[0]))"
   ]
  },
  {
   "cell_type": "code",
   "execution_count": 28,
   "id": "8b908e2d-ac07-44dc-8c28-5ed397a11f31",
   "metadata": {
    "id": "8b908e2d-ac07-44dc-8c28-5ed397a11f31",
    "outputId": "b589ea84-e10c-4606-ecbb-d660b2a00776"
   },
   "outputs": [
    {
     "name": "stdout",
     "output_type": "stream",
     "text": [
      "Existen 594 picker_id y driver_id unicos e iguales que perticipan en el mismo pedido\n"
     ]
    }
   ],
   "source": [
    "print(\"Existen {} picker_id y driver_id unicos e iguales que perticipan en el mismo pedido\"\n",
    "      .format(purchase_order[purchase_order['same_picker_shopper'] == 1][['picker_id', 'driver_id']].drop_duplicates().shape[0]))"
   ]
  },
  {
   "cell_type": "code",
   "execution_count": 29,
   "id": "9b1fd47c-37b2-4fef-8313-55afd830968d",
   "metadata": {
    "id": "9b1fd47c-37b2-4fef-8313-55afd830968d",
    "outputId": "e997e2ef-3574-42c6-d295-acc5c220fe76",
    "tags": []
   },
   "outputs": [
    {
     "name": "stdout",
     "output_type": "stream",
     "text": [
      "\n",
      " revision dataset: purchase_order\n"
     ]
    },
    {
     "data": {
      "text/html": [
       "<div>\n",
       "<style scoped>\n",
       "    .dataframe tbody tr th:only-of-type {\n",
       "        vertical-align: middle;\n",
       "    }\n",
       "\n",
       "    .dataframe tbody tr th {\n",
       "        vertical-align: top;\n",
       "    }\n",
       "\n",
       "    .dataframe thead th {\n",
       "        text-align: right;\n",
       "    }\n",
       "</style>\n",
       "<table border=\"1\" class=\"dataframe\">\n",
       "  <thead>\n",
       "    <tr style=\"text-align: right;\">\n",
       "      <th></th>\n",
       "      <th>order_id</th>\n",
       "      <th>lat</th>\n",
       "      <th>lng</th>\n",
       "      <th>dow</th>\n",
       "      <th>promised_time</th>\n",
       "      <th>actual_time</th>\n",
       "      <th>on_demand</th>\n",
       "      <th>picker_id</th>\n",
       "      <th>driver_id</th>\n",
       "      <th>store_branch_id</th>\n",
       "      <th>total_minutes</th>\n",
       "      <th>same_picker_shopper</th>\n",
       "    </tr>\n",
       "  </thead>\n",
       "  <tbody>\n",
       "    <tr>\n",
       "      <th>total_missing</th>\n",
       "      <td>0.0</td>\n",
       "      <td>0.0</td>\n",
       "      <td>0.0</td>\n",
       "      <td>0.0</td>\n",
       "      <td>0.0</td>\n",
       "      <td>0.0</td>\n",
       "      <td>0.0</td>\n",
       "      <td>0.0</td>\n",
       "      <td>0.0</td>\n",
       "      <td>0.0</td>\n",
       "      <td>752.000</td>\n",
       "      <td>0.0</td>\n",
       "    </tr>\n",
       "    <tr>\n",
       "      <th>percent_missing</th>\n",
       "      <td>0.0</td>\n",
       "      <td>0.0</td>\n",
       "      <td>0.0</td>\n",
       "      <td>0.0</td>\n",
       "      <td>0.0</td>\n",
       "      <td>0.0</td>\n",
       "      <td>0.0</td>\n",
       "      <td>0.0</td>\n",
       "      <td>0.0</td>\n",
       "      <td>0.0</td>\n",
       "      <td>10.308</td>\n",
       "      <td>0.0</td>\n",
       "    </tr>\n",
       "  </tbody>\n",
       "</table>\n",
       "</div>"
      ],
      "text/plain": [
       "                 order_id  lat  lng  dow  promised_time  actual_time  \\\n",
       "total_missing         0.0  0.0  0.0  0.0            0.0          0.0   \n",
       "percent_missing       0.0  0.0  0.0  0.0            0.0          0.0   \n",
       "\n",
       "                 on_demand  picker_id  driver_id  store_branch_id  \\\n",
       "total_missing          0.0        0.0        0.0              0.0   \n",
       "percent_missing        0.0        0.0        0.0              0.0   \n",
       "\n",
       "                 total_minutes  same_picker_shopper  \n",
       "total_missing          752.000                  0.0  \n",
       "percent_missing         10.308                  0.0  "
      ]
     },
     "metadata": {},
     "output_type": "display_data"
    },
    {
     "data": {
      "text/plain": [
       "<AxesSubplot:>"
      ]
     },
     "execution_count": 29,
     "metadata": {},
     "output_type": "execute_result"
    },
    {
     "data": {
      "image/png": "[encoded data removed]",
      "text/plain": [
       "<Figure size 1000x200 with 2 Axes>"
      ]
     },
     "metadata": {},
     "output_type": "display_data"
    }
   ],
   "source": [
    "print(\"\\n revision dataset: purchase_order\")\n",
    "# Usamos la función option_context para establecer el número máximo de columnas para mostrar\n",
    "with option_context(\"display.max_columns\", None):\n",
    "    # Usamos la función de visualización para mostrar las primeras 5 filas de los datos\n",
    "    display(countNaNDA(purchase_order))\n",
    "msno.matrix(purchase_order, figsize = (10, 2))"
   ]
  },
  {
   "cell_type": "markdown",
   "id": "6f4e2d08-7b20-4535-a988-71a3cdc48551",
   "metadata": {
    "id": "6f4e2d08-7b20-4535-a988-71a3cdc48551",
    "tags": []
   },
   "source": [
    "Para poder responder la pregunta: <br>\n",
    "- ¿Los atributos de tipo de coordnadas, tienen valores positivos y negativos? <br>\n",
    "    **R:** Debemos manipular un poco los valores de los atributos a analizar, para eso se procedera a eliminar los `.` y convertir a `int64` <br>"
   ]
  },
  {
   "cell_type": "code",
   "execution_count": 30,
   "id": "678530d2-59b4-4b9f-8f8a-1eacf543e467",
   "metadata": {
    "id": "678530d2-59b4-4b9f-8f8a-1eacf543e467"
   },
   "outputs": [],
   "source": [
    "purchase_order['lat'] = purchase_order['lat'].map(lambda x: x.replace('.', '')).astype('int64')\n",
    "purchase_order['lng'] = purchase_order['lng'].map(lambda x: x.replace('.', '')).astype('int64')"
   ]
  },
  {
   "cell_type": "code",
   "execution_count": 31,
   "id": "c01d9400-c7c8-4b19-afed-3d6213102e8d",
   "metadata": {
    "id": "c01d9400-c7c8-4b19-afed-3d6213102e8d",
    "jupyter": {
     "source_hidden": true
    },
    "outputId": "d81ef6b9-8fbd-4a21-8938-9909331a2141",
    "tags": []
   },
   "outputs": [
    {
     "name": "stdout",
     "output_type": "stream",
     "text": [
      "De un total de 7295 registros realizamos una inpeccion para revisar la latitud, se detecta que 7295 registros son mayores o igual a 0, mientras que 0 registros son menores a 0\n"
     ]
    }
   ],
   "source": [
    "print(\"De un total de {} registros realizamos una inpeccion para revisar la latitud, se detecta que {} registros son mayores o igual a 0, mientras que {} registros son menores a 0\"\n",
    "      .format(purchase_order.shape[0], purchase_order[purchase_order['lat'] >= 0].shape[0], purchase_order[purchase_order['lat'] < 0].shape[0]))"
   ]
  },
  {
   "cell_type": "code",
   "execution_count": 32,
   "id": "0f152f5e-db16-4cd6-a78c-685437495276",
   "metadata": {
    "id": "0f152f5e-db16-4cd6-a78c-685437495276",
    "outputId": "ef7b5f92-dd1b-4d52-a086-46410a4f73bd"
   },
   "outputs": [
    {
     "name": "stdout",
     "output_type": "stream",
     "text": [
      "De un total de 7295 registros realizamos una inpeccion para revisar la longitud, se detecta que 0 registros son mayores o igual a 0, mientras que 7295 registros son menores a 0\n"
     ]
    }
   ],
   "source": [
    "print(\"De un total de {} registros realizamos una inpeccion para revisar la longitud, se detecta que {} registros son mayores o igual a 0, mientras que {} registros son menores a 0\"\n",
    "      .format(purchase_order.shape[0], purchase_order[purchase_order['lng'] >= 0].shape[0], purchase_order[purchase_order['lng'] < 0].shape[0]))"
   ]
  },
  {
   "cell_type": "markdown",
   "id": "dbd4c49a-1020-41ff-a1ac-5e3bcf78aec5",
   "metadata": {
    "id": "dbd4c49a-1020-41ff-a1ac-5e3bcf78aec5"
   },
   "source": [
    "## dataset store\n",
    "1. ¿Los atributos de tipo de coordenadas, tienen una estructura correcta? <br>\n",
    "1. ¿Qué relacion existe entre `store` y `store_branch_id`?\n",
    "1. ¿Tiene valores perdidos? <br>\n",
    "1. ¿Los atributos de tipo de coordenadas, tienen valores positivos y negativos? <br>"
   ]
  },
  {
   "cell_type": "code",
   "execution_count": 33,
   "id": "28863d00-291b-4fa5-bf21-2a378b9700e1",
   "metadata": {
    "id": "28863d00-291b-4fa5-bf21-2a378b9700e1",
    "outputId": "2651decd-6854-4759-f3fb-4b8533efe3ec"
   },
   "outputs": [
    {
     "data": {
      "text/html": [
       "<div>\n",
       "<style scoped>\n",
       "    .dataframe tbody tr th:only-of-type {\n",
       "        vertical-align: middle;\n",
       "    }\n",
       "\n",
       "    .dataframe tbody tr th {\n",
       "        vertical-align: top;\n",
       "    }\n",
       "\n",
       "    .dataframe thead th {\n",
       "        text-align: right;\n",
       "    }\n",
       "</style>\n",
       "<table border=\"1\" class=\"dataframe\">\n",
       "  <thead>\n",
       "    <tr style=\"text-align: right;\">\n",
       "      <th></th>\n",
       "      <th>lat</th>\n",
       "      <th>lng</th>\n",
       "    </tr>\n",
       "  </thead>\n",
       "  <tbody>\n",
       "    <tr>\n",
       "      <th>84</th>\n",
       "      <td>1.836.874.155.493.370</td>\n",
       "      <td>-10.037.572.261.423.700</td>\n",
       "    </tr>\n",
       "    <tr>\n",
       "      <th>60</th>\n",
       "      <td>18.165.142.821.522.700</td>\n",
       "      <td>-10.030.664.196.226.900</td>\n",
       "    </tr>\n",
       "    <tr>\n",
       "      <th>25</th>\n",
       "      <td>1.823.190.132.492.320</td>\n",
       "      <td>-1.003.035.533.737.440</td>\n",
       "    </tr>\n",
       "    <tr>\n",
       "      <th>83</th>\n",
       "      <td>182.649.314.661.588</td>\n",
       "      <td>-10.039.841.461.287.000</td>\n",
       "    </tr>\n",
       "    <tr>\n",
       "      <th>23</th>\n",
       "      <td>18.365.107.934.767.300</td>\n",
       "      <td>-10.028.560.071.958.400</td>\n",
       "    </tr>\n",
       "  </tbody>\n",
       "</table>\n",
       "</div>"
      ],
      "text/plain": [
       "                       lat                      lng\n",
       "84   1.836.874.155.493.370  -10.037.572.261.423.700\n",
       "60  18.165.142.821.522.700  -10.030.664.196.226.900\n",
       "25   1.823.190.132.492.320   -1.003.035.533.737.440\n",
       "83     182.649.314.661.588  -10.039.841.461.287.000\n",
       "23  18.365.107.934.767.300  -10.028.560.071.958.400"
      ]
     },
     "execution_count": 33,
     "metadata": {},
     "output_type": "execute_result"
    }
   ],
   "source": [
    "store[['lat', 'lng']].sample(n = 5)"
   ]
  },
  {
   "cell_type": "markdown",
   "id": "5bb0db0e-0204-42f0-97e5-1d7f7200cf67",
   "metadata": {
    "id": "5bb0db0e-0204-42f0-97e5-1d7f7200cf67"
   },
   "source": [
    "Podemos apreciar que los atributos de coordenadas se encuentran en un formato incorrecto, por lo que se debe aplicar un tratamiento de datos."
   ]
  },
  {
   "cell_type": "code",
   "execution_count": 34,
   "id": "d8122a45-b590-4459-bcfd-c7458def3401",
   "metadata": {
    "id": "d8122a45-b590-4459-bcfd-c7458def3401",
    "outputId": "f0c16513-b147-42b3-f399-79b1c96d88a2"
   },
   "outputs": [
    {
     "data": {
      "text/html": [
       "<div>\n",
       "<style scoped>\n",
       "    .dataframe tbody tr th:only-of-type {\n",
       "        vertical-align: middle;\n",
       "    }\n",
       "\n",
       "    .dataframe tbody tr th {\n",
       "        vertical-align: top;\n",
       "    }\n",
       "\n",
       "    .dataframe thead th {\n",
       "        text-align: right;\n",
       "    }\n",
       "</style>\n",
       "<table border=\"1\" class=\"dataframe\">\n",
       "  <thead>\n",
       "    <tr style=\"text-align: right;\">\n",
       "      <th></th>\n",
       "      <th>store_branch_id</th>\n",
       "      <th>store</th>\n",
       "    </tr>\n",
       "  </thead>\n",
       "  <tbody>\n",
       "    <tr>\n",
       "      <th>0</th>\n",
       "      <td>cf0895f1e3beb8164f0a86e6f940ae56</td>\n",
       "      <td>c0b93cf93cf854981b8d6bd849eec4b0</td>\n",
       "    </tr>\n",
       "    <tr>\n",
       "      <th>1</th>\n",
       "      <td>3ddd4c29cab4178d89d549c6ba65c236</td>\n",
       "      <td>044d56734d20e04984d846dade6d39f3</td>\n",
       "    </tr>\n",
       "    <tr>\n",
       "      <th>2</th>\n",
       "      <td>e9763f24fd46d0b9e52d423207a87c3c</td>\n",
       "      <td>452ae015bf846e1d2932b7ea15720d64</td>\n",
       "    </tr>\n",
       "    <tr>\n",
       "      <th>3</th>\n",
       "      <td>49b7d60d6095a9f1129ce798102b62f4</td>\n",
       "      <td>6447951cd071f6f045fd4e6194920926</td>\n",
       "    </tr>\n",
       "    <tr>\n",
       "      <th>4</th>\n",
       "      <td>8f21cfda17b340aeee062220d0bee8e5</td>\n",
       "      <td>452ae015bf846e1d2932b7ea15720d64</td>\n",
       "    </tr>\n",
       "  </tbody>\n",
       "</table>\n",
       "</div>"
      ],
      "text/plain": [
       "                    store_branch_id                             store\n",
       "0  cf0895f1e3beb8164f0a86e6f940ae56  c0b93cf93cf854981b8d6bd849eec4b0\n",
       "1  3ddd4c29cab4178d89d549c6ba65c236  044d56734d20e04984d846dade6d39f3\n",
       "2  e9763f24fd46d0b9e52d423207a87c3c  452ae015bf846e1d2932b7ea15720d64\n",
       "3  49b7d60d6095a9f1129ce798102b62f4  6447951cd071f6f045fd4e6194920926\n",
       "4  8f21cfda17b340aeee062220d0bee8e5  452ae015bf846e1d2932b7ea15720d64"
      ]
     },
     "execution_count": 34,
     "metadata": {},
     "output_type": "execute_result"
    }
   ],
   "source": [
    "store[['store_branch_id', 'store']].head(n = 5)"
   ]
  },
  {
   "cell_type": "code",
   "execution_count": 35,
   "id": "62956582-c859-40ff-8f24-5074f5a5746f",
   "metadata": {
    "id": "62956582-c859-40ff-8f24-5074f5a5746f",
    "outputId": "aa8b9df7-2815-44c4-97be-1f84a0df5ef9"
   },
   "outputs": [
    {
     "data": {
      "text/html": [
       "<div>\n",
       "<style scoped>\n",
       "    .dataframe tbody tr th:only-of-type {\n",
       "        vertical-align: middle;\n",
       "    }\n",
       "\n",
       "    .dataframe tbody tr th {\n",
       "        vertical-align: top;\n",
       "    }\n",
       "\n",
       "    .dataframe thead th {\n",
       "        text-align: right;\n",
       "    }\n",
       "</style>\n",
       "<table border=\"1\" class=\"dataframe\">\n",
       "  <thead>\n",
       "    <tr style=\"text-align: right;\">\n",
       "      <th></th>\n",
       "      <th>store_branch_id</th>\n",
       "      <th>store</th>\n",
       "      <th>lat</th>\n",
       "      <th>lng</th>\n",
       "    </tr>\n",
       "  </thead>\n",
       "  <tbody>\n",
       "    <tr>\n",
       "      <th>0</th>\n",
       "      <td>cf0895f1e3beb8164f0a86e6f940ae56</td>\n",
       "      <td>c0b93cf93cf854981b8d6bd849eec4b0</td>\n",
       "      <td>18.160.308.413.602.800</td>\n",
       "      <td>-10.026.067.265.111.100</td>\n",
       "    </tr>\n",
       "  </tbody>\n",
       "</table>\n",
       "</div>"
      ],
      "text/plain": [
       "                    store_branch_id                             store  \\\n",
       "0  cf0895f1e3beb8164f0a86e6f940ae56  c0b93cf93cf854981b8d6bd849eec4b0   \n",
       "\n",
       "                      lat                      lng  \n",
       "0  18.160.308.413.602.800  -10.026.067.265.111.100  "
      ]
     },
     "execution_count": 35,
     "metadata": {},
     "output_type": "execute_result"
    }
   ],
   "source": [
    "store[store['store_branch_id'] == 'cf0895f1e3beb8164f0a86e6f940ae56']"
   ]
  },
  {
   "cell_type": "code",
   "execution_count": 36,
   "id": "0eb179a8-bfb2-4349-94be-b3f9b480c7f2",
   "metadata": {
    "id": "0eb179a8-bfb2-4349-94be-b3f9b480c7f2",
    "outputId": "338dfaa5-97c3-494f-adbe-d8f12ee594b0"
   },
   "outputs": [
    {
     "data": {
      "text/html": [
       "<div>\n",
       "<style scoped>\n",
       "    .dataframe tbody tr th:only-of-type {\n",
       "        vertical-align: middle;\n",
       "    }\n",
       "\n",
       "    .dataframe tbody tr th {\n",
       "        vertical-align: top;\n",
       "    }\n",
       "\n",
       "    .dataframe thead th {\n",
       "        text-align: right;\n",
       "    }\n",
       "</style>\n",
       "<table border=\"1\" class=\"dataframe\">\n",
       "  <thead>\n",
       "    <tr style=\"text-align: right;\">\n",
       "      <th></th>\n",
       "      <th>store_branch_id</th>\n",
       "      <th>store</th>\n",
       "      <th>lat</th>\n",
       "      <th>lng</th>\n",
       "    </tr>\n",
       "  </thead>\n",
       "  <tbody>\n",
       "    <tr>\n",
       "      <th>0</th>\n",
       "      <td>cf0895f1e3beb8164f0a86e6f940ae56</td>\n",
       "      <td>c0b93cf93cf854981b8d6bd849eec4b0</td>\n",
       "      <td>18.160.308.413.602.800</td>\n",
       "      <td>-10.026.067.265.111.100</td>\n",
       "    </tr>\n",
       "    <tr>\n",
       "      <th>16</th>\n",
       "      <td>fca97ea77e0dab3e3111d2fabf5d8b9d</td>\n",
       "      <td>c0b93cf93cf854981b8d6bd849eec4b0</td>\n",
       "      <td>1.823.107.417.063.180</td>\n",
       "      <td>-100.317.464.672.742</td>\n",
       "    </tr>\n",
       "    <tr>\n",
       "      <th>19</th>\n",
       "      <td>e67f4786f2429d047af4f12a9caa6cb1</td>\n",
       "      <td>c0b93cf93cf854981b8d6bd849eec4b0</td>\n",
       "      <td>18.237.641.099.820.400</td>\n",
       "      <td>-1.003.273.064.759.380</td>\n",
       "    </tr>\n",
       "    <tr>\n",
       "      <th>26</th>\n",
       "      <td>25b1e6be606fe62b5770a5bfaf25bfec</td>\n",
       "      <td>c0b93cf93cf854981b8d6bd849eec4b0</td>\n",
       "      <td>18.373.304.616.706.400</td>\n",
       "      <td>-10.041.115.283.045.200</td>\n",
       "    </tr>\n",
       "    <tr>\n",
       "      <th>38</th>\n",
       "      <td>d63b1919fe2cf76f494521dfa4389488</td>\n",
       "      <td>c0b93cf93cf854981b8d6bd849eec4b0</td>\n",
       "      <td>1.831.327.713.146.210</td>\n",
       "      <td>-10.036.062.199.825.000</td>\n",
       "    </tr>\n",
       "    <tr>\n",
       "      <th>42</th>\n",
       "      <td>98f1ed7ef085ea37c8c55c5c2fa71593</td>\n",
       "      <td>c0b93cf93cf854981b8d6bd849eec4b0</td>\n",
       "      <td>18.187.148.949.323.000</td>\n",
       "      <td>-10.035.173.619.197.300</td>\n",
       "    </tr>\n",
       "    <tr>\n",
       "      <th>52</th>\n",
       "      <td>df31bc775fd577864c647b176ad23382</td>\n",
       "      <td>c0b93cf93cf854981b8d6bd849eec4b0</td>\n",
       "      <td>18.217.433.099.402.400</td>\n",
       "      <td>-1.004.165.830.293.850</td>\n",
       "    </tr>\n",
       "    <tr>\n",
       "      <th>55</th>\n",
       "      <td>83c1570496a3ead7f4202afb827d59bb</td>\n",
       "      <td>c0b93cf93cf854981b8d6bd849eec4b0</td>\n",
       "      <td>18.285.241.293.837.600</td>\n",
       "      <td>-10.030.633.356.266.500</td>\n",
       "    </tr>\n",
       "    <tr>\n",
       "      <th>60</th>\n",
       "      <td>7c5c15309c5aecf4009261f4de305f6b</td>\n",
       "      <td>c0b93cf93cf854981b8d6bd849eec4b0</td>\n",
       "      <td>18.165.142.821.522.700</td>\n",
       "      <td>-10.030.664.196.226.900</td>\n",
       "    </tr>\n",
       "    <tr>\n",
       "      <th>94</th>\n",
       "      <td>75d034354b7c54e65b50193f8f987386</td>\n",
       "      <td>c0b93cf93cf854981b8d6bd849eec4b0</td>\n",
       "      <td>1.829.185.581.810.960</td>\n",
       "      <td>-1.003.237.906.869.140</td>\n",
       "    </tr>\n",
       "    <tr>\n",
       "      <th>101</th>\n",
       "      <td>c0834724a130435823cd55b5c35803ce</td>\n",
       "      <td>c0b93cf93cf854981b8d6bd849eec4b0</td>\n",
       "      <td>1.826.055.744.841.670</td>\n",
       "      <td>-10.041.326.142.825.800</td>\n",
       "    </tr>\n",
       "    <tr>\n",
       "      <th>109</th>\n",
       "      <td>b0d9d8c3b55ee9cec6ad47eabdd124e4</td>\n",
       "      <td>c0b93cf93cf854981b8d6bd849eec4b0</td>\n",
       "      <td>18.300.162.479.844.300</td>\n",
       "      <td>-10.034.813.128.844.700</td>\n",
       "    </tr>\n",
       "  </tbody>\n",
       "</table>\n",
       "</div>"
      ],
      "text/plain": [
       "                      store_branch_id                             store  \\\n",
       "0    cf0895f1e3beb8164f0a86e6f940ae56  c0b93cf93cf854981b8d6bd849eec4b0   \n",
       "16   fca97ea77e0dab3e3111d2fabf5d8b9d  c0b93cf93cf854981b8d6bd849eec4b0   \n",
       "19   e67f4786f2429d047af4f12a9caa6cb1  c0b93cf93cf854981b8d6bd849eec4b0   \n",
       "26   25b1e6be606fe62b5770a5bfaf25bfec  c0b93cf93cf854981b8d6bd849eec4b0   \n",
       "38   d63b1919fe2cf76f494521dfa4389488  c0b93cf93cf854981b8d6bd849eec4b0   \n",
       "42   98f1ed7ef085ea37c8c55c5c2fa71593  c0b93cf93cf854981b8d6bd849eec4b0   \n",
       "52   df31bc775fd577864c647b176ad23382  c0b93cf93cf854981b8d6bd849eec4b0   \n",
       "55   83c1570496a3ead7f4202afb827d59bb  c0b93cf93cf854981b8d6bd849eec4b0   \n",
       "60   7c5c15309c5aecf4009261f4de305f6b  c0b93cf93cf854981b8d6bd849eec4b0   \n",
       "94   75d034354b7c54e65b50193f8f987386  c0b93cf93cf854981b8d6bd849eec4b0   \n",
       "101  c0834724a130435823cd55b5c35803ce  c0b93cf93cf854981b8d6bd849eec4b0   \n",
       "109  b0d9d8c3b55ee9cec6ad47eabdd124e4  c0b93cf93cf854981b8d6bd849eec4b0   \n",
       "\n",
       "                        lat                      lng  \n",
       "0    18.160.308.413.602.800  -10.026.067.265.111.100  \n",
       "16    1.823.107.417.063.180     -100.317.464.672.742  \n",
       "19   18.237.641.099.820.400   -1.003.273.064.759.380  \n",
       "26   18.373.304.616.706.400  -10.041.115.283.045.200  \n",
       "38    1.831.327.713.146.210  -10.036.062.199.825.000  \n",
       "42   18.187.148.949.323.000  -10.035.173.619.197.300  \n",
       "52   18.217.433.099.402.400   -1.004.165.830.293.850  \n",
       "55   18.285.241.293.837.600  -10.030.633.356.266.500  \n",
       "60   18.165.142.821.522.700  -10.030.664.196.226.900  \n",
       "94    1.829.185.581.810.960   -1.003.237.906.869.140  \n",
       "101   1.826.055.744.841.670  -10.041.326.142.825.800  \n",
       "109  18.300.162.479.844.300  -10.034.813.128.844.700  "
      ]
     },
     "execution_count": 36,
     "metadata": {},
     "output_type": "execute_result"
    }
   ],
   "source": [
    "store[store['store'] == 'c0b93cf93cf854981b8d6bd849eec4b0']"
   ]
  },
  {
   "cell_type": "markdown",
   "id": "a46f38bd-78a0-4fa6-a37f-657f365856ed",
   "metadata": {
    "id": "a46f38bd-78a0-4fa6-a37f-657f365856ed"
   },
   "source": [
    "Mediante una inspeccion visual, podemos verificar que por cada `store` existe al menos 1 `store_branch_id`, esto concuerda con la referencia que hace el nombre de cada atributo, en donde uno es la tienda y el otro es la sucursal."
   ]
  },
  {
   "cell_type": "code",
   "execution_count": 37,
   "id": "630e2f27-aa2e-4eae-8cfc-82062609c6e0",
   "metadata": {
    "id": "630e2f27-aa2e-4eae-8cfc-82062609c6e0",
    "outputId": "81dd4077-2f1b-420f-db40-f0b3d2c7906d",
    "tags": []
   },
   "outputs": [
    {
     "name": "stdout",
     "output_type": "stream",
     "text": [
      "\n",
      " revision dataset: store\n"
     ]
    },
    {
     "data": {
      "text/html": [
       "<div>\n",
       "<style scoped>\n",
       "    .dataframe tbody tr th:only-of-type {\n",
       "        vertical-align: middle;\n",
       "    }\n",
       "\n",
       "    .dataframe tbody tr th {\n",
       "        vertical-align: top;\n",
       "    }\n",
       "\n",
       "    .dataframe thead th {\n",
       "        text-align: right;\n",
       "    }\n",
       "</style>\n",
       "<table border=\"1\" class=\"dataframe\">\n",
       "  <thead>\n",
       "    <tr style=\"text-align: right;\">\n",
       "      <th></th>\n",
       "      <th>store_branch_id</th>\n",
       "      <th>store</th>\n",
       "      <th>lat</th>\n",
       "      <th>lng</th>\n",
       "    </tr>\n",
       "  </thead>\n",
       "  <tbody>\n",
       "    <tr>\n",
       "      <th>total_missing</th>\n",
       "      <td>0.0</td>\n",
       "      <td>0.0</td>\n",
       "      <td>0.0</td>\n",
       "      <td>0.0</td>\n",
       "    </tr>\n",
       "    <tr>\n",
       "      <th>percent_missing</th>\n",
       "      <td>0.0</td>\n",
       "      <td>0.0</td>\n",
       "      <td>0.0</td>\n",
       "      <td>0.0</td>\n",
       "    </tr>\n",
       "  </tbody>\n",
       "</table>\n",
       "</div>"
      ],
      "text/plain": [
       "                 store_branch_id  store  lat  lng\n",
       "total_missing                0.0    0.0  0.0  0.0\n",
       "percent_missing              0.0    0.0  0.0  0.0"
      ]
     },
     "metadata": {},
     "output_type": "display_data"
    },
    {
     "data": {
      "text/plain": [
       "<AxesSubplot:>"
      ]
     },
     "execution_count": 37,
     "metadata": {},
     "output_type": "execute_result"
    },
    {
     "data": {
      "image/png": "[encoded data removed]",
      "text/plain": [
       "<Figure size 1000x200 with 2 Axes>"
      ]
     },
     "metadata": {},
     "output_type": "display_data"
    }
   ],
   "source": [
    "print(\"\\n revision dataset: store\")\n",
    "# Usamos la función option_context para establecer el número máximo de columnas para mostrar\n",
    "with option_context(\"display.max_columns\", None):\n",
    "    # Usamos la función de visualización para mostrar las primeras 5 filas de los datos\n",
    "    display(countNaNDA(store))\n",
    "msno.matrix(store, figsize = (10, 2))"
   ]
  },
  {
   "cell_type": "markdown",
   "id": "5c30b61e-8085-40a2-a999-ce42e9f3bff0",
   "metadata": {
    "id": "5c30b61e-8085-40a2-a999-ce42e9f3bff0",
    "tags": []
   },
   "source": [
    "Para poder responder la pregunta: <br>\n",
    "- ¿Los atributos de tipo de coordenadas, tienen valores positivos y negativos? <br>\n",
    "    **R:** Debemos manipular un poco los valores de los atributos a analizar, para eso se procedera a eliminar los `.` y convertir a `int64` <br>"
   ]
  },
  {
   "cell_type": "code",
   "execution_count": 38,
   "id": "e9e92e81-2494-4f32-b060-e8c6f6f59317",
   "metadata": {
    "id": "e9e92e81-2494-4f32-b060-e8c6f6f59317"
   },
   "outputs": [],
   "source": [
    "store['lat'] = store['lat'].map(lambda x: x.replace('.', '')).astype('int64')\n",
    "store['lng'] = store['lng'].map(lambda x: x.replace('.', '')).astype('int64')"
   ]
  },
  {
   "cell_type": "code",
   "execution_count": 39,
   "id": "914653c9-0f2e-4746-b0d0-3c6f016e6380",
   "metadata": {
    "id": "914653c9-0f2e-4746-b0d0-3c6f016e6380",
    "outputId": "0dc81bd5-a7af-47a5-f63e-c4437875fd88"
   },
   "outputs": [
    {
     "name": "stdout",
     "output_type": "stream",
     "text": [
      "De un total de 113 registros realizamos una inspeccion para revisar la latitud, se detecta que 113 registros son mayores o igual a 0, mientras que 0 registros son menores a 0\n"
     ]
    }
   ],
   "source": [
    "print(\"De un total de {} registros realizamos una inspeccion para revisar la latitud, se detecta que {} registros son mayores o igual a 0, mientras que {} registros son menores a 0\"\n",
    "      .format(store.shape[0], store[store['lat'] >= 0].shape[0], store[store['lat'] < 0].shape[0]))"
   ]
  },
  {
   "cell_type": "code",
   "execution_count": 40,
   "id": "96b4bcb3-fd66-437f-a2cf-9235e6cce055",
   "metadata": {
    "id": "96b4bcb3-fd66-437f-a2cf-9235e6cce055",
    "outputId": "92aefa2c-6eae-4d74-fbe8-9e6c1505af87"
   },
   "outputs": [
    {
     "name": "stdout",
     "output_type": "stream",
     "text": [
      "De un total de 113 registros realizamos una inspeccion para revisar la longitud, se detecta que 0 registros son mayores o igual a 0, mientras que 113 registros son menores a 0\n"
     ]
    }
   ],
   "source": [
    "print(\"De un total de {} registros realizamos una inspeccion para revisar la longitud, se detecta que {} registros son mayores o igual a 0, mientras que {} registros son menores a 0\"\n",
    "      .format(store.shape[0], store[store['lng'] >= 0].shape[0], store[store['lng'] < 0].shape[0]))"
   ]
  },
  {
   "cell_type": "markdown",
   "id": "fee3d0c2-9248-4bdb-94cd-f43c60752dff",
   "metadata": {
    "id": "fee3d0c2-9248-4bdb-94cd-f43c60752dff"
   },
   "source": [
    "## dataset shopper\n",
    "1. ¿Cuántas categorías de `seniority` existen? <br>\n",
    "1. ¿Cuál es la distribucion de las categorías de `seniority`? <br>\n",
    "1. ¿Cuál es el intervalo de las distintas clasificaciones (notas)? <br>\n",
    "1. ¿Tiene valores perdidos? <br>"
   ]
  },
  {
   "cell_type": "code",
   "execution_count": 41,
   "id": "d706a57b-1898-4dfd-ad72-ff5e5a42d786",
   "metadata": {
    "id": "d706a57b-1898-4dfd-ad72-ff5e5a42d786",
    "outputId": "2eb4861a-a6ea-485d-a457-b537883be155"
   },
   "outputs": [
    {
     "name": "stdout",
     "output_type": "stream",
     "text": [
      "Se pueden apreciar las siguientes categorias: ADVANCED, INTERMEDIATE, REVIEW, BEGINNER\n"
     ]
    }
   ],
   "source": [
    "print(\"Se pueden apreciar las siguientes categorias: {}\".format(', '.join(shopper.seniority.unique())))"
   ]
  },
  {
   "cell_type": "code",
   "execution_count": 42,
   "id": "c2fd4e07-283e-416b-b3b9-ef8265651dde",
   "metadata": {
    "id": "c2fd4e07-283e-416b-b3b9-ef8265651dde",
    "outputId": "42d32bc8-177a-42f3-a23c-b1cf1d17b810"
   },
   "outputs": [
    {
     "data": {
      "text/html": [
       "<div>\n",
       "<style scoped>\n",
       "    .dataframe tbody tr th:only-of-type {\n",
       "        vertical-align: middle;\n",
       "    }\n",
       "\n",
       "    .dataframe tbody tr th {\n",
       "        vertical-align: top;\n",
       "    }\n",
       "\n",
       "    .dataframe thead th {\n",
       "        text-align: right;\n",
       "    }\n",
       "</style>\n",
       "<table border=\"1\" class=\"dataframe\">\n",
       "  <thead>\n",
       "    <tr style=\"text-align: right;\">\n",
       "      <th></th>\n",
       "      <th>seniority</th>\n",
       "      <th>total</th>\n",
       "    </tr>\n",
       "  </thead>\n",
       "  <tbody>\n",
       "    <tr>\n",
       "      <th>0</th>\n",
       "      <td>ADVANCED</td>\n",
       "      <td>268</td>\n",
       "    </tr>\n",
       "    <tr>\n",
       "      <th>2</th>\n",
       "      <td>INTERMEDIATE</td>\n",
       "      <td>204</td>\n",
       "    </tr>\n",
       "    <tr>\n",
       "      <th>3</th>\n",
       "      <td>REVIEW</td>\n",
       "      <td>99</td>\n",
       "    </tr>\n",
       "    <tr>\n",
       "      <th>1</th>\n",
       "      <td>BEGINNER</td>\n",
       "      <td>29</td>\n",
       "    </tr>\n",
       "  </tbody>\n",
       "</table>\n",
       "</div>"
      ],
      "text/plain": [
       "      seniority  total\n",
       "0      ADVANCED    268\n",
       "2  INTERMEDIATE    204\n",
       "3        REVIEW     99\n",
       "1      BEGINNER     29"
      ]
     },
     "execution_count": 42,
     "metadata": {},
     "output_type": "execute_result"
    }
   ],
   "source": [
    "shopper[['seniority']].groupby('seniority').size().reset_index(name = 'total').sort_values('total', ascending = False)"
   ]
  },
  {
   "cell_type": "code",
   "execution_count": 43,
   "id": "6e6ddb74-94b9-4d5c-b3d1-e2eaaae03073",
   "metadata": {
    "id": "6e6ddb74-94b9-4d5c-b3d1-e2eaaae03073",
    "outputId": "e38b9c8d-4690-4690-c434-ad7d0af25bb3"
   },
   "outputs": [
    {
     "data": {
      "text/plain": [
       "<AxesSubplot:xlabel='seniority', ylabel='count'>"
      ]
     },
     "execution_count": 43,
     "metadata": {},
     "output_type": "execute_result"
    },
    {
     "data": {
      "image/png": "[encoded data removed]",
      "text/plain": [
       "<Figure size 640x480 with 1 Axes>"
      ]
     },
     "metadata": {},
     "output_type": "display_data"
    }
   ],
   "source": [
    "sns.countplot(x = 'seniority', data = shopper)"
   ]
  },
  {
   "cell_type": "code",
   "execution_count": 44,
   "id": "c603b26d-f06e-4b28-8104-2c1056a2cbcd",
   "metadata": {
    "id": "c603b26d-f06e-4b28-8104-2c1056a2cbcd",
    "outputId": "29df8ae2-98f0-4e6f-8e5d-0287aee15c98",
    "tags": []
   },
   "outputs": [
    {
     "name": "stdout",
     "output_type": "stream",
     "text": [
      "\n",
      " revision dataset: shopper\n"
     ]
    },
    {
     "data": {
      "text/html": [
       "<div>\n",
       "<style scoped>\n",
       "    .dataframe tbody tr th:only-of-type {\n",
       "        vertical-align: middle;\n",
       "    }\n",
       "\n",
       "    .dataframe tbody tr th {\n",
       "        vertical-align: top;\n",
       "    }\n",
       "\n",
       "    .dataframe thead th {\n",
       "        text-align: right;\n",
       "    }\n",
       "</style>\n",
       "<table border=\"1\" class=\"dataframe\">\n",
       "  <thead>\n",
       "    <tr style=\"text-align: right;\">\n",
       "      <th></th>\n",
       "      <th>shopper_id</th>\n",
       "      <th>seniority</th>\n",
       "      <th>found_rate</th>\n",
       "      <th>picking_speed</th>\n",
       "      <th>accepted_rate</th>\n",
       "      <th>rating</th>\n",
       "    </tr>\n",
       "  </thead>\n",
       "  <tbody>\n",
       "    <tr>\n",
       "      <th>total_missing</th>\n",
       "      <td>0.0</td>\n",
       "      <td>0.0</td>\n",
       "      <td>36.0</td>\n",
       "      <td>0.0</td>\n",
       "      <td>6.0</td>\n",
       "      <td>34.000</td>\n",
       "    </tr>\n",
       "    <tr>\n",
       "      <th>percent_missing</th>\n",
       "      <td>0.0</td>\n",
       "      <td>0.0</td>\n",
       "      <td>6.0</td>\n",
       "      <td>0.0</td>\n",
       "      <td>1.0</td>\n",
       "      <td>5.667</td>\n",
       "    </tr>\n",
       "  </tbody>\n",
       "</table>\n",
       "</div>"
      ],
      "text/plain": [
       "                 shopper_id  seniority  found_rate  picking_speed  \\\n",
       "total_missing           0.0        0.0        36.0            0.0   \n",
       "percent_missing         0.0        0.0         6.0            0.0   \n",
       "\n",
       "                 accepted_rate  rating  \n",
       "total_missing              6.0  34.000  \n",
       "percent_missing            1.0   5.667  "
      ]
     },
     "metadata": {},
     "output_type": "display_data"
    },
    {
     "data": {
      "text/plain": [
       "<AxesSubplot:>"
      ]
     },
     "execution_count": 44,
     "metadata": {},
     "output_type": "execute_result"
    },
    {
     "data": {
      "image/png": "[encoded data removed]",
      "text/plain": [
       "<Figure size 1000x200 with 2 Axes>"
      ]
     },
     "metadata": {},
     "output_type": "display_data"
    }
   ],
   "source": [
    "print(\"\\n revision dataset: shopper\")\n",
    "# Usamos la función option_context para establecer el número máximo de columnas para mostrar\n",
    "with option_context(\"display.max_columns\", None):\n",
    "# Usamos la función de visualización para mostrar las primeras 5 filas de los datos\n",
    "    display(countNaNDA(shopper))\n",
    "msno.matrix(shopper, figsize = (10, 2))"
   ]
  },
  {
   "cell_type": "code",
   "execution_count": null,
   "id": "cdc5ba1f-0df3-4754-866f-f4aed1a58e72",
   "metadata": {
    "id": "cdc5ba1f-0df3-4754-866f-f4aed1a58e72"
   },
   "outputs": [],
   "source": []
  },
  {
   "cell_type": "code",
   "execution_count": null,
   "id": "9decfe72-2cbb-492c-85b3-15e0b40cee8c",
   "metadata": {
    "id": "9decfe72-2cbb-492c-85b3-15e0b40cee8c"
   },
   "outputs": [],
   "source": []
  }
 ],
 "metadata": {
  "colab": {
   "provenance": []
  },
  "kernelspec": {
   "display_name": "Python 3 (ipykernel)",
   "language": "python",
   "name": "python3"
  },
  "language_info": {
   "codemirror_mode": {
    "name": "ipython",
    "version": 3
   },
   "file_extension": ".py",
   "mimetype": "text/x-python",
   "name": "python",
   "nbconvert_exporter": "python",
   "pygments_lexer": "ipython3",
   "version": "3.8.13"
  }
 },
 "nbformat": 4,
 "nbformat_minor": 5
}
